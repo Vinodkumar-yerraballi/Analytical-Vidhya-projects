{
 "cells": [
  {
   "cell_type": "markdown",
   "id": "d795c96b",
   "metadata": {},
   "source": [
    "# Dataset Link: https://www.kaggle.com/columbine/imdb-dataset-sentiment-analysis-in-csv-format\n",
    "\n",
    "Sentiment Analysis can help us finding out the mood and emotions of general a customer or reviewer and it helps in gathering the insightful information regarding the context. Sentiment Analysis is a process of analyzing data and classifying it based on the need of the research."
   ]
  },
  {
   "cell_type": "code",
   "execution_count": 1,
   "id": "c444f993",
   "metadata": {},
   "outputs": [
    {
     "name": "stderr",
     "output_type": "stream",
     "text": [
      "2022-09-04 20:16:12.450683: I tensorflow/core/util/util.cc:169] oneDNN custom operations are on. You may see slightly different numerical results due to floating-point round-off errors from different computation orders. To turn them off, set the environment variable `TF_ENABLE_ONEDNN_OPTS=0`.\n",
      "2022-09-04 20:16:12.463665: W tensorflow/stream_executor/platform/default/dso_loader.cc:64] Could not load dynamic library 'libcudart.so.11.0'; dlerror: libcudart.so.11.0: cannot open shared object file: No such file or directory\n",
      "2022-09-04 20:16:12.463681: I tensorflow/stream_executor/cuda/cudart_stub.cc:29] Ignore above cudart dlerror if you do not have a GPU set up on your machine.\n",
      "2022-09-04 20:16:14.168909: W tensorflow/stream_executor/platform/default/dso_loader.cc:64] Could not load dynamic library 'libcuda.so.1'; dlerror: libcuda.so.1: cannot open shared object file: No such file or directory\n",
      "2022-09-04 20:16:14.168936: W tensorflow/stream_executor/cuda/cuda_driver.cc:269] failed call to cuInit: UNKNOWN ERROR (303)\n",
      "2022-09-04 20:16:14.168955: I tensorflow/stream_executor/cuda/cuda_diagnostics.cc:156] kernel driver does not appear to be running on this host (vinod-Vostro-3400): /proc/driver/nvidia/version does not exist\n"
     ]
    }
   ],
   "source": [
    "#Import standard libraries\n",
    "import pandas as pd\n",
    "import numpy as np\n",
    "import matplotlib.pyplot as plt\n",
    "import seaborn as sns\n",
    "from textblob import TextBlob\n",
    "from nltk.tokenize.toktok import ToktokTokenizer\n",
    "import re\n",
    "from sklearn.linear_model import LogisticRegression\n",
    "from sklearn.model_selection import train_test_split\n",
    "import spacy\n",
    "nlp = spacy.load('en_core_web_sm', disable=['ner'])"
   ]
  },
  {
   "cell_type": "markdown",
   "id": "4e731c29",
   "metadata": {},
   "source": [
    "# Load the data"
   ]
  },
  {
   "cell_type": "code",
   "execution_count": 2,
   "id": "915f693c",
   "metadata": {},
   "outputs": [
    {
     "data": {
      "text/html": [
       "<div>\n",
       "<style scoped>\n",
       "    .dataframe tbody tr th:only-of-type {\n",
       "        vertical-align: middle;\n",
       "    }\n",
       "\n",
       "    .dataframe tbody tr th {\n",
       "        vertical-align: top;\n",
       "    }\n",
       "\n",
       "    .dataframe thead th {\n",
       "        text-align: right;\n",
       "    }\n",
       "</style>\n",
       "<table border=\"1\" class=\"dataframe\">\n",
       "  <thead>\n",
       "    <tr style=\"text-align: right;\">\n",
       "      <th></th>\n",
       "      <th>text</th>\n",
       "      <th>label</th>\n",
       "    </tr>\n",
       "  </thead>\n",
       "  <tbody>\n",
       "    <tr>\n",
       "      <th>0</th>\n",
       "      <td>I always wrote this series off as being a comp...</td>\n",
       "      <td>0</td>\n",
       "    </tr>\n",
       "    <tr>\n",
       "      <th>1</th>\n",
       "      <td>1st watched 12/7/2002 - 3 out of 10(Dir-Steve ...</td>\n",
       "      <td>0</td>\n",
       "    </tr>\n",
       "    <tr>\n",
       "      <th>2</th>\n",
       "      <td>This movie was so poorly written and directed ...</td>\n",
       "      <td>0</td>\n",
       "    </tr>\n",
       "    <tr>\n",
       "      <th>3</th>\n",
       "      <td>The most interesting thing about Miryang (Secr...</td>\n",
       "      <td>1</td>\n",
       "    </tr>\n",
       "    <tr>\n",
       "      <th>4</th>\n",
       "      <td>when i first read about \"berlin am meer\" i did...</td>\n",
       "      <td>0</td>\n",
       "    </tr>\n",
       "  </tbody>\n",
       "</table>\n",
       "</div>"
      ],
      "text/plain": [
       "                                                text  label\n",
       "0  I always wrote this series off as being a comp...      0\n",
       "1  1st watched 12/7/2002 - 3 out of 10(Dir-Steve ...      0\n",
       "2  This movie was so poorly written and directed ...      0\n",
       "3  The most interesting thing about Miryang (Secr...      1\n",
       "4  when i first read about \"berlin am meer\" i did...      0"
      ]
     },
     "execution_count": 2,
     "metadata": {},
     "output_type": "execute_result"
    }
   ],
   "source": [
    "#Load the data and visualize the top five rows using the panadas\n",
    "data=pd.read_csv('/home/vinod/Downloads/Test.csv')\n",
    "data.head()"
   ]
  },
  {
   "cell_type": "code",
   "execution_count": 3,
   "id": "bfec2073",
   "metadata": {},
   "outputs": [
    {
     "data": {
      "text/plain": [
       "(5000, 2)"
      ]
     },
     "execution_count": 3,
     "metadata": {},
     "output_type": "execute_result"
    }
   ],
   "source": [
    "#Print the shape of the data\n",
    "data.shape"
   ]
  },
  {
   "cell_type": "code",
   "execution_count": 4,
   "id": "814ffc04",
   "metadata": {},
   "outputs": [
    {
     "name": "stdout",
     "output_type": "stream",
     "text": [
      "<class 'pandas.core.frame.DataFrame'>\n",
      "RangeIndex: 5000 entries, 0 to 4999\n",
      "Data columns (total 2 columns):\n",
      " #   Column  Non-Null Count  Dtype \n",
      "---  ------  --------------  ----- \n",
      " 0   text    5000 non-null   object\n",
      " 1   label   5000 non-null   int64 \n",
      "dtypes: int64(1), object(1)\n",
      "memory usage: 78.2+ KB\n"
     ]
    }
   ],
   "source": [
    "#data information\n",
    "data.info()"
   ]
  },
  {
   "cell_type": "code",
   "execution_count": 5,
   "id": "d9a5d5e7",
   "metadata": {},
   "outputs": [
    {
     "data": {
      "text/html": [
       "<div>\n",
       "<style scoped>\n",
       "    .dataframe tbody tr th:only-of-type {\n",
       "        vertical-align: middle;\n",
       "    }\n",
       "\n",
       "    .dataframe tbody tr th {\n",
       "        vertical-align: top;\n",
       "    }\n",
       "\n",
       "    .dataframe thead th {\n",
       "        text-align: right;\n",
       "    }\n",
       "</style>\n",
       "<table border=\"1\" class=\"dataframe\">\n",
       "  <thead>\n",
       "    <tr style=\"text-align: right;\">\n",
       "      <th></th>\n",
       "      <th>text</th>\n",
       "      <th>label</th>\n",
       "    </tr>\n",
       "  </thead>\n",
       "  <tbody>\n",
       "    <tr>\n",
       "      <th>0</th>\n",
       "      <td>I grew up (b. 1965) watching and loving the Th...</td>\n",
       "      <td>0</td>\n",
       "    </tr>\n",
       "    <tr>\n",
       "      <th>1</th>\n",
       "      <td>When I put this movie in my DVD player, and sa...</td>\n",
       "      <td>0</td>\n",
       "    </tr>\n",
       "    <tr>\n",
       "      <th>2</th>\n",
       "      <td>Why do people who do not know what a particula...</td>\n",
       "      <td>0</td>\n",
       "    </tr>\n",
       "    <tr>\n",
       "      <th>3</th>\n",
       "      <td>Even though I have great interest in Biblical ...</td>\n",
       "      <td>0</td>\n",
       "    </tr>\n",
       "    <tr>\n",
       "      <th>4</th>\n",
       "      <td>Im a die hard Dads Army fan and nothing will e...</td>\n",
       "      <td>1</td>\n",
       "    </tr>\n",
       "  </tbody>\n",
       "</table>\n",
       "</div>"
      ],
      "text/plain": [
       "                                                text  label\n",
       "0  I grew up (b. 1965) watching and loving the Th...      0\n",
       "1  When I put this movie in my DVD player, and sa...      0\n",
       "2  Why do people who do not know what a particula...      0\n",
       "3  Even though I have great interest in Biblical ...      0\n",
       "4  Im a die hard Dads Army fan and nothing will e...      1"
      ]
     },
     "execution_count": 5,
     "metadata": {},
     "output_type": "execute_result"
    }
   ],
   "source": [
    "#read the train data using the pandas\n",
    "train=pd.read_csv('/home/vinod/Downloads/Train.csv')\n",
    "train.head()"
   ]
  },
  {
   "cell_type": "code",
   "execution_count": 6,
   "id": "43f93cac",
   "metadata": {},
   "outputs": [
    {
     "data": {
      "text/plain": [
       "(40000, 2)"
      ]
     },
     "execution_count": 6,
     "metadata": {},
     "output_type": "execute_result"
    }
   ],
   "source": [
    "#print the shape of the data\n",
    "train.shape"
   ]
  },
  {
   "cell_type": "code",
   "execution_count": 7,
   "id": "16b183c6",
   "metadata": {},
   "outputs": [
    {
     "name": "stdout",
     "output_type": "stream",
     "text": [
      "<class 'pandas.core.frame.DataFrame'>\n",
      "RangeIndex: 40000 entries, 0 to 39999\n",
      "Data columns (total 2 columns):\n",
      " #   Column  Non-Null Count  Dtype \n",
      "---  ------  --------------  ----- \n",
      " 0   text    40000 non-null  object\n",
      " 1   label   40000 non-null  int64 \n",
      "dtypes: int64(1), object(1)\n",
      "memory usage: 625.1+ KB\n"
     ]
    }
   ],
   "source": [
    "#train data information\n",
    "train.info()"
   ]
  },
  {
   "cell_type": "code",
   "execution_count": 8,
   "id": "1781b877",
   "metadata": {},
   "outputs": [
    {
     "data": {
      "text/plain": [
       "0    20019\n",
       "1    19981\n",
       "Name: label, dtype: int64"
      ]
     },
     "execution_count": 8,
     "metadata": {},
     "output_type": "execute_result"
    }
   ],
   "source": [
    "#to visuaize the label percentage in the train dataset\n",
    "pie=train['label'].value_counts()\n",
    "pie"
   ]
  },
  {
   "cell_type": "code",
   "execution_count": 9,
   "id": "e394986b",
   "metadata": {},
   "outputs": [
    {
     "data": {
      "image/png": "[encoded data removed]",
      "text/plain": [
       "<Figure size 1296x432 with 1 Axes>"
      ]
     },
     "metadata": {},
     "output_type": "display_data"
    }
   ],
   "source": [
    "#to visualize the above information in the pie chart\n",
    "plt.figure(figsize=(18,6))\n",
    "plt.pie(pie,labels=['Positive','Negative'],colors=['red','yellow'],autopct='%1.1f%%')\n",
    "#set the title name with fontsize \n",
    "plt.title(\"The label percentage in traindataset\",fontsize=32)\n",
    "plt.show()"
   ]
  },
  {
   "cell_type": "code",
   "execution_count": 10,
   "id": "d6d472d5",
   "metadata": {},
   "outputs": [
    {
     "data": {
      "text/plain": [
       "Sentiment(polarity=0.9099999999999999, subjectivity=0.7800000000000001)"
      ]
     },
     "execution_count": 10,
     "metadata": {},
     "output_type": "execute_result"
    }
   ],
   "source": [
    "#Let's check the sentiment using textblod\n",
    "TextBlob(\"he is very good boy\").sentiment"
   ]
  },
  {
   "cell_type": "code",
   "execution_count": 11,
   "id": "766bac2f",
   "metadata": {},
   "outputs": [
    {
     "data": {
      "text/plain": [
       "Sentiment(polarity=0.8, subjectivity=0.75)"
      ]
     },
     "execution_count": 11,
     "metadata": {},
     "output_type": "execute_result"
    }
   ],
   "source": [
    "#let's check another sentiment using textblod\n",
    "TextBlob(\"Even though I have great interest in Biblical\").sentiment"
   ]
  },
  {
   "cell_type": "markdown",
   "id": "57c42b31",
   "metadata": {},
   "source": [
    "## Polarity and Subjectivity\n",
    "Polarity is a float value which helps in identifying whether a sentence is positive or negative. Its values ranges in [-1,1] where 1 means positive statement and -1 means a negative statement. \n",
    "\n",
    "On the other side, Subjective sentences generally refer to personal opinion, emotion or judgment whereas objective refers to factual information. Subjectivity is also a float which lies in the range of [0,1]. Closer the value to 1, more likly it is public opinion."
   ]
  },
  {
   "cell_type": "code",
   "execution_count": 12,
   "id": "eb9b560f",
   "metadata": {},
   "outputs": [],
   "source": [
    "#Take only 5000 samples data and add the data\n",
    "label_0=train[train['label']==0].sample(n=5000)\n",
    "label_1=train[train['label']==1].sample(n=5000)\n",
    "train=pd.concat([label_1,label_0])"
   ]
  },
  {
   "cell_type": "code",
   "execution_count": 13,
   "id": "ff679c63",
   "metadata": {},
   "outputs": [
    {
     "data": {
      "text/html": [
       "<div>\n",
       "<style scoped>\n",
       "    .dataframe tbody tr th:only-of-type {\n",
       "        vertical-align: middle;\n",
       "    }\n",
       "\n",
       "    .dataframe tbody tr th {\n",
       "        vertical-align: top;\n",
       "    }\n",
       "\n",
       "    .dataframe thead th {\n",
       "        text-align: right;\n",
       "    }\n",
       "</style>\n",
       "<table border=\"1\" class=\"dataframe\">\n",
       "  <thead>\n",
       "    <tr style=\"text-align: right;\">\n",
       "      <th></th>\n",
       "      <th>text</th>\n",
       "      <th>label</th>\n",
       "    </tr>\n",
       "  </thead>\n",
       "  <tbody>\n",
       "    <tr>\n",
       "      <th>21748</th>\n",
       "      <td>Oh, it's the movie - I thought I waited too lo...</td>\n",
       "      <td>0</td>\n",
       "    </tr>\n",
       "    <tr>\n",
       "      <th>27448</th>\n",
       "      <td>Why would a person go back to a person, who ki...</td>\n",
       "      <td>0</td>\n",
       "    </tr>\n",
       "    <tr>\n",
       "      <th>18039</th>\n",
       "      <td>For sheer quality of performance and the \"thea...</td>\n",
       "      <td>1</td>\n",
       "    </tr>\n",
       "    <tr>\n",
       "      <th>33964</th>\n",
       "      <td>I have no idea what idiots gave this movie a P...</td>\n",
       "      <td>0</td>\n",
       "    </tr>\n",
       "    <tr>\n",
       "      <th>2758</th>\n",
       "      <td>I was laughing so hard most of the time I had ...</td>\n",
       "      <td>1</td>\n",
       "    </tr>\n",
       "  </tbody>\n",
       "</table>\n",
       "</div>"
      ],
      "text/plain": [
       "                                                    text  label\n",
       "21748  Oh, it's the movie - I thought I waited too lo...      0\n",
       "27448  Why would a person go back to a person, who ki...      0\n",
       "18039  For sheer quality of performance and the \"thea...      1\n",
       "33964  I have no idea what idiots gave this movie a P...      0\n",
       "2758   I was laughing so hard most of the time I had ...      1"
      ]
     },
     "execution_count": 13,
     "metadata": {},
     "output_type": "execute_result"
    }
   ],
   "source": [
    "from sklearn.utils import shuffle\n",
    "train=shuffle(train)\n",
    "train.head()"
   ]
  },
  {
   "cell_type": "markdown",
   "id": "da686252",
   "metadata": {},
   "source": [
    "# Data Preprocessing "
   ]
  },
  {
   "cell_type": "code",
   "execution_count": 14,
   "id": "d47ace5d",
   "metadata": {},
   "outputs": [
    {
     "data": {
      "text/plain": [
       "text     0\n",
       "label    0\n",
       "dtype: int64"
      ]
     },
     "execution_count": 14,
     "metadata": {},
     "output_type": "execute_result"
    }
   ],
   "source": [
    "#Check the null value in the train datset\n",
    "train.isna().sum()"
   ]
  },
  {
   "cell_type": "code",
   "execution_count": 15,
   "id": "0ac5e973",
   "metadata": {},
   "outputs": [],
   "source": [
    "#replace the null values with np.nan\n",
    "train.replace(r'^\\s*$',np.nan,regex=True,inplace=True)\n",
    "train.dropna(axis=0,how='any',inplace=True)"
   ]
  },
  {
   "cell_type": "code",
   "execution_count": 16,
   "id": "121b18c6",
   "metadata": {},
   "outputs": [
    {
     "name": "stdout",
     "output_type": "stream",
     "text": [
      "escape seq removed\n"
     ]
    }
   ],
   "source": [
    "train.replace(to_replace=[r\"\\\\t|\\\\n|\\\\r\", \"\\t|\\n|\\r\"], value=[\"\",\"\"], regex=True, inplace=True)\n",
    "print('escape seq removed')"
   ]
  },
  {
   "cell_type": "code",
   "execution_count": 17,
   "id": "57c95192",
   "metadata": {},
   "outputs": [
    {
     "data": {
      "text/html": [
       "<div>\n",
       "<style scoped>\n",
       "    .dataframe tbody tr th:only-of-type {\n",
       "        vertical-align: middle;\n",
       "    }\n",
       "\n",
       "    .dataframe tbody tr th {\n",
       "        vertical-align: top;\n",
       "    }\n",
       "\n",
       "    .dataframe thead th {\n",
       "        text-align: right;\n",
       "    }\n",
       "</style>\n",
       "<table border=\"1\" class=\"dataframe\">\n",
       "  <thead>\n",
       "    <tr style=\"text-align: right;\">\n",
       "      <th></th>\n",
       "      <th>text</th>\n",
       "      <th>label</th>\n",
       "    </tr>\n",
       "  </thead>\n",
       "  <tbody>\n",
       "    <tr>\n",
       "      <th>21748</th>\n",
       "      <td>Oh, it's the movie - I thought I waited too lo...</td>\n",
       "      <td>0</td>\n",
       "    </tr>\n",
       "    <tr>\n",
       "      <th>27448</th>\n",
       "      <td>Why would a person go back to a person, who ki...</td>\n",
       "      <td>0</td>\n",
       "    </tr>\n",
       "    <tr>\n",
       "      <th>18039</th>\n",
       "      <td>For sheer quality of performance and the \"thea...</td>\n",
       "      <td>1</td>\n",
       "    </tr>\n",
       "    <tr>\n",
       "      <th>33964</th>\n",
       "      <td>I have no idea what idiots gave this movie a P...</td>\n",
       "      <td>0</td>\n",
       "    </tr>\n",
       "    <tr>\n",
       "      <th>2758</th>\n",
       "      <td>I was laughing so hard most of the time I had ...</td>\n",
       "      <td>1</td>\n",
       "    </tr>\n",
       "  </tbody>\n",
       "</table>\n",
       "</div>"
      ],
      "text/plain": [
       "                                                    text  label\n",
       "21748  Oh, it's the movie - I thought I waited too lo...      0\n",
       "27448  Why would a person go back to a person, who ki...      0\n",
       "18039  For sheer quality of performance and the \"thea...      1\n",
       "33964  I have no idea what idiots gave this movie a P...      0\n",
       "2758   I was laughing so hard most of the time I had ...      1"
      ]
     },
     "execution_count": 17,
     "metadata": {},
     "output_type": "execute_result"
    }
   ],
   "source": [
    "train.head()"
   ]
  },
  {
   "cell_type": "code",
   "execution_count": 18,
   "id": "b1c25091",
   "metadata": {},
   "outputs": [
    {
     "name": "stdout",
     "output_type": "stream",
     "text": [
      "non ascii is remove\n"
     ]
    }
   ],
   "source": [
    "train['text']=train['text'].str.encode('ascii','ignore').str.decode('ascii')\n",
    "print('non ascii is remove')"
   ]
  },
  {
   "cell_type": "code",
   "execution_count": 19,
   "id": "5a939d71",
   "metadata": {},
   "outputs": [
    {
     "data": {
      "text/plain": [
       "'!\"#$%&\\'()*+,-./:;<=>?@[\\\\]^_`{|}~'"
      ]
     },
     "execution_count": 19,
     "metadata": {},
     "output_type": "execute_result"
    }
   ],
   "source": [
    "#let's import string and remove punctuation from the dataset\n",
    "import string\n",
    "string.punctuation"
   ]
  },
  {
   "cell_type": "code",
   "execution_count": 20,
   "id": "5178bd2d",
   "metadata": {},
   "outputs": [],
   "source": [
    "#Creat the function and remove the punctuation\n",
    "def remove_punctuation(text):\n",
    "    for punctuation in string.punctuation:\n",
    "        text=text.replace(punctuation,'')\n",
    "    return text\n",
    "#And apply function to the train dataset\n",
    "train['text']=train['text'].apply(remove_punctuation)"
   ]
  },
  {
   "cell_type": "code",
   "execution_count": 21,
   "id": "66c44c16",
   "metadata": {},
   "outputs": [
    {
     "data": {
      "text/html": [
       "<div>\n",
       "<style scoped>\n",
       "    .dataframe tbody tr th:only-of-type {\n",
       "        vertical-align: middle;\n",
       "    }\n",
       "\n",
       "    .dataframe tbody tr th {\n",
       "        vertical-align: top;\n",
       "    }\n",
       "\n",
       "    .dataframe thead th {\n",
       "        text-align: right;\n",
       "    }\n",
       "</style>\n",
       "<table border=\"1\" class=\"dataframe\">\n",
       "  <thead>\n",
       "    <tr style=\"text-align: right;\">\n",
       "      <th></th>\n",
       "      <th>text</th>\n",
       "      <th>label</th>\n",
       "    </tr>\n",
       "  </thead>\n",
       "  <tbody>\n",
       "    <tr>\n",
       "      <th>21748</th>\n",
       "      <td>Oh its the movie  I thought I waited too long ...</td>\n",
       "      <td>0</td>\n",
       "    </tr>\n",
       "    <tr>\n",
       "      <th>27448</th>\n",
       "      <td>Why would a person go back to a person who kic...</td>\n",
       "      <td>0</td>\n",
       "    </tr>\n",
       "    <tr>\n",
       "      <th>18039</th>\n",
       "      <td>For sheer quality of performance and the theat...</td>\n",
       "      <td>1</td>\n",
       "    </tr>\n",
       "    <tr>\n",
       "      <th>33964</th>\n",
       "      <td>I have no idea what idiots gave this movie a P...</td>\n",
       "      <td>0</td>\n",
       "    </tr>\n",
       "    <tr>\n",
       "      <th>2758</th>\n",
       "      <td>I was laughing so hard most of the time I had ...</td>\n",
       "      <td>1</td>\n",
       "    </tr>\n",
       "  </tbody>\n",
       "</table>\n",
       "</div>"
      ],
      "text/plain": [
       "                                                    text  label\n",
       "21748  Oh its the movie  I thought I waited too long ...      0\n",
       "27448  Why would a person go back to a person who kic...      0\n",
       "18039  For sheer quality of performance and the theat...      1\n",
       "33964  I have no idea what idiots gave this movie a P...      0\n",
       "2758   I was laughing so hard most of the time I had ...      1"
      ]
     },
     "execution_count": 21,
     "metadata": {},
     "output_type": "execute_result"
    }
   ],
   "source": [
    "train.head()"
   ]
  },
  {
   "cell_type": "code",
   "execution_count": 22,
   "id": "94a15bdd",
   "metadata": {},
   "outputs": [
    {
     "name": "stdout",
     "output_type": "stream",
     "text": [
      "['i', 'me', 'my', 'myself', 'we', 'our', 'ours', 'ourselves', 'you', \"you're\", \"you've\", \"you'll\", \"you'd\", 'your', 'yours', 'yourself', 'yourselves', 'he', 'him', 'his', 'himself', 'she', \"she's\", 'her', 'hers', 'herself', 'it', \"it's\", 'its', 'itself', 'they', 'them', 'their', 'theirs', 'themselves', 'what', 'which', 'who', 'whom', 'this', 'that', \"that'll\", 'these', 'those', 'am', 'is', 'are', 'was', 'were', 'be', 'been', 'being', 'have', 'has', 'had', 'having', 'do', 'does', 'did', 'doing', 'a', 'an', 'the', 'and', 'but', 'if', 'or', 'because', 'as', 'until', 'while', 'of', 'at', 'by', 'for', 'with', 'about', 'against', 'between', 'into', 'through', 'during', 'before', 'after', 'above', 'below', 'to', 'from', 'up', 'down', 'in', 'out', 'on', 'off', 'over', 'under', 'again', 'further', 'then', 'once', 'here', 'there', 'when', 'where', 'why', 'how', 'all', 'any', 'both', 'each', 'few', 'more', 'most', 'other', 'some', 'such', 'no', 'nor', 'not', 'only', 'own', 'same', 'so', 'than', 'too', 'very', 's', 't', 'can', 'will', 'just', 'don', \"don't\", 'should', \"should've\", 'now', 'd', 'll', 'm', 'o', 're', 've', 'y', 'ain', 'aren', \"aren't\", 'couldn', \"couldn't\", 'didn', \"didn't\", 'doesn', \"doesn't\", 'hadn', \"hadn't\", 'hasn', \"hasn't\", 'haven', \"haven't\", 'isn', \"isn't\", 'ma', 'mightn', \"mightn't\", 'mustn', \"mustn't\", 'needn', \"needn't\", 'shan', \"shan't\", 'shouldn', \"shouldn't\", 'wasn', \"wasn't\", 'weren', \"weren't\", 'won', \"won't\", 'wouldn', \"wouldn't\"]\n"
     ]
    }
   ],
   "source": [
    "#import nltk and import the stopwords\n",
    "import nltk\n",
    "from nltk.corpus import stopwords\n",
    "print(stopwords.words('english'))"
   ]
  },
  {
   "cell_type": "code",
   "execution_count": 23,
   "id": "446efb7b",
   "metadata": {},
   "outputs": [],
   "source": [
    "#create the remove the stopwords\n",
    "stop_words_list=nltk.corpus.stopwords.words('english')\n",
    "stop_words_list.remove('no')\n",
    "stop_words_list.remove('not')"
   ]
  },
  {
   "cell_type": "code",
   "execution_count": 24,
   "id": "cb624a79",
   "metadata": {},
   "outputs": [],
   "source": [
    "#install the tokeninzer\n",
    "tokenizer = ToktokTokenizer()\n",
    "#Create function to remove the stopwords\n",
    "def remove_stopwords(text,is_lower_case=True):\n",
    "    tokens=tokenizer.tokenize(text)\n",
    "    tokens=[token.strip() for token in tokens]\n",
    "    if is_lower_case:\n",
    "        filterd_tokens=[token for token in tokens if token not in stop_words_list]\n",
    "    else:\n",
    "        filterd_tokens=[token for token in tokens if token.lower() not in stop_words_list]\n",
    "    filterd_text=' '.join(filterd_tokens)\n",
    "    return filterd_text"
   ]
  },
  {
   "cell_type": "code",
   "execution_count": 25,
   "id": "76cccdb6",
   "metadata": {},
   "outputs": [],
   "source": [
    "train['text']=train['text'].apply(remove_stopwords)"
   ]
  },
  {
   "cell_type": "code",
   "execution_count": 26,
   "id": "a4f06af8",
   "metadata": {},
   "outputs": [],
   "source": [
    "#remove the special characters\n",
    "def remove_special_characters(text):\n",
    "    text=re.sub('[^a-zA-z0-9\\s]','',text)\n",
    "    return text"
   ]
  },
  {
   "cell_type": "code",
   "execution_count": 27,
   "id": "7f683caf",
   "metadata": {},
   "outputs": [
    {
     "data": {
      "text/html": [
       "<style type=\"text/css\">\n",
       "#T_397c2_row0_col1, #T_397c2_row1_col1, #T_397c2_row3_col1 {\n",
       "  background-color: #000080;\n",
       "  color: #f1f1f1;\n",
       "}\n",
       "#T_397c2_row2_col1, #T_397c2_row4_col1 {\n",
       "  background-color: #800000;\n",
       "  color: #f1f1f1;\n",
       "}\n",
       "</style>\n",
       "<table id=\"T_397c2\">\n",
       "  <thead>\n",
       "    <tr>\n",
       "      <th class=\"blank level0\" >&nbsp;</th>\n",
       "      <th id=\"T_397c2_level0_col0\" class=\"col_heading level0 col0\" >text</th>\n",
       "      <th id=\"T_397c2_level0_col1\" class=\"col_heading level0 col1\" >label</th>\n",
       "    </tr>\n",
       "  </thead>\n",
       "  <tbody>\n",
       "    <tr>\n",
       "      <th id=\"T_397c2_level0_row0\" class=\"row_heading level0 row0\" >21748</th>\n",
       "      <td id=\"T_397c2_row0_col0\" class=\"data row0 col0\" >Oh movie I thought I waited long take dog I cant believe I watched whole thing I guess I optimistically anticipating going get better Horribly disjointed dialog pathetic acting totally improbable events Like Tobys mom hanging time takes Col walk upstairs back room 24 ceiling no chairs counters anything around motionlessly suspended body could possibly used climb The little girl played daughter last family best actor whole movie puppy first couple close second The basic storyline potential good script director could seriously creepy flick version sadly not I get scared I open electric bill every month</td>\n",
       "      <td id=\"T_397c2_row0_col1\" class=\"data row0 col1\" >0</td>\n",
       "    </tr>\n",
       "    <tr>\n",
       "      <th id=\"T_397c2_level0_row1\" class=\"row_heading level0 row1\" >27448</th>\n",
       "      <td id=\"T_397c2_row1_col0\" class=\"data row1 col0\" >Why would person go back person kicks teeth not not twice againbr br This film teaches us order find love must accept abuse not forgive fully accept Gosh No wonder first relationship lasted ten years I obviously wasnt embracing inner masochistbr br As Bucatinskys writing debut many wonderful aspects film however order justify reunion Eli Tom character development would helpful We never acquainted Elis masochism fact led believe not masochist although Toms psychoemotional sadism highly evident</td>\n",
       "      <td id=\"T_397c2_row1_col1\" class=\"data row1 col1\" >0</td>\n",
       "    </tr>\n",
       "    <tr>\n",
       "      <th id=\"T_397c2_level0_row2\" class=\"row_heading level0 row2\" >18039</th>\n",
       "      <td id=\"T_397c2_row2_col0\" class=\"data row2 col0\" >For sheer quality performance theater absurd one hard compare anything else With world melting early 70s film made perfect sense still resonates George Scott could never typecast</td>\n",
       "      <td id=\"T_397c2_row2_col1\" class=\"data row2 col1\" >1</td>\n",
       "    </tr>\n",
       "    <tr>\n",
       "      <th id=\"T_397c2_level0_row3\" class=\"row_heading level0 row3\" >33964</th>\n",
       "      <td id=\"T_397c2_row3_col0\" class=\"data row3 col0\" >I no idea idiots gave movie Palm DOr 1999 Cannes Film Festival atrocious I actually watched entire thing simply I couldnt believe someone would make worthless film There nothing interesting plot characters devoid depth no attempt giving sort ambiance music sound effects Also decide waste 2 hours life watching film sure bring something throw cinematography simply someone running around handheld camcorder half time cant even see main subjects This style used much successfully movies Blair Witch creates suspense In Rosetta no plot no suspense style would lend anything I known better came 2 oclock morning going horrible</td>\n",
       "      <td id=\"T_397c2_row3_col1\" class=\"data row3 col1\" >0</td>\n",
       "    </tr>\n",
       "    <tr>\n",
       "      <th id=\"T_397c2_level0_row4\" class=\"row_heading level0 row4\" >2758</th>\n",
       "      <td id=\"T_397c2_row4_col0\" class=\"data row4 col0\" >I laughing hard time I people glaring couldnt hear laughter I literally fell seat specific pointbr br Im Bartender Bouncer living Real world note use term Real world sadly always come first whenever I tell someone I play RPGs usually followed one two questions 1 What like DD I played back Junior Highbr br 2 Really Ive looking group forever Have room another Very rarely people not know DD Gaming arebr br That said almost every person watches movie get something Even arent Gamer chances something life Geek Out made fun light hearted way alone means relate hijinx flick Its light hearted happiness hour half</td>\n",
       "      <td id=\"T_397c2_row4_col1\" class=\"data row4 col1\" >1</td>\n",
       "    </tr>\n",
       "  </tbody>\n",
       "</table>\n"
      ],
      "text/plain": [
       "<pandas.io.formats.style.Styler at 0x7fef24204850>"
      ]
     },
     "execution_count": 27,
     "metadata": {},
     "output_type": "execute_result"
    }
   ],
   "source": [
    "#apply the above function to the traindataset\n",
    "train['text']=train['text'].apply(remove_special_characters)\n",
    "train.head().style.background_gradient(cmap='jet')"
   ]
  },
  {
   "cell_type": "code",
   "execution_count": 28,
   "id": "488546f3",
   "metadata": {},
   "outputs": [],
   "source": [
    "#Remove html patternst\n",
    "def remove_html(text):\n",
    "    html_pattran=re.compile('<.*?>')\n",
    "    return html_pattran.sub(r' ',text)\n",
    "#And apply the above function to the train data\n",
    "train['text']=train['text'].apply(remove_html)"
   ]
  },
  {
   "cell_type": "code",
   "execution_count": 29,
   "id": "eb66cd5c",
   "metadata": {},
   "outputs": [
    {
     "data": {
      "text/html": [
       "<div>\n",
       "<style scoped>\n",
       "    .dataframe tbody tr th:only-of-type {\n",
       "        vertical-align: middle;\n",
       "    }\n",
       "\n",
       "    .dataframe tbody tr th {\n",
       "        vertical-align: top;\n",
       "    }\n",
       "\n",
       "    .dataframe thead th {\n",
       "        text-align: right;\n",
       "    }\n",
       "</style>\n",
       "<table border=\"1\" class=\"dataframe\">\n",
       "  <thead>\n",
       "    <tr style=\"text-align: right;\">\n",
       "      <th></th>\n",
       "      <th>text</th>\n",
       "      <th>label</th>\n",
       "    </tr>\n",
       "  </thead>\n",
       "  <tbody>\n",
       "    <tr>\n",
       "      <th>21748</th>\n",
       "      <td>Oh movie I thought I waited long take dog I ca...</td>\n",
       "      <td>0</td>\n",
       "    </tr>\n",
       "    <tr>\n",
       "      <th>27448</th>\n",
       "      <td>Why would person go back person kicks teeth no...</td>\n",
       "      <td>0</td>\n",
       "    </tr>\n",
       "    <tr>\n",
       "      <th>18039</th>\n",
       "      <td>For sheer quality performance theater absurd o...</td>\n",
       "      <td>1</td>\n",
       "    </tr>\n",
       "    <tr>\n",
       "      <th>33964</th>\n",
       "      <td>I no idea idiots gave movie Palm DOr 1999 Cann...</td>\n",
       "      <td>0</td>\n",
       "    </tr>\n",
       "    <tr>\n",
       "      <th>2758</th>\n",
       "      <td>I laughing hard time I people glaring couldnt ...</td>\n",
       "      <td>1</td>\n",
       "    </tr>\n",
       "  </tbody>\n",
       "</table>\n",
       "</div>"
      ],
      "text/plain": [
       "                                                    text  label\n",
       "21748  Oh movie I thought I waited long take dog I ca...      0\n",
       "27448  Why would person go back person kicks teeth no...      0\n",
       "18039  For sheer quality performance theater absurd o...      1\n",
       "33964  I no idea idiots gave movie Palm DOr 1999 Cann...      0\n",
       "2758   I laughing hard time I people glaring couldnt ...      1"
      ]
     },
     "execution_count": 29,
     "metadata": {},
     "output_type": "execute_result"
    }
   ],
   "source": [
    "#Read the above data to five rows\n",
    "train.head()"
   ]
  },
  {
   "cell_type": "code",
   "execution_count": 30,
   "id": "d22e28d7",
   "metadata": {},
   "outputs": [],
   "source": [
    "#Remove the html url from the train dataset\n",
    "def remove_url(text):\n",
    "    url=re.compile(r'https?://\\S+|www\\.\\S+')\n",
    "    return url.sub(r' ',text)\n",
    "#And apply to the train dataset\n",
    "train['text']=train['text'].apply(remove_url)"
   ]
  },
  {
   "cell_type": "code",
   "execution_count": 31,
   "id": "4ab744a5",
   "metadata": {},
   "outputs": [
    {
     "data": {
      "text/html": [
       "<div>\n",
       "<style scoped>\n",
       "    .dataframe tbody tr th:only-of-type {\n",
       "        vertical-align: middle;\n",
       "    }\n",
       "\n",
       "    .dataframe tbody tr th {\n",
       "        vertical-align: top;\n",
       "    }\n",
       "\n",
       "    .dataframe thead th {\n",
       "        text-align: right;\n",
       "    }\n",
       "</style>\n",
       "<table border=\"1\" class=\"dataframe\">\n",
       "  <thead>\n",
       "    <tr style=\"text-align: right;\">\n",
       "      <th></th>\n",
       "      <th>text</th>\n",
       "      <th>label</th>\n",
       "    </tr>\n",
       "  </thead>\n",
       "  <tbody>\n",
       "    <tr>\n",
       "      <th>21748</th>\n",
       "      <td>Oh movie I thought I waited long take dog I ca...</td>\n",
       "      <td>0</td>\n",
       "    </tr>\n",
       "    <tr>\n",
       "      <th>27448</th>\n",
       "      <td>Why would person go back person kicks teeth no...</td>\n",
       "      <td>0</td>\n",
       "    </tr>\n",
       "    <tr>\n",
       "      <th>18039</th>\n",
       "      <td>For sheer quality performance theater absurd o...</td>\n",
       "      <td>1</td>\n",
       "    </tr>\n",
       "    <tr>\n",
       "      <th>33964</th>\n",
       "      <td>I no idea idiots gave movie Palm DOr 1999 Cann...</td>\n",
       "      <td>0</td>\n",
       "    </tr>\n",
       "    <tr>\n",
       "      <th>2758</th>\n",
       "      <td>I laughing hard time I people glaring couldnt ...</td>\n",
       "      <td>1</td>\n",
       "    </tr>\n",
       "  </tbody>\n",
       "</table>\n",
       "</div>"
      ],
      "text/plain": [
       "                                                    text  label\n",
       "21748  Oh movie I thought I waited long take dog I ca...      0\n",
       "27448  Why would person go back person kicks teeth no...      0\n",
       "18039  For sheer quality performance theater absurd o...      1\n",
       "33964  I no idea idiots gave movie Palm DOr 1999 Cann...      0\n",
       "2758   I laughing hard time I people glaring couldnt ...      1"
      ]
     },
     "execution_count": 31,
     "metadata": {},
     "output_type": "execute_result"
    }
   ],
   "source": [
    "train.head()"
   ]
  },
  {
   "cell_type": "code",
   "execution_count": 32,
   "id": "a5af5253",
   "metadata": {},
   "outputs": [],
   "source": [
    "#Remove the numbers in the dataset\n",
    "def remove_numbers(text):\n",
    "    text=''.join([i for i in text if  not i.isdigit()])\n",
    "    return text\n",
    "#And apply the above function to the train data\n",
    "train['text']=train['text'].apply(remove_numbers)"
   ]
  },
  {
   "cell_type": "code",
   "execution_count": 33,
   "id": "f71af73a",
   "metadata": {},
   "outputs": [
    {
     "data": {
      "text/html": [
       "<div>\n",
       "<style scoped>\n",
       "    .dataframe tbody tr th:only-of-type {\n",
       "        vertical-align: middle;\n",
       "    }\n",
       "\n",
       "    .dataframe tbody tr th {\n",
       "        vertical-align: top;\n",
       "    }\n",
       "\n",
       "    .dataframe thead th {\n",
       "        text-align: right;\n",
       "    }\n",
       "</style>\n",
       "<table border=\"1\" class=\"dataframe\">\n",
       "  <thead>\n",
       "    <tr style=\"text-align: right;\">\n",
       "      <th></th>\n",
       "      <th>text</th>\n",
       "      <th>label</th>\n",
       "    </tr>\n",
       "  </thead>\n",
       "  <tbody>\n",
       "    <tr>\n",
       "      <th>21748</th>\n",
       "      <td>Oh movie I thought I waited long take dog I ca...</td>\n",
       "      <td>0</td>\n",
       "    </tr>\n",
       "    <tr>\n",
       "      <th>27448</th>\n",
       "      <td>Why would person go back person kicks teeth no...</td>\n",
       "      <td>0</td>\n",
       "    </tr>\n",
       "    <tr>\n",
       "      <th>18039</th>\n",
       "      <td>For sheer quality performance theater absurd o...</td>\n",
       "      <td>1</td>\n",
       "    </tr>\n",
       "    <tr>\n",
       "      <th>33964</th>\n",
       "      <td>I no idea idiots gave movie Palm DOr  Cannes F...</td>\n",
       "      <td>0</td>\n",
       "    </tr>\n",
       "    <tr>\n",
       "      <th>2758</th>\n",
       "      <td>I laughing hard time I people glaring couldnt ...</td>\n",
       "      <td>1</td>\n",
       "    </tr>\n",
       "  </tbody>\n",
       "</table>\n",
       "</div>"
      ],
      "text/plain": [
       "                                                    text  label\n",
       "21748  Oh movie I thought I waited long take dog I ca...      0\n",
       "27448  Why would person go back person kicks teeth no...      0\n",
       "18039  For sheer quality performance theater absurd o...      1\n",
       "33964  I no idea idiots gave movie Palm DOr  Cannes F...      0\n",
       "2758   I laughing hard time I people glaring couldnt ...      1"
      ]
     },
     "execution_count": 33,
     "metadata": {},
     "output_type": "execute_result"
    }
   ],
   "source": [
    "train.head()"
   ]
  },
  {
   "cell_type": "code",
   "execution_count": 34,
   "id": "22cb51a0",
   "metadata": {},
   "outputs": [],
   "source": [
    "def cleanse(word):\n",
    "    rx=re.compile(r'\\D*\\d')\n",
    "    if rx.match(word):\n",
    "        return ' '\n",
    "    return word\n",
    "#Remove the alpha numaric\n",
    "def alpha_numeric(strings):\n",
    "    nstrings=[\" \".join(filter(None,(cleanse(word) for word in string.split()))) for string in strings.split()]\n",
    "    str1=\" \".join(nstrings)\n",
    "    return str1\n",
    "#Apply to the above function to the train dataset\n",
    "train['text']=train['text'].apply(alpha_numeric)"
   ]
  },
  {
   "cell_type": "code",
   "execution_count": 35,
   "id": "bfab5ab5",
   "metadata": {},
   "outputs": [
    {
     "data": {
      "text/html": [
       "<div>\n",
       "<style scoped>\n",
       "    .dataframe tbody tr th:only-of-type {\n",
       "        vertical-align: middle;\n",
       "    }\n",
       "\n",
       "    .dataframe tbody tr th {\n",
       "        vertical-align: top;\n",
       "    }\n",
       "\n",
       "    .dataframe thead th {\n",
       "        text-align: right;\n",
       "    }\n",
       "</style>\n",
       "<table border=\"1\" class=\"dataframe\">\n",
       "  <thead>\n",
       "    <tr style=\"text-align: right;\">\n",
       "      <th></th>\n",
       "      <th>text</th>\n",
       "      <th>label</th>\n",
       "    </tr>\n",
       "  </thead>\n",
       "  <tbody>\n",
       "    <tr>\n",
       "      <th>21748</th>\n",
       "      <td>Oh movie I thought I waited long take dog I ca...</td>\n",
       "      <td>0</td>\n",
       "    </tr>\n",
       "    <tr>\n",
       "      <th>27448</th>\n",
       "      <td>Why would person go back person kicks teeth no...</td>\n",
       "      <td>0</td>\n",
       "    </tr>\n",
       "    <tr>\n",
       "      <th>18039</th>\n",
       "      <td>For sheer quality performance theater absurd o...</td>\n",
       "      <td>1</td>\n",
       "    </tr>\n",
       "    <tr>\n",
       "      <th>33964</th>\n",
       "      <td>I no idea idiots gave movie Palm DOr Cannes Fi...</td>\n",
       "      <td>0</td>\n",
       "    </tr>\n",
       "    <tr>\n",
       "      <th>2758</th>\n",
       "      <td>I laughing hard time I people glaring couldnt ...</td>\n",
       "      <td>1</td>\n",
       "    </tr>\n",
       "  </tbody>\n",
       "</table>\n",
       "</div>"
      ],
      "text/plain": [
       "                                                    text  label\n",
       "21748  Oh movie I thought I waited long take dog I ca...      0\n",
       "27448  Why would person go back person kicks teeth no...      0\n",
       "18039  For sheer quality performance theater absurd o...      1\n",
       "33964  I no idea idiots gave movie Palm DOr Cannes Fi...      0\n",
       "2758   I laughing hard time I people glaring couldnt ...      1"
      ]
     },
     "execution_count": 35,
     "metadata": {},
     "output_type": "execute_result"
    }
   ],
   "source": [
    "train.head()"
   ]
  },
  {
   "cell_type": "code",
   "execution_count": 36,
   "id": "bc44d2e6",
   "metadata": {},
   "outputs": [],
   "source": [
    "#lemmatizer\n",
    "def lemmatize(text):\n",
    "    text=nlp(text)\n",
    "    text=\" \".join([word.lemma_ if word.lemma_!='-PRON-' else word for word in text])\n",
    "    return text\n",
    "#Apply the above function to the rain dataset\n",
    "train['text']=train['text'].apply(lemmatize)"
   ]
  },
  {
   "cell_type": "code",
   "execution_count": 37,
   "id": "a492b29d",
   "metadata": {},
   "outputs": [],
   "source": [
    "#Let's create the another column sentiment\n",
    "train['sentiment']=train['text'].apply(lambda tweet: TextBlob(tweet).sentiment)"
   ]
  },
  {
   "cell_type": "code",
   "execution_count": 38,
   "id": "16178954",
   "metadata": {},
   "outputs": [
    {
     "data": {
      "text/html": [
       "<div>\n",
       "<style scoped>\n",
       "    .dataframe tbody tr th:only-of-type {\n",
       "        vertical-align: middle;\n",
       "    }\n",
       "\n",
       "    .dataframe tbody tr th {\n",
       "        vertical-align: top;\n",
       "    }\n",
       "\n",
       "    .dataframe thead th {\n",
       "        text-align: right;\n",
       "    }\n",
       "</style>\n",
       "<table border=\"1\" class=\"dataframe\">\n",
       "  <thead>\n",
       "    <tr style=\"text-align: right;\">\n",
       "      <th></th>\n",
       "      <th>text</th>\n",
       "      <th>label</th>\n",
       "      <th>sentiment</th>\n",
       "    </tr>\n",
       "  </thead>\n",
       "  <tbody>\n",
       "    <tr>\n",
       "      <th>21748</th>\n",
       "      <td>oh movie I think I wait long take dog I can no...</td>\n",
       "      <td>0</td>\n",
       "      <td>(-0.021875000000000012, 0.5337500000000001)</td>\n",
       "    </tr>\n",
       "    <tr>\n",
       "      <th>27448</th>\n",
       "      <td>why would person go back person kick tooth not...</td>\n",
       "      <td>0</td>\n",
       "      <td>(0.22272727272727275, 0.3106060606060606)</td>\n",
       "    </tr>\n",
       "    <tr>\n",
       "      <th>18039</th>\n",
       "      <td>for sheer quality performance theater absurd o...</td>\n",
       "      <td>1</td>\n",
       "      <td>(0.06166666666666665, 0.7183333333333333)</td>\n",
       "    </tr>\n",
       "    <tr>\n",
       "      <th>33964</th>\n",
       "      <td>I no idea idiot give movie Palm DOr Cannes Fil...</td>\n",
       "      <td>0</td>\n",
       "      <td>(-0.09509803921568627, 0.5242063492063493)</td>\n",
       "    </tr>\n",
       "    <tr>\n",
       "      <th>2758</th>\n",
       "      <td>I laugh hard time I people glare could not hea...</td>\n",
       "      <td>1</td>\n",
       "      <td>(0.10864057239057238, 0.4057870370370371)</td>\n",
       "    </tr>\n",
       "  </tbody>\n",
       "</table>\n",
       "</div>"
      ],
      "text/plain": [
       "                                                    text  label  \\\n",
       "21748  oh movie I think I wait long take dog I can no...      0   \n",
       "27448  why would person go back person kick tooth not...      0   \n",
       "18039  for sheer quality performance theater absurd o...      1   \n",
       "33964  I no idea idiot give movie Palm DOr Cannes Fil...      0   \n",
       "2758   I laugh hard time I people glare could not hea...      1   \n",
       "\n",
       "                                         sentiment  \n",
       "21748  (-0.021875000000000012, 0.5337500000000001)  \n",
       "27448    (0.22272727272727275, 0.3106060606060606)  \n",
       "18039    (0.06166666666666665, 0.7183333333333333)  \n",
       "33964   (-0.09509803921568627, 0.5242063492063493)  \n",
       "2758     (0.10864057239057238, 0.4057870370370371)  "
      ]
     },
     "execution_count": 38,
     "metadata": {},
     "output_type": "execute_result"
    }
   ],
   "source": [
    "train.head()"
   ]
  },
  {
   "cell_type": "code",
   "execution_count": 39,
   "id": "1a7b0f13",
   "metadata": {},
   "outputs": [],
   "source": [
    "sentiment_series = train['sentiment'].tolist()"
   ]
  },
  {
   "cell_type": "code",
   "execution_count": 40,
   "id": "1612f7c4",
   "metadata": {},
   "outputs": [],
   "source": [
    "columns = ['polarity', 'subjectivity']\n",
    "df1 = pd.DataFrame(sentiment_series, columns=columns, index=train.index)"
   ]
  },
  {
   "cell_type": "code",
   "execution_count": 41,
   "id": "88e6aee8",
   "metadata": {},
   "outputs": [
    {
     "data": {
      "text/html": [
       "<style type=\"text/css\">\n",
       "#T_f0495_row0_col0 {\n",
       "  background-color: #fcc2aa;\n",
       "  color: #000000;\n",
       "}\n",
       "#T_f0495_row0_col1 {\n",
       "  background-color: #f6583e;\n",
       "  color: #f1f1f1;\n",
       "}\n",
       "#T_f0495_row1_col0, #T_f0495_row2_col1 {\n",
       "  background-color: #67000d;\n",
       "  color: #f1f1f1;\n",
       "}\n",
       "#T_f0495_row1_col1, #T_f0495_row3_col0 {\n",
       "  background-color: #fff5f0;\n",
       "  color: #000000;\n",
       "}\n",
       "#T_f0495_row2_col0 {\n",
       "  background-color: #fb6c4c;\n",
       "  color: #f1f1f1;\n",
       "}\n",
       "#T_f0495_row3_col1 {\n",
       "  background-color: #f96044;\n",
       "  color: #f1f1f1;\n",
       "}\n",
       "#T_f0495_row4_col0 {\n",
       "  background-color: #ea362a;\n",
       "  color: #f1f1f1;\n",
       "}\n",
       "#T_f0495_row4_col1 {\n",
       "  background-color: #fcc1a8;\n",
       "  color: #000000;\n",
       "}\n",
       "</style>\n",
       "<table id=\"T_f0495\">\n",
       "  <thead>\n",
       "    <tr>\n",
       "      <th class=\"blank level0\" >&nbsp;</th>\n",
       "      <th id=\"T_f0495_level0_col0\" class=\"col_heading level0 col0\" >polarity</th>\n",
       "      <th id=\"T_f0495_level0_col1\" class=\"col_heading level0 col1\" >subjectivity</th>\n",
       "    </tr>\n",
       "  </thead>\n",
       "  <tbody>\n",
       "    <tr>\n",
       "      <th id=\"T_f0495_level0_row0\" class=\"row_heading level0 row0\" >21748</th>\n",
       "      <td id=\"T_f0495_row0_col0\" class=\"data row0 col0\" >-0.021875</td>\n",
       "      <td id=\"T_f0495_row0_col1\" class=\"data row0 col1\" >0.533750</td>\n",
       "    </tr>\n",
       "    <tr>\n",
       "      <th id=\"T_f0495_level0_row1\" class=\"row_heading level0 row1\" >27448</th>\n",
       "      <td id=\"T_f0495_row1_col0\" class=\"data row1 col0\" >0.222727</td>\n",
       "      <td id=\"T_f0495_row1_col1\" class=\"data row1 col1\" >0.310606</td>\n",
       "    </tr>\n",
       "    <tr>\n",
       "      <th id=\"T_f0495_level0_row2\" class=\"row_heading level0 row2\" >18039</th>\n",
       "      <td id=\"T_f0495_row2_col0\" class=\"data row2 col0\" >0.061667</td>\n",
       "      <td id=\"T_f0495_row2_col1\" class=\"data row2 col1\" >0.718333</td>\n",
       "    </tr>\n",
       "    <tr>\n",
       "      <th id=\"T_f0495_level0_row3\" class=\"row_heading level0 row3\" >33964</th>\n",
       "      <td id=\"T_f0495_row3_col0\" class=\"data row3 col0\" >-0.095098</td>\n",
       "      <td id=\"T_f0495_row3_col1\" class=\"data row3 col1\" >0.524206</td>\n",
       "    </tr>\n",
       "    <tr>\n",
       "      <th id=\"T_f0495_level0_row4\" class=\"row_heading level0 row4\" >2758</th>\n",
       "      <td id=\"T_f0495_row4_col0\" class=\"data row4 col0\" >0.108641</td>\n",
       "      <td id=\"T_f0495_row4_col1\" class=\"data row4 col1\" >0.405787</td>\n",
       "    </tr>\n",
       "  </tbody>\n",
       "</table>\n"
      ],
      "text/plain": [
       "<pandas.io.formats.style.Styler at 0x7fef1d90e5b0>"
      ]
     },
     "execution_count": 41,
     "metadata": {},
     "output_type": "execute_result"
    }
   ],
   "source": [
    "df1.head().style.background_gradient(cmap='Reds')"
   ]
  },
  {
   "cell_type": "code",
   "execution_count": 42,
   "id": "5a593e9e",
   "metadata": {},
   "outputs": [],
   "source": [
    "result = pd.concat([train,df1],axis=1)"
   ]
  },
  {
   "cell_type": "code",
   "execution_count": 43,
   "id": "98ba737a",
   "metadata": {},
   "outputs": [],
   "source": [
    "result.drop(['sentiment'],axis=1,inplace=True)"
   ]
  },
  {
   "cell_type": "code",
   "execution_count": 44,
   "id": "bafd58c4",
   "metadata": {},
   "outputs": [],
   "source": [
    "result.loc[result['polarity']>=0.3, 'Sentiment'] = \"Positive\"\n",
    "result.loc[result['polarity']<0.3, 'Sentiment'] = \"Negative\""
   ]
  },
  {
   "cell_type": "code",
   "execution_count": 45,
   "id": "113bb713",
   "metadata": {},
   "outputs": [
    {
     "data": {
      "text/html": [
       "<div>\n",
       "<style scoped>\n",
       "    .dataframe tbody tr th:only-of-type {\n",
       "        vertical-align: middle;\n",
       "    }\n",
       "\n",
       "    .dataframe tbody tr th {\n",
       "        vertical-align: top;\n",
       "    }\n",
       "\n",
       "    .dataframe thead th {\n",
       "        text-align: right;\n",
       "    }\n",
       "</style>\n",
       "<table border=\"1\" class=\"dataframe\">\n",
       "  <thead>\n",
       "    <tr style=\"text-align: right;\">\n",
       "      <th></th>\n",
       "      <th>text</th>\n",
       "      <th>label</th>\n",
       "      <th>polarity</th>\n",
       "      <th>subjectivity</th>\n",
       "      <th>Sentiment</th>\n",
       "    </tr>\n",
       "  </thead>\n",
       "  <tbody>\n",
       "    <tr>\n",
       "      <th>21748</th>\n",
       "      <td>oh movie I think I wait long take dog I can no...</td>\n",
       "      <td>0</td>\n",
       "      <td>-0.021875</td>\n",
       "      <td>0.533750</td>\n",
       "      <td>Negative</td>\n",
       "    </tr>\n",
       "    <tr>\n",
       "      <th>27448</th>\n",
       "      <td>why would person go back person kick tooth not...</td>\n",
       "      <td>0</td>\n",
       "      <td>0.222727</td>\n",
       "      <td>0.310606</td>\n",
       "      <td>Negative</td>\n",
       "    </tr>\n",
       "    <tr>\n",
       "      <th>18039</th>\n",
       "      <td>for sheer quality performance theater absurd o...</td>\n",
       "      <td>1</td>\n",
       "      <td>0.061667</td>\n",
       "      <td>0.718333</td>\n",
       "      <td>Negative</td>\n",
       "    </tr>\n",
       "    <tr>\n",
       "      <th>33964</th>\n",
       "      <td>I no idea idiot give movie Palm DOr Cannes Fil...</td>\n",
       "      <td>0</td>\n",
       "      <td>-0.095098</td>\n",
       "      <td>0.524206</td>\n",
       "      <td>Negative</td>\n",
       "    </tr>\n",
       "    <tr>\n",
       "      <th>2758</th>\n",
       "      <td>I laugh hard time I people glare could not hea...</td>\n",
       "      <td>1</td>\n",
       "      <td>0.108641</td>\n",
       "      <td>0.405787</td>\n",
       "      <td>Negative</td>\n",
       "    </tr>\n",
       "  </tbody>\n",
       "</table>\n",
       "</div>"
      ],
      "text/plain": [
       "                                                    text  label  polarity  \\\n",
       "21748  oh movie I think I wait long take dog I can no...      0 -0.021875   \n",
       "27448  why would person go back person kick tooth not...      0  0.222727   \n",
       "18039  for sheer quality performance theater absurd o...      1  0.061667   \n",
       "33964  I no idea idiot give movie Palm DOr Cannes Fil...      0 -0.095098   \n",
       "2758   I laugh hard time I people glare could not hea...      1  0.108641   \n",
       "\n",
       "       subjectivity Sentiment  \n",
       "21748      0.533750  Negative  \n",
       "27448      0.310606  Negative  \n",
       "18039      0.718333  Negative  \n",
       "33964      0.524206  Negative  \n",
       "2758       0.405787  Negative  "
      ]
     },
     "execution_count": 45,
     "metadata": {},
     "output_type": "execute_result"
    }
   ],
   "source": [
    "result.head()"
   ]
  },
  {
   "cell_type": "code",
   "execution_count": 46,
   "id": "db359edb",
   "metadata": {},
   "outputs": [],
   "source": [
    "result.loc[result['label']==1, 'Sentiment_label'] = 1\n",
    "result.loc[result['label']==0, 'Sentiment_label'] = 0"
   ]
  },
  {
   "cell_type": "code",
   "execution_count": 47,
   "id": "18da9451",
   "metadata": {},
   "outputs": [
    {
     "data": {
      "text/html": [
       "<div>\n",
       "<style scoped>\n",
       "    .dataframe tbody tr th:only-of-type {\n",
       "        vertical-align: middle;\n",
       "    }\n",
       "\n",
       "    .dataframe tbody tr th {\n",
       "        vertical-align: top;\n",
       "    }\n",
       "\n",
       "    .dataframe thead th {\n",
       "        text-align: right;\n",
       "    }\n",
       "</style>\n",
       "<table border=\"1\" class=\"dataframe\">\n",
       "  <thead>\n",
       "    <tr style=\"text-align: right;\">\n",
       "      <th></th>\n",
       "      <th>text</th>\n",
       "      <th>label</th>\n",
       "      <th>polarity</th>\n",
       "      <th>subjectivity</th>\n",
       "      <th>Sentiment</th>\n",
       "      <th>Sentiment_label</th>\n",
       "    </tr>\n",
       "  </thead>\n",
       "  <tbody>\n",
       "    <tr>\n",
       "      <th>21748</th>\n",
       "      <td>oh movie I think I wait long take dog I can no...</td>\n",
       "      <td>0</td>\n",
       "      <td>-0.021875</td>\n",
       "      <td>0.533750</td>\n",
       "      <td>Negative</td>\n",
       "      <td>0.0</td>\n",
       "    </tr>\n",
       "    <tr>\n",
       "      <th>27448</th>\n",
       "      <td>why would person go back person kick tooth not...</td>\n",
       "      <td>0</td>\n",
       "      <td>0.222727</td>\n",
       "      <td>0.310606</td>\n",
       "      <td>Negative</td>\n",
       "      <td>0.0</td>\n",
       "    </tr>\n",
       "    <tr>\n",
       "      <th>18039</th>\n",
       "      <td>for sheer quality performance theater absurd o...</td>\n",
       "      <td>1</td>\n",
       "      <td>0.061667</td>\n",
       "      <td>0.718333</td>\n",
       "      <td>Negative</td>\n",
       "      <td>1.0</td>\n",
       "    </tr>\n",
       "    <tr>\n",
       "      <th>33964</th>\n",
       "      <td>I no idea idiot give movie Palm DOr Cannes Fil...</td>\n",
       "      <td>0</td>\n",
       "      <td>-0.095098</td>\n",
       "      <td>0.524206</td>\n",
       "      <td>Negative</td>\n",
       "      <td>0.0</td>\n",
       "    </tr>\n",
       "    <tr>\n",
       "      <th>2758</th>\n",
       "      <td>I laugh hard time I people glare could not hea...</td>\n",
       "      <td>1</td>\n",
       "      <td>0.108641</td>\n",
       "      <td>0.405787</td>\n",
       "      <td>Negative</td>\n",
       "      <td>1.0</td>\n",
       "    </tr>\n",
       "    <tr>\n",
       "      <th>...</th>\n",
       "      <td>...</td>\n",
       "      <td>...</td>\n",
       "      <td>...</td>\n",
       "      <td>...</td>\n",
       "      <td>...</td>\n",
       "      <td>...</td>\n",
       "    </tr>\n",
       "    <tr>\n",
       "      <th>39596</th>\n",
       "      <td>okay I remember watch first one boy suck after...</td>\n",
       "      <td>0</td>\n",
       "      <td>0.032143</td>\n",
       "      <td>0.373810</td>\n",
       "      <td>Negative</td>\n",
       "      <td>0.0</td>\n",
       "    </tr>\n",
       "    <tr>\n",
       "      <th>39937</th>\n",
       "      <td>the belief Big other invisible power structure...</td>\n",
       "      <td>1</td>\n",
       "      <td>0.020496</td>\n",
       "      <td>0.446241</td>\n",
       "      <td>Negative</td>\n",
       "      <td>1.0</td>\n",
       "    </tr>\n",
       "    <tr>\n",
       "      <th>8532</th>\n",
       "      <td>this movie three teen good friend long time go...</td>\n",
       "      <td>1</td>\n",
       "      <td>0.109375</td>\n",
       "      <td>0.367708</td>\n",
       "      <td>Negative</td>\n",
       "      <td>1.0</td>\n",
       "    </tr>\n",
       "    <tr>\n",
       "      <th>34581</th>\n",
       "      <td>caught movie DD flipping channelsand thank hea...</td>\n",
       "      <td>1</td>\n",
       "      <td>0.237500</td>\n",
       "      <td>0.559375</td>\n",
       "      <td>Negative</td>\n",
       "      <td>1.0</td>\n",
       "    </tr>\n",
       "    <tr>\n",
       "      <th>17657</th>\n",
       "      <td>Burt Reynolds play Gator McKlusky likable exco...</td>\n",
       "      <td>0</td>\n",
       "      <td>0.046429</td>\n",
       "      <td>0.588095</td>\n",
       "      <td>Negative</td>\n",
       "      <td>0.0</td>\n",
       "    </tr>\n",
       "  </tbody>\n",
       "</table>\n",
       "<p>10000 rows × 6 columns</p>\n",
       "</div>"
      ],
      "text/plain": [
       "                                                    text  label  polarity  \\\n",
       "21748  oh movie I think I wait long take dog I can no...      0 -0.021875   \n",
       "27448  why would person go back person kick tooth not...      0  0.222727   \n",
       "18039  for sheer quality performance theater absurd o...      1  0.061667   \n",
       "33964  I no idea idiot give movie Palm DOr Cannes Fil...      0 -0.095098   \n",
       "2758   I laugh hard time I people glare could not hea...      1  0.108641   \n",
       "...                                                  ...    ...       ...   \n",
       "39596  okay I remember watch first one boy suck after...      0  0.032143   \n",
       "39937  the belief Big other invisible power structure...      1  0.020496   \n",
       "8532   this movie three teen good friend long time go...      1  0.109375   \n",
       "34581  caught movie DD flipping channelsand thank hea...      1  0.237500   \n",
       "17657  Burt Reynolds play Gator McKlusky likable exco...      0  0.046429   \n",
       "\n",
       "       subjectivity Sentiment  Sentiment_label  \n",
       "21748      0.533750  Negative              0.0  \n",
       "27448      0.310606  Negative              0.0  \n",
       "18039      0.718333  Negative              1.0  \n",
       "33964      0.524206  Negative              0.0  \n",
       "2758       0.405787  Negative              1.0  \n",
       "...             ...       ...              ...  \n",
       "39596      0.373810  Negative              0.0  \n",
       "39937      0.446241  Negative              1.0  \n",
       "8532       0.367708  Negative              1.0  \n",
       "34581      0.559375  Negative              1.0  \n",
       "17657      0.588095  Negative              0.0  \n",
       "\n",
       "[10000 rows x 6 columns]"
      ]
     },
     "execution_count": 47,
     "metadata": {},
     "output_type": "execute_result"
    }
   ],
   "source": [
    "result"
   ]
  },
  {
   "cell_type": "markdown",
   "id": "55ea27ff",
   "metadata": {},
   "source": [
    "# Finally we create the modeling"
   ]
  },
  {
   "cell_type": "code",
   "execution_count": 48,
   "id": "e7122528",
   "metadata": {},
   "outputs": [
    {
     "data": {
      "text/plain": [
       "Index(['text', 'label', 'polarity', 'subjectivity', 'Sentiment',\n",
       "       'Sentiment_label'],\n",
       "      dtype='object')"
      ]
     },
     "execution_count": 48,
     "metadata": {},
     "output_type": "execute_result"
    }
   ],
   "source": [
    "#Check the columns in the dataset\n",
    "result.columns"
   ]
  },
  {
   "cell_type": "code",
   "execution_count": 49,
   "id": "839336bf",
   "metadata": {},
   "outputs": [],
   "source": [
    "#Divide the dataset two varible\n",
    "X=result['text'].values\n",
    "y=result['label'].values"
   ]
  },
  {
   "cell_type": "code",
   "execution_count": 50,
   "id": "14a06b92",
   "metadata": {},
   "outputs": [],
   "source": [
    "#Covert the text into araay using the TfidfVectorizer because the our machine can't learn categorical data\n",
    "from sklearn.feature_extraction.text import TfidfVectorizer"
   ]
  },
  {
   "cell_type": "code",
   "execution_count": 51,
   "id": "eb200684",
   "metadata": {},
   "outputs": [
    {
     "data": {
      "text/plain": [
       "<10000x75516 sparse matrix of type '<class 'numpy.float64'>'\n",
       "\twith 1025485 stored elements in Compressed Sparse Row format>"
      ]
     },
     "execution_count": 51,
     "metadata": {},
     "output_type": "execute_result"
    }
   ],
   "source": [
    "#install the model\n",
    "vector=TfidfVectorizer(lowercase=False)\n",
    "vector.fit(X)\n",
    "#Transform the above fit the data using the TfidfVectorizer and finally print it\n",
    "X=vector.fit_transform(X)\n",
    "X"
   ]
  },
  {
   "cell_type": "code",
   "execution_count": 52,
   "id": "132a6cbe",
   "metadata": {},
   "outputs": [],
   "source": [
    "#divided the data for train and test\n",
    "X_train,X_test,y_train,y_test=train_test_split(X,y,test_size=0.25,random_state=42)"
   ]
  },
  {
   "cell_type": "markdown",
   "id": "4b6ddea5",
   "metadata": {},
   "source": [
    "# Checking the model for Logistic Regerssion"
   ]
  },
  {
   "cell_type": "code",
   "execution_count": 53,
   "id": "d39d892d",
   "metadata": {},
   "outputs": [
    {
     "data": {
      "text/plain": [
       "LogisticRegression()"
      ]
     },
     "execution_count": 53,
     "metadata": {},
     "output_type": "execute_result"
    }
   ],
   "source": [
    "# instancy the Logistiregression model\n",
    "logistic=LogisticRegression()\n",
    "#And fit the data to the model\n",
    "logistic.fit(X_train,y_train)"
   ]
  },
  {
   "cell_type": "code",
   "execution_count": 54,
   "id": "d92d565e",
   "metadata": {},
   "outputs": [
    {
     "data": {
      "text/plain": [
       "array([1, 1, 1, ..., 1, 0, 1])"
      ]
     },
     "execution_count": 54,
     "metadata": {},
     "output_type": "execute_result"
    }
   ],
   "source": [
    "#Prediction to the data\n",
    "logistic_pred=logistic.predict(X_test)\n",
    "logistic_pred"
   ]
  },
  {
   "cell_type": "code",
   "execution_count": 55,
   "id": "e3bb8189",
   "metadata": {},
   "outputs": [
    {
     "name": "stdout",
     "output_type": "stream",
     "text": [
      "The Logisticregression model test score is 85.48\n",
      "The Logisticregression model train scores is 94.52\n"
     ]
    }
   ],
   "source": [
    "#Check the test score and train score to the model\n",
    "print(f'The Logisticregression model test score is {logistic.score(X_test,y_test)*100:.2f}')\n",
    "#Train score for the data\n",
    "print(f'The Logisticregression model train scores is {logistic.score(X_train,y_train)*100:.2f}')"
   ]
  },
  {
   "cell_type": "code",
   "execution_count": 56,
   "id": "7d7f87f6",
   "metadata": {},
   "outputs": [],
   "source": [
    "#import the accuracy_score and classification report to the model\n",
    "from sklearn.metrics import accuracy_score,classification_report,confusion_matrix"
   ]
  },
  {
   "cell_type": "code",
   "execution_count": 57,
   "id": "6d610f24",
   "metadata": {},
   "outputs": [
    {
     "name": "stdout",
     "output_type": "stream",
     "text": [
      "The logisticRegression accuracy_score 85.48\n",
      "              precision    recall  f1-score   support\n",
      "\n",
      "           0       0.88      0.83      0.85      1283\n",
      "           1       0.83      0.88      0.86      1217\n",
      "\n",
      "    accuracy                           0.85      2500\n",
      "   macro avg       0.86      0.86      0.85      2500\n",
      "weighted avg       0.86      0.85      0.85      2500\n",
      "\n"
     ]
    },
    {
     "data": {
      "text/plain": [
       "<AxesSubplot:>"
      ]
     },
     "execution_count": 57,
     "metadata": {},
     "output_type": "execute_result"
    },
    {
     "data": {
      "image/png": "[encoded data removed]",
      "text/plain": [
       "<Figure size 432x288 with 2 Axes>"
      ]
     },
     "metadata": {
      "needs_background": "light"
     },
     "output_type": "display_data"
    }
   ],
   "source": [
    "#Check the accuracy_score to the model\n",
    "print(f'The logisticRegression accuracy_score {accuracy_score(y_test,logistic_pred)*100:.2f}')\n",
    "#Classification report\n",
    "print(classification_report(y_test,logistic_pred))\n",
    "#confusion_matrix\n",
    "cn=confusion_matrix(y_test,logistic_pred)\n",
    "sns.heatmap(cn,annot=True,cmap='YlOrRd_r',xticklabels=['Negative','Positive'],yticklabels=['Negative','Positive'])"
   ]
  },
  {
   "cell_type": "markdown",
   "id": "f7c4336e",
   "metadata": {},
   "source": [
    "# DecisionTreeClassifier"
   ]
  },
  {
   "cell_type": "code",
   "execution_count": 58,
   "id": "a07bb6ce",
   "metadata": {},
   "outputs": [
    {
     "data": {
      "text/plain": [
       "DecisionTreeClassifier()"
      ]
     },
     "execution_count": 58,
     "metadata": {},
     "output_type": "execute_result"
    }
   ],
   "source": [
    "#install the DecisionTreeCalssifier\n",
    "from sklearn.tree import DecisionTreeClassifier\n",
    "#Install the model\n",
    "tree=DecisionTreeClassifier()\n",
    "#fit the model to the train data\n",
    "tree.fit(X_train,y_train)"
   ]
  },
  {
   "cell_type": "code",
   "execution_count": 59,
   "id": "a1ccba2b",
   "metadata": {},
   "outputs": [
    {
     "data": {
      "text/plain": [
       "array([1, 1, 1, ..., 1, 0, 1])"
      ]
     },
     "execution_count": 59,
     "metadata": {},
     "output_type": "execute_result"
    }
   ],
   "source": [
    "#prediction\n",
    "tree_pred=tree.predict(X_test)\n",
    "tree_pred"
   ]
  },
  {
   "cell_type": "code",
   "execution_count": 60,
   "id": "df009bbd",
   "metadata": {},
   "outputs": [
    {
     "name": "stdout",
     "output_type": "stream",
     "text": [
      "The DecisiontreeClassification model test score is 69.24\n",
      "The DecisiontreeClassification model train scores is 100.00\n",
      "The DecisiontreeClassification accuracy_score 69.24\n"
     ]
    }
   ],
   "source": [
    "#Check the test score and train score to the model\n",
    "print(f'The DecisiontreeClassification model test score is {tree.score(X_test,y_test)*100:.2f}')\n",
    "#Train score for the data\n",
    "print(f'The DecisiontreeClassification model train scores is {tree.score(X_train,y_train)*100:.2f}')\n",
    "#Check the accuracy_score to the model\n",
    "print(f'The DecisiontreeClassification accuracy_score {accuracy_score(y_test,tree_pred)*100:.2f}')"
   ]
  },
  {
   "cell_type": "code",
   "execution_count": 61,
   "id": "e785e9eb",
   "metadata": {},
   "outputs": [
    {
     "name": "stdout",
     "output_type": "stream",
     "text": [
      "              precision    recall  f1-score   support\n",
      "\n",
      "           0       0.71      0.69      0.70      1283\n",
      "           1       0.68      0.70      0.69      1217\n",
      "\n",
      "    accuracy                           0.69      2500\n",
      "   macro avg       0.69      0.69      0.69      2500\n",
      "weighted avg       0.69      0.69      0.69      2500\n",
      "\n"
     ]
    },
    {
     "data": {
      "text/plain": [
       "<AxesSubplot:>"
      ]
     },
     "execution_count": 61,
     "metadata": {},
     "output_type": "execute_result"
    },
    {
     "data": {
      "image/png": "[encoded data removed]",
      "text/plain": [
       "<Figure size 432x288 with 2 Axes>"
      ]
     },
     "metadata": {
      "needs_background": "light"
     },
     "output_type": "display_data"
    }
   ],
   "source": [
    "#Classification report\n",
    "print(classification_report(y_test,tree_pred))\n",
    "#confusion_matrix\n",
    "cn=confusion_matrix(y_test,tree_pred)\n",
    "sns.heatmap(cn,annot=True,cmap='mako_r',xticklabels=['Negative','Positive'],yticklabels=['Negative','Positive'])"
   ]
  },
  {
   "cell_type": "markdown",
   "id": "c34e6a10",
   "metadata": {},
   "source": [
    "# RandomForestClassifier"
   ]
  },
  {
   "cell_type": "code",
   "execution_count": 62,
   "id": "68ba539c",
   "metadata": {},
   "outputs": [
    {
     "data": {
      "text/plain": [
       "RandomForestClassifier()"
      ]
     },
     "execution_count": 62,
     "metadata": {},
     "output_type": "execute_result"
    }
   ],
   "source": [
    "#Import the randomforestclassifier\n",
    "from sklearn.ensemble import RandomForestClassifier\n",
    "#install the model \n",
    "random=RandomForestClassifier()\n",
    "#fit the train data to mode\n",
    "random.fit(X_train,y_train)"
   ]
  },
  {
   "cell_type": "code",
   "execution_count": 63,
   "id": "f9e91653",
   "metadata": {},
   "outputs": [
    {
     "data": {
      "text/plain": [
       "array([1, 1, 1, ..., 1, 0, 1])"
      ]
     },
     "execution_count": 63,
     "metadata": {},
     "output_type": "execute_result"
    }
   ],
   "source": [
    "#prediction\n",
    "random_pred=random.predict(X_test)\n",
    "random_pred"
   ]
  },
  {
   "cell_type": "code",
   "execution_count": 64,
   "id": "da74fa0e",
   "metadata": {},
   "outputs": [
    {
     "name": "stdout",
     "output_type": "stream",
     "text": [
      "The RandomForestClassifier model test score is 81.76\n",
      "The RandomForestClassifier model train scores is 100.00\n",
      "The RandomForestClassifier accuracy_score 81.76\n"
     ]
    }
   ],
   "source": [
    "#Check the test score and train score to the model\n",
    "print(f'The RandomForestClassifier model test score is {random.score(X_test,y_test)*100:.2f}')\n",
    "#Train score for the data\n",
    "print(f'The RandomForestClassifier model train scores is {random.score(X_train,y_train)*100:.2f}')\n",
    "#Check the accuracy_score to the model\n",
    "print(f'The RandomForestClassifier accuracy_score {accuracy_score(y_test,random_pred)*100:.2f}')"
   ]
  },
  {
   "cell_type": "code",
   "execution_count": 65,
   "id": "429f78a5",
   "metadata": {},
   "outputs": [
    {
     "name": "stdout",
     "output_type": "stream",
     "text": [
      "              precision    recall  f1-score   support\n",
      "\n",
      "           0       0.82      0.82      0.82      1283\n",
      "           1       0.81      0.82      0.81      1217\n",
      "\n",
      "    accuracy                           0.82      2500\n",
      "   macro avg       0.82      0.82      0.82      2500\n",
      "weighted avg       0.82      0.82      0.82      2500\n",
      "\n"
     ]
    },
    {
     "data": {
      "text/plain": [
       "<AxesSubplot:>"
      ]
     },
     "execution_count": 65,
     "metadata": {},
     "output_type": "execute_result"
    },
    {
     "data": {
      "image/png": "[encoded data removed]",
      "text/plain": [
       "<Figure size 432x288 with 2 Axes>"
      ]
     },
     "metadata": {
      "needs_background": "light"
     },
     "output_type": "display_data"
    }
   ],
   "source": [
    "#Classification report\n",
    "print(classification_report(y_test,random_pred))\n",
    "#confusion_matrix\n",
    "cn=confusion_matrix(y_test,random_pred)\n",
    "sns.heatmap(cn,annot=True,cmap='YlGnBu',xticklabels=['Negative','Positive'],yticklabels=['Negative','Positive'])"
   ]
  },
  {
   "cell_type": "markdown",
   "id": "72885adf",
   "metadata": {},
   "source": [
    "# MultinomialNB"
   ]
  },
  {
   "cell_type": "code",
   "execution_count": 66,
   "id": "e220f6a7",
   "metadata": {},
   "outputs": [
    {
     "data": {
      "text/plain": [
       "MultinomialNB()"
      ]
     },
     "execution_count": 66,
     "metadata": {},
     "output_type": "execute_result"
    }
   ],
   "source": [
    "#Import the MultinomialNB algorithm to train the our model\n",
    "from sklearn.naive_bayes import MultinomialNB\n",
    "#install the model\n",
    "multinomial=MultinomialNB()\n",
    "#fit the train data to our model\n",
    "multinomial.fit(X_train,y_train)"
   ]
  },
  {
   "cell_type": "code",
   "execution_count": 67,
   "id": "3701629a",
   "metadata": {},
   "outputs": [
    {
     "data": {
      "text/plain": [
       "array([1, 1, 1, ..., 1, 0, 1])"
      ]
     },
     "execution_count": 67,
     "metadata": {},
     "output_type": "execute_result"
    }
   ],
   "source": [
    "#Prediction to the test data\n",
    "multinomial_pred=multinomial.predict(X_test)\n",
    "multinomial_pred"
   ]
  },
  {
   "cell_type": "code",
   "execution_count": 68,
   "id": "e240ddce",
   "metadata": {},
   "outputs": [
    {
     "name": "stdout",
     "output_type": "stream",
     "text": [
      "The RandomForestClassifier model test score is 84.36\n",
      "The RandomForestClassifier model train scores is 95.03\n",
      "The RandomForestClassifier accuracy_score 84.36\n"
     ]
    }
   ],
   "source": [
    "#Check the test score and train score to the model\n",
    "print(f'The RandomForestClassifier model test score is {multinomial.score(X_test,y_test)*100:.2f}')\n",
    "#Train score for the data\n",
    "print(f'The RandomForestClassifier model train scores is {multinomial.score(X_train,y_train)*100:.2f}')\n",
    "#Check the accuracy_score to the model\n",
    "print(f'The RandomForestClassifier accuracy_score {accuracy_score(y_test,multinomial_pred)*100:.2f}')"
   ]
  },
  {
   "cell_type": "code",
   "execution_count": 69,
   "id": "6c2ab266",
   "metadata": {},
   "outputs": [
    {
     "name": "stdout",
     "output_type": "stream",
     "text": [
      "              precision    recall  f1-score   support\n",
      "\n",
      "           0       0.85      0.85      0.85      1283\n",
      "           1       0.84      0.84      0.84      1217\n",
      "\n",
      "    accuracy                           0.84      2500\n",
      "   macro avg       0.84      0.84      0.84      2500\n",
      "weighted avg       0.84      0.84      0.84      2500\n",
      "\n"
     ]
    },
    {
     "data": {
      "text/plain": [
       "<AxesSubplot:>"
      ]
     },
     "execution_count": 69,
     "metadata": {},
     "output_type": "execute_result"
    },
    {
     "data": {
      "image/png": "[encoded data removed]",
      "text/plain": [
       "<Figure size 432x288 with 2 Axes>"
      ]
     },
     "metadata": {
      "needs_background": "light"
     },
     "output_type": "display_data"
    }
   ],
   "source": [
    "#Classification report\n",
    "print(classification_report(y_test,multinomial_pred))\n",
    "#confusion_matrix\n",
    "cn=confusion_matrix(y_test,multinomial_pred)\n",
    "sns.heatmap(cn,annot=True,cmap='gist_ncar_r',xticklabels=['Negative','Positive'],yticklabels=['Negative','Positive'])"
   ]
  },
  {
   "cell_type": "markdown",
   "id": "cb24ce1f",
   "metadata": {},
   "source": [
    "# XGBClassifier"
   ]
  },
  {
   "cell_type": "code",
   "execution_count": 70,
   "id": "468d6728",
   "metadata": {},
   "outputs": [
    {
     "name": "stderr",
     "output_type": "stream",
     "text": [
      "/home/vinod/anaconda3/lib/python3.9/site-packages/xgboost/compat.py:85: FutureWarning: pandas.Int64Index is deprecated and will be removed from pandas in a future version. Use pandas.Index with the appropriate dtype instead.\n",
      "  from pandas import MultiIndex, Int64Index\n"
     ]
    },
    {
     "data": {
      "text/plain": [
       "XGBClassifier(base_score=0.5, booster=None, colsample_bylevel=1,\n",
       "              colsample_bynode=1, colsample_bytree=1, gamma=0, gpu_id=-1,\n",
       "              importance_type='gain', interaction_constraints=None,\n",
       "              learning_rate=0.300000012, max_delta_step=0, max_depth=6,\n",
       "              min_child_weight=1, missing=nan, monotone_constraints=None,\n",
       "              n_estimators=100, n_jobs=0, num_parallel_tree=1, random_state=0,\n",
       "              reg_alpha=0, reg_lambda=1, scale_pos_weight=1, subsample=1,\n",
       "              tree_method=None, validate_parameters=False, verbosity=None)"
      ]
     },
     "execution_count": 70,
     "metadata": {},
     "output_type": "execute_result"
    }
   ],
   "source": [
    "#import theXGBClssifier\n",
    "from xgboost import XGBClassifier\n",
    "#install the model\n",
    "xgb=XGBClassifier()\n",
    "#fit the data\n",
    "xgb.fit(X_train,y_train)"
   ]
  },
  {
   "cell_type": "code",
   "execution_count": 71,
   "id": "72823fcc",
   "metadata": {},
   "outputs": [
    {
     "data": {
      "text/plain": [
       "array([0, 1, 1, ..., 0, 0, 1])"
      ]
     },
     "execution_count": 71,
     "metadata": {},
     "output_type": "execute_result"
    }
   ],
   "source": [
    "#Prediction to the test data\n",
    "xgb_pred=xgb.predict(X_test)\n",
    "xgb_pred"
   ]
  },
  {
   "cell_type": "code",
   "execution_count": 72,
   "id": "4856d4a8",
   "metadata": {},
   "outputs": [
    {
     "name": "stdout",
     "output_type": "stream",
     "text": [
      "The XGBClassifier model test score is 82.36\n",
      "The XGBClassifier model train scores is 98.47\n",
      "The XGBClassifier accuracy_score 82.36\n"
     ]
    }
   ],
   "source": [
    "#Check the test score and train score to the model\n",
    "print(f'The XGBClassifier model test score is {xgb.score(X_test,y_test)*100:.2f}')\n",
    "#Train score for the data\n",
    "print(f'The XGBClassifier model train scores is {xgb.score(X_train,y_train)*100:.2f}')\n",
    "#Check the accuracy_score to the model\n",
    "print(f'The XGBClassifier accuracy_score {accuracy_score(y_test,xgb_pred)*100:.2f}')"
   ]
  },
  {
   "cell_type": "code",
   "execution_count": 73,
   "id": "c2eedf4d",
   "metadata": {},
   "outputs": [
    {
     "name": "stdout",
     "output_type": "stream",
     "text": [
      "              precision    recall  f1-score   support\n",
      "\n",
      "           0       0.85      0.80      0.82      1283\n",
      "           1       0.80      0.85      0.82      1217\n",
      "\n",
      "    accuracy                           0.82      2500\n",
      "   macro avg       0.82      0.82      0.82      2500\n",
      "weighted avg       0.82      0.82      0.82      2500\n",
      "\n"
     ]
    },
    {
     "data": {
      "text/plain": [
       "<AxesSubplot:>"
      ]
     },
     "execution_count": 73,
     "metadata": {},
     "output_type": "execute_result"
    },
    {
     "data": {
      "image/png": "[encoded data removed]",
      "text/plain": [
       "<Figure size 432x288 with 2 Axes>"
      ]
     },
     "metadata": {
      "needs_background": "light"
     },
     "output_type": "display_data"
    }
   ],
   "source": [
    "#Classification report\n",
    "print(classification_report(y_test,xgb_pred))\n",
    "#confusion_matrix\n",
    "cn=confusion_matrix(y_test,xgb_pred)\n",
    "sns.heatmap(cn,annot=True,cmap='RdBu_r',xticklabels=['Negative','Positive'],yticklabels=['Negative','Positive'])"
   ]
  },
  {
   "cell_type": "markdown",
   "id": "a15ead28",
   "metadata": {},
   "source": [
    "# Hyperparameter Tunning\n",
    "A hyperparameter is a parameter whose value is set before the learning process begins.\n",
    "\n",
    "Hyperparameters tuning is crucial as they control the overall behavior of a machine learning model.\n",
    "\n",
    "Every machine learning models will have different hyperparameters that can be set."
   ]
  },
  {
   "cell_type": "markdown",
   "id": "19f19a11",
   "metadata": {},
   "source": [
    "# RandomizedSearchCV\n",
    "RandomizedSearchCV is very useful when we have many parameters to try and the training time is very long.\n",
    "\n",
    "1.The first step is to write the parameters that we want to consider\n",
    "2.From these parameters select the best ones.(which are printed in output)"
   ]
  },
  {
   "cell_type": "code",
   "execution_count": 74,
   "id": "7b7c6211",
   "metadata": {},
   "outputs": [],
   "source": [
    "# Helper function to perform hyper parameter tunning with RandomizedSearchCV\n",
    "def random_search(model,X_train,Y_train,param_grid):\n",
    "    from sklearn.model_selection import RandomizedSearchCV\n",
    "    \n",
    " # Random search of parameters, using 3 fold cross validation, \n",
    "  # search across 100 different combinations, and use all available cores\n",
    "    random=RandomizedSearchCV(estimator=model,param_distributions=param_grid,n_iter=20,cv=3,verbose=2,random_state=42,n_jobs=-1)\n",
    "    random.fit(X_train,y_train)\n",
    "  # print best parameters    \n",
    "    print(random.best_params_)"
   ]
  },
  {
   "cell_type": "markdown",
   "id": "245371e2",
   "metadata": {},
   "source": [
    "# LogisticRegression"
   ]
  },
  {
   "cell_type": "code",
   "execution_count": 75,
   "id": "1095d465",
   "metadata": {},
   "outputs": [
    {
     "name": "stdout",
     "output_type": "stream",
     "text": [
      "Fitting 3 folds for each of 10 candidates, totalling 30 fits\n"
     ]
    },
    {
     "name": "stderr",
     "output_type": "stream",
     "text": [
      "/home/vinod/anaconda3/lib/python3.9/site-packages/sklearn/model_selection/_search.py:292: UserWarning: The total space of parameters 10 is smaller than n_iter=20. Running 10 iterations. For exhaustive searches, use GridSearchCV.\n",
      "  warnings.warn(\n",
      "/home/vinod/anaconda3/lib/python3.9/site-packages/sklearn/linear_model/_logistic.py:814: ConvergenceWarning: lbfgs failed to converge (status=1):\n",
      "STOP: TOTAL NO. of ITERATIONS REACHED LIMIT.\n",
      "\n",
      "Increase the number of iterations (max_iter) or scale the data as shown in:\n",
      "    https://scikit-learn.org/stable/modules/preprocessing.html\n",
      "Please also refer to the documentation for alternative solver options:\n",
      "    https://scikit-learn.org/stable/modules/linear_model.html#logistic-regression\n",
      "  n_iter_i = _check_optimize_result(\n",
      "/home/vinod/anaconda3/lib/python3.9/site-packages/sklearn/linear_model/_logistic.py:814: ConvergenceWarning: lbfgs failed to converge (status=1):\n",
      "STOP: TOTAL NO. of ITERATIONS REACHED LIMIT.\n",
      "\n",
      "Increase the number of iterations (max_iter) or scale the data as shown in:\n",
      "    https://scikit-learn.org/stable/modules/preprocessing.html\n",
      "Please also refer to the documentation for alternative solver options:\n",
      "    https://scikit-learn.org/stable/modules/linear_model.html#logistic-regression\n",
      "  n_iter_i = _check_optimize_result(\n",
      "/home/vinod/anaconda3/lib/python3.9/site-packages/sklearn/linear_model/_logistic.py:814: ConvergenceWarning: lbfgs failed to converge (status=1):\n",
      "STOP: TOTAL NO. of ITERATIONS REACHED LIMIT.\n",
      "\n",
      "Increase the number of iterations (max_iter) or scale the data as shown in:\n",
      "    https://scikit-learn.org/stable/modules/preprocessing.html\n",
      "Please also refer to the documentation for alternative solver options:\n",
      "    https://scikit-learn.org/stable/modules/linear_model.html#logistic-regression\n",
      "  n_iter_i = _check_optimize_result(\n",
      "/home/vinod/anaconda3/lib/python3.9/site-packages/sklearn/linear_model/_logistic.py:814: ConvergenceWarning: lbfgs failed to converge (status=1):\n",
      "STOP: TOTAL NO. of ITERATIONS REACHED LIMIT.\n",
      "\n",
      "Increase the number of iterations (max_iter) or scale the data as shown in:\n",
      "    https://scikit-learn.org/stable/modules/preprocessing.html\n",
      "Please also refer to the documentation for alternative solver options:\n",
      "    https://scikit-learn.org/stable/modules/linear_model.html#logistic-regression\n",
      "  n_iter_i = _check_optimize_result(\n",
      "/home/vinod/anaconda3/lib/python3.9/site-packages/sklearn/linear_model/_logistic.py:814: ConvergenceWarning: lbfgs failed to converge (status=1):\n",
      "STOP: TOTAL NO. of ITERATIONS REACHED LIMIT.\n",
      "\n",
      "Increase the number of iterations (max_iter) or scale the data as shown in:\n",
      "    https://scikit-learn.org/stable/modules/preprocessing.html\n",
      "Please also refer to the documentation for alternative solver options:\n",
      "    https://scikit-learn.org/stable/modules/linear_model.html#logistic-regression\n",
      "  n_iter_i = _check_optimize_result(\n",
      "/home/vinod/anaconda3/lib/python3.9/site-packages/sklearn/model_selection/_validation.py:372: FitFailedWarning: \n",
      "15 fits failed out of a total of 30.\n",
      "The score on these train-test partitions for these parameters will be set to nan.\n",
      "If these failures are not expected, you can try to debug them by setting error_score='raise'.\n",
      "\n",
      "Below are more details about the failures:\n",
      "--------------------------------------------------------------------------------\n",
      "15 fits failed with the following error:\n",
      "Traceback (most recent call last):\n",
      "  File \"/home/vinod/anaconda3/lib/python3.9/site-packages/sklearn/model_selection/_validation.py\", line 680, in _fit_and_score\n",
      "    estimator.fit(X_train, y_train, **fit_params)\n",
      "  File \"/home/vinod/anaconda3/lib/python3.9/site-packages/sklearn/linear_model/_logistic.py\", line 1461, in fit\n",
      "    solver = _check_solver(self.solver, self.penalty, self.dual)\n",
      "  File \"/home/vinod/anaconda3/lib/python3.9/site-packages/sklearn/linear_model/_logistic.py\", line 447, in _check_solver\n",
      "    raise ValueError(\n",
      "ValueError: Solver lbfgs supports only 'l2' or 'none' penalties, got l1 penalty.\n",
      "\n",
      "  warnings.warn(some_fits_failed_message, FitFailedWarning)\n",
      "/home/vinod/anaconda3/lib/python3.9/site-packages/sklearn/model_selection/_search.py:969: UserWarning: One or more of the test scores are non-finite: [       nan 0.7504            nan 0.81413333        nan 0.85546667\n",
      "        nan 0.86146667        nan 0.8588    ]\n",
      "  warnings.warn(\n"
     ]
    },
    {
     "name": "stdout",
     "output_type": "stream",
     "text": [
      "{'penalty': 'l2', 'C': 10.0}\n"
     ]
    },
    {
     "name": "stderr",
     "output_type": "stream",
     "text": [
      "/home/vinod/anaconda3/lib/python3.9/site-packages/sklearn/linear_model/_logistic.py:814: ConvergenceWarning: lbfgs failed to converge (status=1):\n",
      "STOP: TOTAL NO. of ITERATIONS REACHED LIMIT.\n",
      "\n",
      "Increase the number of iterations (max_iter) or scale the data as shown in:\n",
      "    https://scikit-learn.org/stable/modules/preprocessing.html\n",
      "Please also refer to the documentation for alternative solver options:\n",
      "    https://scikit-learn.org/stable/modules/linear_model.html#logistic-regression\n",
      "  n_iter_i = _check_optimize_result(\n"
     ]
    }
   ],
   "source": [
    "# create  parameters dict in list for tunning\n",
    "log_para_grid = {\n",
    "    'C':10.0 **np.arange(-2,3),\n",
    "    'penalty':['l1','l2']\n",
    "    }\n",
    "\n",
    "# passing data for hyper parameter tunning with Gridsearchcv    \n",
    "random_search(LogisticRegression(),X_train,y_train,log_para_grid)"
   ]
  },
  {
   "cell_type": "code",
   "execution_count": 76,
   "id": "337fa1e7",
   "metadata": {},
   "outputs": [
    {
     "name": "stderr",
     "output_type": "stream",
     "text": [
      "/home/vinod/anaconda3/lib/python3.9/site-packages/sklearn/linear_model/_logistic.py:814: ConvergenceWarning: lbfgs failed to converge (status=1):\n",
      "STOP: TOTAL NO. of ITERATIONS REACHED LIMIT.\n",
      "\n",
      "Increase the number of iterations (max_iter) or scale the data as shown in:\n",
      "    https://scikit-learn.org/stable/modules/preprocessing.html\n",
      "Please also refer to the documentation for alternative solver options:\n",
      "    https://scikit-learn.org/stable/modules/linear_model.html#logistic-regression\n",
      "  n_iter_i = _check_optimize_result(\n"
     ]
    },
    {
     "data": {
      "text/plain": [
       "LogisticRegression(C=10.0)"
      ]
     },
     "execution_count": 76,
     "metadata": {},
     "output_type": "execute_result"
    }
   ],
   "source": [
    "# instancy the Logistiregression model\n",
    "logistic1=LogisticRegression(**{'penalty': 'l2', 'C': 10.0})\n",
    "#And fit the data to the model\n",
    "logistic1.fit(X_train,y_train)"
   ]
  },
  {
   "cell_type": "code",
   "execution_count": 77,
   "id": "c1ce6e3f",
   "metadata": {},
   "outputs": [
    {
     "data": {
      "text/plain": [
       "array([0, 1, 1, ..., 1, 0, 1])"
      ]
     },
     "execution_count": 77,
     "metadata": {},
     "output_type": "execute_result"
    }
   ],
   "source": [
    "#Predicion to the data\n",
    "logistic1_pred=logistic1.predict(X_test)\n",
    "logistic1_pred"
   ]
  },
  {
   "cell_type": "code",
   "execution_count": 78,
   "id": "d0d6541e",
   "metadata": {},
   "outputs": [
    {
     "name": "stdout",
     "output_type": "stream",
     "text": [
      "The Logistiregression model test score is 85.60\n",
      "The Logistiregression model train scores is 99.80\n",
      "The Logistiregression accuracy_score 85.60\n"
     ]
    }
   ],
   "source": [
    "#Check the test score and train score to the model\n",
    "print(f'The Logistiregression model test score is {logistic1.score(X_test,y_test)*100:.2f}')\n",
    "#Train score for the data\n",
    "print(f'The Logistiregression model train scores is {logistic1.score(X_train,y_train)*100:.2f}')\n",
    "#Check the accuracy_score to the model\n",
    "print(f'The Logistiregression accuracy_score {accuracy_score(y_test,logistic1_pred)*100:.2f}')"
   ]
  },
  {
   "cell_type": "markdown",
   "id": "52e27f3a",
   "metadata": {},
   "source": [
    "# RandomForestClassifier"
   ]
  },
  {
   "cell_type": "code",
   "execution_count": 79,
   "id": "b0425922",
   "metadata": {},
   "outputs": [
    {
     "name": "stdout",
     "output_type": "stream",
     "text": [
      "Fitting 3 folds for each of 20 candidates, totalling 60 fits\n",
      "{'n_estimators': 200, 'min_samples_split': 2, 'min_samples_leaf': 1, 'max_features': 'auto', 'max_depth': 10, 'bootstrap': True}\n"
     ]
    }
   ],
   "source": [
    "# create Classification parameters dict for tunning\n",
    "rf_para_grid={'n_estimators': list(range(150, 301, 50)),\n",
    "               'max_features': ['auto', 'sqrt'],\n",
    "               'max_depth': [int(x) for x in np.linspace(3, 10, num = 3)],\n",
    "               'min_samples_split': [2, 5],\n",
    "               'min_samples_leaf': [1, 2],\n",
    "               'bootstrap': [True, False]}\n",
    "# passing data for hyper parameter tunning with Randomized search cv\n",
    "random_search(RandomForestClassifier(),X_train,y_train,rf_para_grid)"
   ]
  },
  {
   "cell_type": "code",
   "execution_count": 80,
   "id": "96362671",
   "metadata": {},
   "outputs": [
    {
     "data": {
      "text/plain": [
       "RandomForestClassifier(max_depth=10, min_samples_leaf=2, min_samples_split=5,\n",
       "                       n_estimators=250)"
      ]
     },
     "execution_count": 80,
     "metadata": {},
     "output_type": "execute_result"
    }
   ],
   "source": [
    "#Import the randomforestclassifier\n",
    "from sklearn.ensemble import RandomForestClassifier\n",
    "#install the model \n",
    "random1=RandomForestClassifier(**{'n_estimators': 250, 'min_samples_split': 5, 'min_samples_leaf': 2, 'max_features': 'auto', 'max_depth': 10, 'bootstrap': True})\n",
    "#fit the train data to mode\n",
    "random1.fit(X_train,y_train)"
   ]
  },
  {
   "cell_type": "code",
   "execution_count": 81,
   "id": "faf0b2e3",
   "metadata": {},
   "outputs": [
    {
     "data": {
      "text/plain": [
       "array([1, 1, 1, ..., 1, 0, 1])"
      ]
     },
     "execution_count": 81,
     "metadata": {},
     "output_type": "execute_result"
    }
   ],
   "source": [
    "#Prediction data\n",
    "random1_pred=random1.predict(X_test)\n",
    "random1_pred"
   ]
  },
  {
   "cell_type": "code",
   "execution_count": 82,
   "id": "1ae1bf01",
   "metadata": {},
   "outputs": [
    {
     "name": "stdout",
     "output_type": "stream",
     "text": [
      "The randomforestclassifier model test score is 81.00\n",
      "The randomforestclassifier model train scores is 89.48\n",
      "The randomforestclassifier accuracy_score 81.00\n"
     ]
    }
   ],
   "source": [
    "#Check the test score and train score to the model\n",
    "print(f'The randomforestclassifier model test score is {random1.score(X_test,y_test)*100:.2f}')\n",
    "#Train score for the data\n",
    "print(f'The randomforestclassifier model train scores is {random1.score(X_train,y_train)*100:.2f}')\n",
    "#Check the accuracy_score to the model\n",
    "print(f'The randomforestclassifier accuracy_score {accuracy_score(y_test,random1_pred)*100:.2f}')"
   ]
  },
  {
   "cell_type": "markdown",
   "id": "b7a12ead",
   "metadata": {},
   "source": [
    "# DecisionTreeClassifier"
   ]
  },
  {
   "cell_type": "code",
   "execution_count": 83,
   "id": "ce49973e",
   "metadata": {},
   "outputs": [
    {
     "name": "stdout",
     "output_type": "stream",
     "text": [
      "Fitting 3 folds for each of 20 candidates, totalling 60 fits\n",
      "{'splitter': 'best', 'min_samples_leaf': 4, 'max_features': 'sqrt', 'max_depth': 9}\n"
     ]
    }
   ],
   "source": [
    "# create  parameters dict for tunning\n",
    "DTR_para_grid = {\n",
    "                  \"splitter\":[\"best\",\"random\"],\n",
    "            \"max_depth\" : [3,5,7,9],\n",
    "           \"min_samples_leaf\":[1,2,3,4],\n",
    "           \"max_features\":[\"auto\",\"log2\",\"sqrt\"]\n",
    "              }\n",
    "\n",
    "# passing data for hyper parameter tunning with Randomized search cv\n",
    "random_search(DecisionTreeClassifier(),X_train,y_train,DTR_para_grid)"
   ]
  },
  {
   "cell_type": "code",
   "execution_count": 84,
   "id": "95b1f23a",
   "metadata": {},
   "outputs": [
    {
     "data": {
      "text/plain": [
       "DecisionTreeClassifier(max_depth=5, max_features='auto', min_samples_leaf=4)"
      ]
     },
     "execution_count": 84,
     "metadata": {},
     "output_type": "execute_result"
    }
   ],
   "source": [
    "#Install the model\n",
    "tree1=DecisionTreeClassifier(**{'splitter': 'best', 'min_samples_leaf': 4, 'max_features': 'auto', 'max_depth': 5})\n",
    "#fit the model to the train data\n",
    "tree1.fit(X_train,y_train)"
   ]
  },
  {
   "cell_type": "code",
   "execution_count": 85,
   "id": "3d07a98e",
   "metadata": {},
   "outputs": [
    {
     "data": {
      "text/plain": [
       "array([1, 1, 1, ..., 1, 1, 1])"
      ]
     },
     "execution_count": 85,
     "metadata": {},
     "output_type": "execute_result"
    }
   ],
   "source": [
    "#Prediction\n",
    "tree1_pred=tree1.predict(X_test)\n",
    "tree1_pred"
   ]
  },
  {
   "cell_type": "code",
   "execution_count": 86,
   "id": "5da8925e",
   "metadata": {},
   "outputs": [
    {
     "name": "stdout",
     "output_type": "stream",
     "text": [
      "The randomforestclassifier model test score is 52.40\n",
      "The randomforestclassifier model train scores is 54.31\n",
      "The randomforestclassifier accuracy_score 52.40\n"
     ]
    }
   ],
   "source": [
    "#Check the test score and train score to the model\n",
    "print(f'The randomforestclassifier model test score is {tree1.score(X_test,y_test)*100:.2f}')\n",
    "#Train score for the data\n",
    "print(f'The randomforestclassifier model train scores is {tree1.score(X_train,y_train)*100:.2f}')\n",
    "#Check the accuracy_score to the model\n",
    "print(f'The randomforestclassifier accuracy_score {accuracy_score(y_test,tree1_pred)*100:.2f}')"
   ]
  },
  {
   "cell_type": "markdown",
   "id": "dc4b8570",
   "metadata": {},
   "source": [
    "# XGBClassifier"
   ]
  },
  {
   "cell_type": "code",
   "execution_count": 87,
   "id": "b823123d",
   "metadata": {},
   "outputs": [
    {
     "name": "stdout",
     "output_type": "stream",
     "text": [
      "Fitting 3 folds for each of 20 candidates, totalling 60 fits\n"
     ]
    },
    {
     "name": "stderr",
     "output_type": "stream",
     "text": [
      "/home/vinod/anaconda3/lib/python3.9/site-packages/xgboost/compat.py:85: FutureWarning: pandas.Int64Index is deprecated and will be removed from pandas in a future version. Use pandas.Index with the appropriate dtype instead.\n",
      "  from pandas import MultiIndex, Int64Index\n",
      "/home/vinod/anaconda3/lib/python3.9/site-packages/xgboost/compat.py:85: FutureWarning: pandas.Int64Index is deprecated and will be removed from pandas in a future version. Use pandas.Index with the appropriate dtype instead.\n",
      "  from pandas import MultiIndex, Int64Index\n",
      "/home/vinod/anaconda3/lib/python3.9/site-packages/xgboost/compat.py:85: FutureWarning: pandas.Int64Index is deprecated and will be removed from pandas in a future version. Use pandas.Index with the appropriate dtype instead.\n",
      "  from pandas import MultiIndex, Int64Index\n",
      "/home/vinod/anaconda3/lib/python3.9/site-packages/xgboost/compat.py:85: FutureWarning: pandas.Int64Index is deprecated and will be removed from pandas in a future version. Use pandas.Index with the appropriate dtype instead.\n",
      "  from pandas import MultiIndex, Int64Index\n",
      "/home/vinod/anaconda3/lib/python3.9/site-packages/xgboost/compat.py:85: FutureWarning: pandas.Int64Index is deprecated and will be removed from pandas in a future version. Use pandas.Index with the appropriate dtype instead.\n",
      "  from pandas import MultiIndex, Int64Index\n",
      "/home/vinod/anaconda3/lib/python3.9/site-packages/xgboost/compat.py:85: FutureWarning: pandas.Int64Index is deprecated and will be removed from pandas in a future version. Use pandas.Index with the appropriate dtype instead.\n",
      "  from pandas import MultiIndex, Int64Index\n",
      "/home/vinod/anaconda3/lib/python3.9/site-packages/xgboost/compat.py:85: FutureWarning: pandas.Int64Index is deprecated and will be removed from pandas in a future version. Use pandas.Index with the appropriate dtype instead.\n",
      "  from pandas import MultiIndex, Int64Index\n",
      "/home/vinod/anaconda3/lib/python3.9/site-packages/xgboost/compat.py:85: FutureWarning: pandas.Int64Index is deprecated and will be removed from pandas in a future version. Use pandas.Index with the appropriate dtype instead.\n",
      "  from pandas import MultiIndex, Int64Index\n"
     ]
    },
    {
     "name": "stdout",
     "output_type": "stream",
     "text": [
      "{'min_child_weight': 5, 'max_depth': 5, 'learning_rate': 0.1, 'gamma': 0.1, 'colsample_bytree': 0.3}\n"
     ]
    }
   ],
   "source": [
    "# create  parameters dict for tunning\n",
    "XGB_para_grid = {\"learning_rate\"    : [0.05, 0.10] ,\n",
    " \"max_depth\"        : [ 3, 4, 5],\n",
    " \"min_child_weight\" : [ 3, 5, 7 ],\n",
    " \"gamma\"            : [ 0.0, 0.1],\n",
    " \"colsample_bytree\" : [ 0.3, 0.4] }\n",
    "# passing data for hyper parameter tunning with Randomized search cv\n",
    "random_search(XGBClassifier(),X_train,y_train,XGB_para_grid)"
   ]
  },
  {
   "cell_type": "code",
   "execution_count": 88,
   "id": "4a269351",
   "metadata": {},
   "outputs": [
    {
     "data": {
      "text/plain": [
       "XGBClassifier(base_score=0.5, booster=None, colsample_bylevel=1,\n",
       "              colsample_bynode=1, colsample_bytree=0.3, gamma=0.1, gpu_id=-1,\n",
       "              importance_type='gain', interaction_constraints=None,\n",
       "              learning_rate=0.1, max_delta_step=0, max_depth=5,\n",
       "              min_child_weight=3, missing=nan, monotone_constraints=None,\n",
       "              n_estimators=100, n_jobs=0, num_parallel_tree=1, random_state=0,\n",
       "              reg_alpha=0, reg_lambda=1, scale_pos_weight=1, subsample=1,\n",
       "              tree_method=None, validate_parameters=False, verbosity=None)"
      ]
     },
     "execution_count": 88,
     "metadata": {},
     "output_type": "execute_result"
    }
   ],
   "source": [
    "#install the model\n",
    "xgb1=XGBClassifier(**{'min_child_weight': 3, 'max_depth': 5, 'learning_rate': 0.1, 'gamma': 0.1, 'colsample_bytree': 0.3})\n",
    "#fit the data\n",
    "xgb1.fit(X_train,y_train)"
   ]
  },
  {
   "cell_type": "code",
   "execution_count": 89,
   "id": "9ccb0219",
   "metadata": {},
   "outputs": [
    {
     "data": {
      "text/plain": [
       "array([1, 1, 1, ..., 0, 0, 1])"
      ]
     },
     "execution_count": 89,
     "metadata": {},
     "output_type": "execute_result"
    }
   ],
   "source": [
    "#Prediction the data\n",
    "xgb1_pred=xgb1.predict(X_test)\n",
    "xgb1_pred"
   ]
  },
  {
   "cell_type": "code",
   "execution_count": 90,
   "id": "83e028a3",
   "metadata": {},
   "outputs": [
    {
     "name": "stdout",
     "output_type": "stream",
     "text": [
      "The randomforestclassifier model test score is 81.12\n",
      "The randomforestclassifier model train scores is 89.33\n",
      "The randomforestclassifier accuracy_score 81.12\n",
      "[CV] END .................................C=0.01, penalty=l2; total time=   0.5s\n",
      "[CV] END .................................C=10.0, penalty=l1; total time=   0.0s\n",
      "[CV] END .................................C=10.0, penalty=l2; total time=   4.5s\n",
      "[CV] END bootstrap=True, max_depth=10, max_features=auto, min_samples_leaf=2, min_samples_split=5, n_estimators=150; total time=   3.0s\n",
      "[CV] END bootstrap=False, max_depth=10, max_features=sqrt, min_samples_leaf=1, min_samples_split=2, n_estimators=200; total time=   4.4s\n",
      "[CV] END bootstrap=True, max_depth=3, max_features=sqrt, min_samples_leaf=1, min_samples_split=2, n_estimators=150; total time=   1.1s\n",
      "[CV] END bootstrap=True, max_depth=10, max_features=auto, min_samples_leaf=2, min_samples_split=5, n_estimators=250; total time=   4.2s\n",
      "[CV] END bootstrap=False, max_depth=6, max_features=sqrt, min_samples_leaf=2, min_samples_split=2, n_estimators=200; total time=   2.7s\n",
      "[CV] END bootstrap=False, max_depth=6, max_features=sqrt, min_samples_leaf=1, min_samples_split=2, n_estimators=200; total time=   2.9s\n",
      "[CV] END bootstrap=True, max_depth=10, max_features=auto, min_samples_leaf=1, min_samples_split=5, n_estimators=150; total time=   2.2s\n",
      "[CV] END max_depth=9, max_features=auto, min_samples_leaf=3, splitter=random; total time=   0.1s\n",
      "[CV] END max_depth=5, max_features=log2, min_samples_leaf=1, splitter=random; total time=   0.0s\n",
      "[CV] END max_depth=7, max_features=sqrt, min_samples_leaf=3, splitter=random; total time=   0.1s\n",
      "[CV] END max_depth=7, max_features=sqrt, min_samples_leaf=3, splitter=random; total time=   0.1s\n",
      "[CV] END max_depth=5, max_features=auto, min_samples_leaf=4, splitter=best; total time=   0.1s\n",
      "[CV] END max_depth=5, max_features=auto, min_samples_leaf=4, splitter=best; total time=   0.1s\n",
      "[CV] END max_depth=3, max_features=log2, min_samples_leaf=3, splitter=best; total time=   0.1s\n",
      "[CV] END max_depth=9, max_features=log2, min_samples_leaf=3, splitter=random; total time=   0.0s\n",
      "[CV] END colsample_bytree=0.3, gamma=0.1, learning_rate=0.05, max_depth=3, min_child_weight=3; total time=   5.4s\n",
      "[CV] END colsample_bytree=0.3, gamma=0.0, learning_rate=0.05, max_depth=3, min_child_weight=3; total time=   5.3s\n",
      "[CV] END colsample_bytree=0.4, gamma=0.0, learning_rate=0.1, max_depth=4, min_child_weight=7; total time=   9.4s\n",
      "[CV] END colsample_bytree=0.4, gamma=0.1, learning_rate=0.05, max_depth=3, min_child_weight=3; total time=   7.1s\n",
      "[CV] END colsample_bytree=0.3, gamma=0.0, learning_rate=0.1, max_depth=3, min_child_weight=3; total time=   5.1s\n",
      "[CV] END colsample_bytree=0.3, gamma=0.0, learning_rate=0.05, max_depth=4, min_child_weight=7; total time=   6.8s\n",
      "[CV] END colsample_bytree=0.4, gamma=0.0, learning_rate=0.1, max_depth=4, min_child_weight=5; total time=   9.0s\n",
      "[CV] END .................................C=0.01, penalty=l2; total time=   0.7s\n",
      "[CV] END ................................C=100.0, penalty=l2; total time=   4.4s\n",
      "[CV] END bootstrap=True, max_depth=10, max_features=auto, min_samples_leaf=2, min_samples_split=5, n_estimators=150; total time=   2.9s\n",
      "[CV] END bootstrap=False, max_depth=3, max_features=sqrt, min_samples_leaf=1, min_samples_split=2, n_estimators=200; total time=   1.5s\n",
      "[CV] END bootstrap=True, max_depth=3, max_features=auto, min_samples_leaf=2, min_samples_split=5, n_estimators=300; total time=   1.9s\n",
      "[CV] END bootstrap=True, max_depth=3, max_features=auto, min_samples_leaf=2, min_samples_split=5, n_estimators=300; total time=   2.0s\n",
      "[CV] END bootstrap=True, max_depth=3, max_features=auto, min_samples_leaf=2, min_samples_split=2, n_estimators=200; total time=   1.5s\n",
      "[CV] END bootstrap=True, max_depth=10, max_features=auto, min_samples_leaf=1, min_samples_split=2, n_estimators=250; total time=   4.2s\n",
      "[CV] END bootstrap=False, max_depth=6, max_features=sqrt, min_samples_leaf=2, min_samples_split=2, n_estimators=200; total time=   2.8s\n",
      "[CV] END bootstrap=False, max_depth=3, max_features=auto, min_samples_leaf=2, min_samples_split=5, n_estimators=300; total time=   2.4s\n",
      "[CV] END bootstrap=True, max_depth=10, max_features=auto, min_samples_leaf=1, min_samples_split=5, n_estimators=150; total time=   2.0s\n",
      "[CV] END max_depth=9, max_features=auto, min_samples_leaf=1, splitter=random; total time=   0.1s\n",
      "[CV] END max_depth=9, max_features=auto, min_samples_leaf=4, splitter=random; total time=   0.1s\n",
      "[CV] END max_depth=7, max_features=sqrt, min_samples_leaf=1, splitter=best; total time=   0.1s\n",
      "[CV] END max_depth=7, max_features=sqrt, min_samples_leaf=1, splitter=best; total time=   0.1s\n",
      "[CV] END max_depth=5, max_features=auto, min_samples_leaf=2, splitter=best; total time=   0.1s\n",
      "[CV] END max_depth=5, max_features=auto, min_samples_leaf=2, splitter=best; total time=   0.1s\n",
      "[CV] END colsample_bytree=0.3, gamma=0.0, learning_rate=0.05, max_depth=4, min_child_weight=5; total time=   6.9s\n",
      "[CV] END colsample_bytree=0.3, gamma=0.0, learning_rate=0.05, max_depth=3, min_child_weight=3; total time=   5.2s\n",
      "[CV] END colsample_bytree=0.3, gamma=0.0, learning_rate=0.1, max_depth=3, min_child_weight=5; total time=   5.0s\n",
      "[CV] END colsample_bytree=0.3, gamma=0.0, learning_rate=0.1, max_depth=4, min_child_weight=3; total time=   6.9s\n",
      "[CV] END colsample_bytree=0.4, gamma=0.0, learning_rate=0.1, max_depth=3, min_child_weight=7; total time=   6.4s\n",
      "[CV] END colsample_bytree=0.3, gamma=0.0, learning_rate=0.1, max_depth=3, min_child_weight=3; total time=   5.2s\n",
      "[CV] END colsample_bytree=0.3, gamma=0.1, learning_rate=0.05, max_depth=4, min_child_weight=5; total time=   7.1s\n",
      "[CV] END colsample_bytree=0.3, gamma=0.1, learning_rate=0.1, max_depth=5, min_child_weight=3; total time=   7.8s\n",
      "[CV] END ..................................C=0.1, penalty=l1; total time=   0.0s\n",
      "[CV] END ..................................C=1.0, penalty=l1; total time=   0.0s\n",
      "[CV] END ..................................C=1.0, penalty=l1; total time=   0.0s\n",
      "[CV] END ..................................C=1.0, penalty=l1; total time=   0.0s\n",
      "[CV] END ..................................C=1.0, penalty=l2; total time=   1.4s\n",
      "[CV] END ................................C=100.0, penalty=l2; total time=   3.4s\n",
      "[CV] END bootstrap=False, max_depth=6, max_features=auto, min_samples_leaf=2, min_samples_split=2, n_estimators=150; total time=   2.3s\n",
      "[CV] END bootstrap=False, max_depth=6, max_features=auto, min_samples_leaf=2, min_samples_split=5, n_estimators=300; total time=   4.2s\n",
      "[CV] END bootstrap=True, max_depth=3, max_features=sqrt, min_samples_leaf=1, min_samples_split=2, n_estimators=250; total time=   1.8s\n",
      "[CV] END bootstrap=True, max_depth=3, max_features=auto, min_samples_leaf=2, min_samples_split=2, n_estimators=200; total time=   1.5s\n",
      "[CV] END bootstrap=True, max_depth=10, max_features=auto, min_samples_leaf=1, min_samples_split=2, n_estimators=250; total time=   4.4s\n",
      "[CV] END bootstrap=True, max_depth=3, max_features=sqrt, min_samples_leaf=2, min_samples_split=5, n_estimators=250; total time=   2.1s\n",
      "[CV] END bootstrap=True, max_depth=10, max_features=auto, min_samples_leaf=1, min_samples_split=5, n_estimators=200; total time=   3.6s\n",
      "[CV] END max_depth=9, max_features=log2, min_samples_leaf=1, splitter=best; total time=   0.1s\n",
      "[CV] END max_depth=9, max_features=sqrt, min_samples_leaf=4, splitter=best; total time=   0.1s\n",
      "[CV] END max_depth=7, max_features=sqrt, min_samples_leaf=3, splitter=random; total time=   0.1s\n",
      "[CV] END max_depth=5, max_features=sqrt, min_samples_leaf=2, splitter=best; total time=   0.1s\n",
      "[CV] END max_depth=7, max_features=sqrt, min_samples_leaf=1, splitter=best; total time=   0.1s\n",
      "[CV] END max_depth=5, max_features=auto, min_samples_leaf=4, splitter=best; total time=   0.1s\n",
      "[CV] END max_depth=3, max_features=sqrt, min_samples_leaf=4, splitter=best; total time=   0.1s\n",
      "[CV] END max_depth=9, max_features=log2, min_samples_leaf=3, splitter=random; total time=   0.0s\n",
      "[CV] END colsample_bytree=0.4, gamma=0.1, learning_rate=0.05, max_depth=5, min_child_weight=7; total time=  10.5s\n",
      "[CV] END colsample_bytree=0.3, gamma=0.1, learning_rate=0.1, max_depth=3, min_child_weight=5; total time=   5.1s\n",
      "[CV] END colsample_bytree=0.3, gamma=0.1, learning_rate=0.1, max_depth=5, min_child_weight=5; total time=   8.2s\n",
      "[CV] END colsample_bytree=0.4, gamma=0.0, learning_rate=0.1, max_depth=3, min_child_weight=7; total time=   6.3s\n",
      "[CV] END colsample_bytree=0.3, gamma=0.0, learning_rate=0.1, max_depth=3, min_child_weight=3; total time=   5.1s\n",
      "[CV] END colsample_bytree=0.3, gamma=0.1, learning_rate=0.05, max_depth=4, min_child_weight=5; total time=   7.0s\n",
      "[CV] END colsample_bytree=0.4, gamma=0.0, learning_rate=0.1, max_depth=4, min_child_weight=5; total time=   8.6s\n",
      "[CV] END .................................C=0.01, penalty=l1; total time=   0.0s\n",
      "[CV] END ..................................C=0.1, penalty=l2; total time=   0.7s\n",
      "[CV] END ................................C=100.0, penalty=l1; total time=   0.0s\n",
      "[CV] END ................................C=100.0, penalty=l1; total time=   0.0s\n",
      "[CV] END ................................C=100.0, penalty=l1; total time=   0.0s\n",
      "[CV] END ................................C=100.0, penalty=l2; total time=   4.1s\n",
      "[CV] END bootstrap=False, max_depth=6, max_features=auto, min_samples_leaf=2, min_samples_split=2, n_estimators=150; total time=   2.4s\n",
      "[CV] END bootstrap=False, max_depth=3, max_features=sqrt, min_samples_leaf=1, min_samples_split=2, n_estimators=200; total time=   1.4s\n",
      "[CV] END bootstrap=False, max_depth=10, max_features=sqrt, min_samples_leaf=1, min_samples_split=2, n_estimators=200; total time=   4.7s\n",
      "[CV] END bootstrap=True, max_depth=10, max_features=auto, min_samples_leaf=2, min_samples_split=5, n_estimators=250; total time=   4.3s\n",
      "[CV] END bootstrap=False, max_depth=6, max_features=sqrt, min_samples_leaf=2, min_samples_split=2, n_estimators=200; total time=   2.7s\n",
      "[CV] END bootstrap=False, max_depth=6, max_features=sqrt, min_samples_leaf=1, min_samples_split=2, n_estimators=200; total time=   3.4s\n",
      "[CV] END bootstrap=True, max_depth=10, max_features=auto, min_samples_leaf=1, min_samples_split=5, n_estimators=150; total time=   1.9s\n",
      "[CV] END max_depth=9, max_features=auto, min_samples_leaf=1, splitter=random; total time=   0.1s\n",
      "[CV] END max_depth=5, max_features=log2, min_samples_leaf=1, splitter=random; total time=   0.0s\n",
      "[CV] END max_depth=3, max_features=log2, min_samples_leaf=2, splitter=best; total time=   0.1s\n",
      "[CV] END max_depth=3, max_features=log2, min_samples_leaf=2, splitter=best; total time=   0.0s\n",
      "[CV] END max_depth=3, max_features=auto, min_samples_leaf=3, splitter=best; total time=   0.1s\n",
      "[CV] END max_depth=3, max_features=auto, min_samples_leaf=3, splitter=best; total time=   0.1s\n",
      "[CV] END max_depth=3, max_features=sqrt, min_samples_leaf=4, splitter=best; total time=   0.1s\n",
      "[CV] END colsample_bytree=0.3, gamma=0.0, learning_rate=0.05, max_depth=4, min_child_weight=5; total time=   6.9s\n",
      "[CV] END colsample_bytree=0.3, gamma=0.0, learning_rate=0.05, max_depth=3, min_child_weight=3; total time=   5.2s\n",
      "[CV] END colsample_bytree=0.3, gamma=0.0, learning_rate=0.1, max_depth=3, min_child_weight=5; total time=   4.9s\n",
      "[CV] END colsample_bytree=0.3, gamma=0.1, learning_rate=0.1, max_depth=5, min_child_weight=5; total time=   8.1s\n",
      "[CV] END colsample_bytree=0.3, gamma=0.1, learning_rate=0.1, max_depth=4, min_child_weight=5; total time=   6.4s\n",
      "[CV] END colsample_bytree=0.4, gamma=0.0, learning_rate=0.1, max_depth=3, min_child_weight=3; total time=   7.0s\n",
      "[CV] END colsample_bytree=0.4, gamma=0.1, learning_rate=0.05, max_depth=3, min_child_weight=7; total time=   6.9s\n",
      "[CV] END colsample_bytree=0.4, gamma=0.0, learning_rate=0.05, max_depth=4, min_child_weight=3; total time=   7.8s\n",
      "[CV] END .................................C=0.01, penalty=l2; total time=   0.5s\n",
      "[CV] END .................................C=10.0, penalty=l1; total time=   0.0s\n",
      "[CV] END .................................C=10.0, penalty=l1; total time=   0.0s\n",
      "[CV] END .................................C=10.0, penalty=l2; total time=   3.3s\n",
      "[CV] END bootstrap=True, max_depth=6, max_features=auto, min_samples_leaf=2, min_samples_split=5, n_estimators=200; total time=   2.5s\n",
      "[CV] END bootstrap=False, max_depth=6, max_features=auto, min_samples_leaf=2, min_samples_split=5, n_estimators=300; total time=   4.2s\n",
      "[CV] END bootstrap=True, max_depth=3, max_features=sqrt, min_samples_leaf=1, min_samples_split=2, n_estimators=250; total time=   1.8s\n",
      "[CV] END bootstrap=True, max_depth=10, max_features=auto, min_samples_leaf=2, min_samples_split=5, n_estimators=250; total time=   4.2s\n",
      "[CV] END bootstrap=True, max_depth=10, max_features=auto, min_samples_leaf=1, min_samples_split=2, n_estimators=200; total time=   3.8s\n",
      "[CV] END bootstrap=True, max_depth=10, max_features=auto, min_samples_leaf=1, min_samples_split=5, n_estimators=200; total time=   3.6s\n",
      "[CV] END max_depth=9, max_features=log2, min_samples_leaf=1, splitter=best; total time=   0.1s\n",
      "[CV] END max_depth=9, max_features=auto, min_samples_leaf=1, splitter=random; total time=   0.1s\n",
      "[CV] END max_depth=9, max_features=auto, min_samples_leaf=4, splitter=random; total time=   0.1s\n",
      "[CV] END max_depth=9, max_features=auto, min_samples_leaf=4, splitter=random; total time=   0.1s\n",
      "[CV] END max_depth=3, max_features=sqrt, min_samples_leaf=2, splitter=best; total time=   0.1s\n",
      "[CV] END max_depth=3, max_features=auto, min_samples_leaf=3, splitter=best; total time=   0.1s\n",
      "[CV] END max_depth=3, max_features=log2, min_samples_leaf=3, splitter=best; total time=   0.1s\n",
      "[CV] END max_depth=7, max_features=auto, min_samples_leaf=3, splitter=random; total time=   0.0s\n",
      "[CV] END colsample_bytree=0.4, gamma=0.1, learning_rate=0.05, max_depth=5, min_child_weight=7; total time=  10.4s\n",
      "[CV] END colsample_bytree=0.3, gamma=0.1, learning_rate=0.1, max_depth=3, min_child_weight=5; total time=   5.0s\n",
      "[CV] END colsample_bytree=0.3, gamma=0.1, learning_rate=0.1, max_depth=5, min_child_weight=5; total time=   8.1s\n",
      "[CV] END colsample_bytree=0.4, gamma=0.1, learning_rate=0.05, max_depth=3, min_child_weight=3; total time=   7.0s\n",
      "[CV] END colsample_bytree=0.4, gamma=0.0, learning_rate=0.1, max_depth=3, min_child_weight=3; total time=   6.7s\n",
      "[CV] END colsample_bytree=0.3, gamma=0.1, learning_rate=0.05, max_depth=4, min_child_weight=5; total time=   7.3s\n",
      "[CV] END colsample_bytree=0.3, gamma=0.1, learning_rate=0.1, max_depth=5, min_child_weight=3; total time=   8.6s\n",
      "[CV] END ..................................C=0.1, penalty=l1; total time=   0.0s\n",
      "[CV] END ..................................C=1.0, penalty=l2; total time=   1.6s\n",
      "[CV] END bootstrap=True, max_depth=6, max_features=auto, min_samples_leaf=2, min_samples_split=5, n_estimators=200; total time=   2.5s\n",
      "[CV] END bootstrap=False, max_depth=6, max_features=auto, min_samples_leaf=2, min_samples_split=5, n_estimators=300; total time=   3.9s\n",
      "[CV] END bootstrap=True, max_depth=3, max_features=sqrt, min_samples_leaf=1, min_samples_split=2, n_estimators=250; total time=   1.7s\n",
      "[CV] END bootstrap=True, max_depth=3, max_features=auto, min_samples_leaf=2, min_samples_split=2, n_estimators=200; total time=   1.4s\n",
      "[CV] END bootstrap=False, max_depth=3, max_features=sqrt, min_samples_leaf=1, min_samples_split=2, n_estimators=150; total time=   1.4s\n",
      "[CV] END bootstrap=True, max_depth=10, max_features=auto, min_samples_leaf=1, min_samples_split=2, n_estimators=200; total time=   3.6s\n",
      "[CV] END bootstrap=True, max_depth=3, max_features=sqrt, min_samples_leaf=2, min_samples_split=5, n_estimators=250; total time=   2.1s\n",
      "[CV] END bootstrap=True, max_depth=10, max_features=auto, min_samples_leaf=1, min_samples_split=5, n_estimators=200; total time=   4.0s\n",
      "[CV] END max_depth=9, max_features=auto, min_samples_leaf=3, splitter=random; total time=   0.1s\n",
      "[CV] END max_depth=5, max_features=log2, min_samples_leaf=1, splitter=random; total time=   0.0s\n",
      "[CV] END max_depth=3, max_features=auto, min_samples_leaf=1, splitter=best; total time=   0.1s\n",
      "[CV] END max_depth=3, max_features=auto, min_samples_leaf=1, splitter=best; total time=   0.1s\n",
      "[CV] END max_depth=3, max_features=sqrt, min_samples_leaf=2, splitter=best; total time=   0.1s\n",
      "[CV] END max_depth=3, max_features=sqrt, min_samples_leaf=2, splitter=best; total time=   0.1s\n",
      "[CV] END max_depth=3, max_features=log2, min_samples_leaf=3, splitter=best; total time=   0.1s\n",
      "[CV] END max_depth=7, max_features=auto, min_samples_leaf=3, splitter=random; total time=   0.0s\n",
      "[CV] END colsample_bytree=0.3, gamma=0.0, learning_rate=0.05, max_depth=4, min_child_weight=5; total time=   7.0s\n",
      "[CV] END colsample_bytree=0.3, gamma=0.1, learning_rate=0.1, max_depth=3, min_child_weight=5; total time=   5.4s\n",
      "[CV] END colsample_bytree=0.3, gamma=0.0, learning_rate=0.1, max_depth=3, min_child_weight=5; total time=   5.4s\n",
      "[CV] END colsample_bytree=0.3, gamma=0.0, learning_rate=0.1, max_depth=4, min_child_weight=3; total time=   6.9s\n",
      "[CV] END colsample_bytree=0.4, gamma=0.0, learning_rate=0.1, max_depth=3, min_child_weight=7; total time=   6.3s\n",
      "[CV] END colsample_bytree=0.4, gamma=0.0, learning_rate=0.1, max_depth=3, min_child_weight=3; total time=   6.7s\n",
      "[CV] END colsample_bytree=0.4, gamma=0.1, learning_rate=0.05, max_depth=3, min_child_weight=7; total time=   6.9s\n",
      "[CV] END colsample_bytree=0.3, gamma=0.1, learning_rate=0.1, max_depth=5, min_child_weight=3; total time=   8.5s\n",
      "[CV] END .................................C=0.01, penalty=l1; total time=   0.0s\n",
      "[CV] END ..................................C=0.1, penalty=l2; total time=   0.8s\n",
      "[CV] END .................................C=10.0, penalty=l2; total time=   3.9s\n",
      "[CV] END bootstrap=False, max_depth=6, max_features=auto, min_samples_leaf=2, min_samples_split=2, n_estimators=150; total time=   2.6s\n",
      "[CV] END bootstrap=False, max_depth=3, max_features=sqrt, min_samples_leaf=1, min_samples_split=2, n_estimators=200; total time=   1.7s\n",
      "[CV] END bootstrap=False, max_depth=10, max_features=sqrt, min_samples_leaf=1, min_samples_split=2, n_estimators=200; total time=   5.5s\n",
      "[CV] END bootstrap=False, max_depth=3, max_features=sqrt, min_samples_leaf=1, min_samples_split=2, n_estimators=150; total time=   1.3s\n",
      "[CV] END bootstrap=True, max_depth=10, max_features=auto, min_samples_leaf=1, min_samples_split=2, n_estimators=200; total time=   3.6s\n",
      "[CV] END bootstrap=True, max_depth=3, max_features=sqrt, min_samples_leaf=2, min_samples_split=5, n_estimators=250; total time=   2.2s\n",
      "[CV] END bootstrap=False, max_depth=3, max_features=auto, min_samples_leaf=2, min_samples_split=5, n_estimators=300; total time=   2.9s\n",
      "[CV] END max_depth=9, max_features=log2, min_samples_leaf=1, splitter=best; total time=   0.1s\n",
      "[CV] END max_depth=9, max_features=sqrt, min_samples_leaf=4, splitter=best; total time=   0.1s\n",
      "[CV] END max_depth=5, max_features=sqrt, min_samples_leaf=2, splitter=best; total time=   0.1s\n",
      "[CV] END max_depth=5, max_features=sqrt, min_samples_leaf=2, splitter=best; total time=   0.1s\n",
      "[CV] END max_depth=5, max_features=auto, min_samples_leaf=4, splitter=random; total time=   0.1s\n",
      "[CV] END max_depth=5, max_features=auto, min_samples_leaf=2, splitter=best; total time=   0.1s\n",
      "[CV] END max_depth=7, max_features=auto, min_samples_leaf=3, splitter=random; total time=   0.1s\n",
      "[CV] END colsample_bytree=0.4, gamma=0.1, learning_rate=0.05, max_depth=5, min_child_weight=7; total time=  10.5s\n",
      "[CV] END colsample_bytree=0.4, gamma=0.0, learning_rate=0.1, max_depth=4, min_child_weight=7; total time=   8.2s\n",
      "[CV] END colsample_bytree=0.3, gamma=0.0, learning_rate=0.1, max_depth=4, min_child_weight=3; total time=   6.9s\n",
      "[CV] END colsample_bytree=0.3, gamma=0.1, learning_rate=0.1, max_depth=4, min_child_weight=5; total time=   6.3s\n",
      "[CV] END colsample_bytree=0.3, gamma=0.0, learning_rate=0.05, max_depth=4, min_child_weight=7; total time=   6.7s\n",
      "[CV] END colsample_bytree=0.4, gamma=0.1, learning_rate=0.05, max_depth=3, min_child_weight=7; total time=   6.9s\n",
      "[CV] END colsample_bytree=0.4, gamma=0.0, learning_rate=0.05, max_depth=4, min_child_weight=3; total time=   7.9s\n",
      "[CV] END .................................C=0.01, penalty=l1; total time=   0.0s\n",
      "[CV] END ..................................C=0.1, penalty=l1; total time=   0.0s\n",
      "[CV] END ..................................C=0.1, penalty=l2; total time=   0.7s\n",
      "[CV] END ..................................C=1.0, penalty=l2; total time=   1.8s\n",
      "[CV] END bootstrap=True, max_depth=6, max_features=auto, min_samples_leaf=2, min_samples_split=5, n_estimators=200; total time=   2.4s\n",
      "[CV] END bootstrap=True, max_depth=10, max_features=auto, min_samples_leaf=2, min_samples_split=5, n_estimators=150; total time=   2.5s\n",
      "[CV] END bootstrap=True, max_depth=3, max_features=auto, min_samples_leaf=2, min_samples_split=5, n_estimators=300; total time=   2.1s\n",
      "[CV] END bootstrap=True, max_depth=3, max_features=sqrt, min_samples_leaf=1, min_samples_split=2, n_estimators=150; total time=   1.0s\n",
      "[CV] END bootstrap=True, max_depth=3, max_features=sqrt, min_samples_leaf=1, min_samples_split=2, n_estimators=150; total time=   1.1s\n",
      "[CV] END bootstrap=False, max_depth=3, max_features=sqrt, min_samples_leaf=1, min_samples_split=2, n_estimators=150; total time=   1.2s\n",
      "[CV] END bootstrap=True, max_depth=10, max_features=auto, min_samples_leaf=1, min_samples_split=2, n_estimators=250; total time=   4.4s\n",
      "[CV] END bootstrap=False, max_depth=6, max_features=sqrt, min_samples_leaf=1, min_samples_split=2, n_estimators=200; total time=   3.3s\n",
      "[CV] END bootstrap=False, max_depth=3, max_features=auto, min_samples_leaf=2, min_samples_split=5, n_estimators=300; total time=   2.3s\n",
      "[CV] END max_depth=9, max_features=auto, min_samples_leaf=3, splitter=random; total time=   0.1s\n",
      "[CV] END max_depth=9, max_features=sqrt, min_samples_leaf=4, splitter=best; total time=   0.1s\n",
      "[CV] END max_depth=3, max_features=auto, min_samples_leaf=1, splitter=best; total time=   0.1s\n",
      "[CV] END max_depth=3, max_features=log2, min_samples_leaf=2, splitter=best; total time=   0.1s\n",
      "[CV] END max_depth=5, max_features=auto, min_samples_leaf=4, splitter=random; total time=   0.1s\n",
      "[CV] END max_depth=5, max_features=auto, min_samples_leaf=4, splitter=random; total time=   0.1s\n",
      "[CV] END max_depth=3, max_features=sqrt, min_samples_leaf=4, splitter=best; total time=   0.1s\n",
      "[CV] END max_depth=9, max_features=log2, min_samples_leaf=3, splitter=random; total time=   0.0s\n",
      "[CV] END colsample_bytree=0.3, gamma=0.1, learning_rate=0.05, max_depth=3, min_child_weight=3; total time=   5.3s\n",
      "[CV] END colsample_bytree=0.3, gamma=0.1, learning_rate=0.05, max_depth=3, min_child_weight=3; total time=   5.4s\n",
      "[CV] END colsample_bytree=0.4, gamma=0.0, learning_rate=0.1, max_depth=4, min_child_weight=7; total time=   8.2s\n",
      "[CV] END colsample_bytree=0.4, gamma=0.1, learning_rate=0.05, max_depth=3, min_child_weight=3; total time=   6.6s\n",
      "[CV] END colsample_bytree=0.3, gamma=0.1, learning_rate=0.1, max_depth=4, min_child_weight=5; total time=   6.4s\n",
      "[CV] END colsample_bytree=0.3, gamma=0.0, learning_rate=0.05, max_depth=4, min_child_weight=7; total time=   6.6s\n",
      "[CV] END colsample_bytree=0.4, gamma=0.0, learning_rate=0.1, max_depth=4, min_child_weight=5; total time=   9.0s\n",
      "[CV] END colsample_bytree=0.4, gamma=0.0, learning_rate=0.05, max_depth=4, min_child_weight=3; total time=   6.9s\n"
     ]
    }
   ],
   "source": [
    "#Check the test score and train score to the model\n",
    "print(f'The randomforestclassifier model test score is {xgb1.score(X_test,y_test)*100:.2f}')\n",
    "#Train score for the data\n",
    "print(f'The randomforestclassifier model train scores is {xgb1.score(X_train,y_train)*100:.2f}')\n",
    "#Check the accuracy_score to the model\n",
    "print(f'The randomforestclassifier accuracy_score {accuracy_score(y_test,xgb1_pred)*100:.2f}')"
   ]
  },
  {
   "cell_type": "markdown",
   "id": "3fcb9be4",
   "metadata": {},
   "source": [
    "# Test The model predict the good result"
   ]
  },
  {
   "cell_type": "code",
   "execution_count": 92,
   "id": "aab88701",
   "metadata": {},
   "outputs": [
    {
     "data": {
      "text/plain": [
       "'Sentimet is 0'"
      ]
     },
     "execution_count": 92,
     "metadata": {},
     "output_type": "execute_result"
    }
   ],
   "source": [
    "text='Oh movie I thought I waited long take dog I cant believe I watched whole thing I guess I optimistically anticipating going get better Horribly disjointed dialog pathetic acting totally improbable events Like Tobys mom hanging time takes Col walk upstairs back room 24 ceiling no chairs counters anything around motionlessly suspended body could possibly used climb The little girl played daughter last family best actor whole movie puppy first couple close second The basic storyline potential good script directo'\n",
    "text=[text]\n",
    "text_int=vector.transform(text)\n",
    "prediction=logistic.predict(text_int)\n",
    "f\"Sentimet is {prediction[0]}\""
   ]
  },
  {
   "cell_type": "code",
   "execution_count": 93,
   "id": "7a73c723",
   "metadata": {},
   "outputs": [
    {
     "data": {
      "text/plain": [
       "'Sentimet is 1'"
      ]
     },
     "execution_count": 93,
     "metadata": {},
     "output_type": "execute_result"
    }
   ],
   "source": [
    "text='For sheer quality performance theater absurd one hard compare anything else With world melting early 70s film made perfect sense still resonates George Scott could ne'\n",
    "text=[text]\n",
    "text_int=vector.transform(text)\n",
    "prediction=logistic.predict(text_int)\n",
    "f\"Sentimet is {prediction[0]}\""
   ]
  },
  {
   "cell_type": "markdown",
   "id": "6d98ff08",
   "metadata": {},
   "source": [
    "# The logistic model give the best result to the model and with 85%accuray score."
   ]
  },
  {
   "cell_type": "markdown",
   "id": "07fd233a",
   "metadata": {},
   "source": [
    "# CONCLUSION"
   ]
  },
  {
   "cell_type": "markdown",
   "id": "689c79b5",
   "metadata": {},
   "source": [
    "# About the data"
   ]
  },
  {
   "cell_type": "markdown",
   "id": "570e9772",
   "metadata": {},
   "source": [
    "In the data we use textblob library for positive and negative sentiment analysis performed basicEDA, text preprocessing, build different models, such as LogisticRegression,DecisiontreeClassification,RandomForestClassication,XGBboostClassifier,For the above model Only LogisticRegression have good accuracy score compare to the other model. After that We do Hyperparameter turning with parameters. "
   ]
  },
  {
   "cell_type": "code",
   "execution_count": null,
   "id": "7104b779",
   "metadata": {},
   "outputs": [],
   "source": []
  }
 ],
 "metadata": {
  "kernelspec": {
   "display_name": "Python 3 (ipykernel)",
   "language": "python",
   "name": "python3"
  },
  "language_info": {
   "codemirror_mode": {
    "name": "ipython",
    "version": 3
   },
   "file_extension": ".py",
   "mimetype": "text/x-python",
   "name": "python",
   "nbconvert_exporter": "python",
   "pygments_lexer": "ipython3",
   "version": "3.9.12"
  }
 },
 "nbformat": 4,
 "nbformat_minor": 5
}
