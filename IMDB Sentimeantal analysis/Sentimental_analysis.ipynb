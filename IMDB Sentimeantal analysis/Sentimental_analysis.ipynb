{
  "nbformat": 4,
  "nbformat_minor": 0,
  "metadata": {
    "colab": {
      "provenance": []
    },
    "kernelspec": {
      "name": "python3",
      "display_name": "Python 3"
    },
    "language_info": {
      "name": "python"
    },
    "accelerator": "GPU"
  },
  "cells": [
    {
      "cell_type": "code",
      "execution_count": 1,
      "metadata": {
        "id": "xh7YkQiBQBHO"
      },
      "outputs": [],
      "source": [
        "#Import standard libraries\n",
        "import pandas as pd\n",
        "import numpy as np\n",
        "import matplotlib.pyplot as plt\n",
        "import seaborn as sns\n",
        "from sklearn.utils import shuffle\n",
        "from textblob import TextBlob\n",
        "import string\n",
        "from nltk.tokenize.toktok import ToktokTokenizer\n",
        "from sklearn import *\n",
        "import re\n",
        "import nltk\n",
        "from nltk.corpus import stopwords\n",
        "from sklearn.linear_model import LogisticRegression\n",
        "from sklearn.model_selection import train_test_split\n",
        "import spacy\n",
        "nlp = spacy.load('en_core_web_sm', disable=['ner'])\n",
        "import warnings\n",
        "warnings.filterwarnings('ignore')"
      ]
    },
    {
      "cell_type": "code",
      "source": [
        "import nltk\n",
        "nltk.download('stopwords')"
      ],
      "metadata": {
        "colab": {
          "base_uri": "https://localhost:8080/"
        },
        "id": "BQ-sdK04T7DN",
        "outputId": "3dd7a9c3-120d-4004-cf4e-d33619d19779"
      },
      "execution_count": 2,
      "outputs": [
        {
          "output_type": "stream",
          "name": "stderr",
          "text": [
            "[nltk_data] Downloading package stopwords to /root/nltk_data...\n",
            "[nltk_data]   Package stopwords is already up-to-date!\n"
          ]
        },
        {
          "output_type": "execute_result",
          "data": {
            "text/plain": [
              "True"
            ]
          },
          "metadata": {},
          "execution_count": 2
        }
      ]
    },
    {
      "cell_type": "code",
      "source": [
        "#Read the load dataset using the pandas \n",
        "train=pd.read_csv('/content/train_2kmZucJ.csv')\n",
        "train.head()"
      ],
      "metadata": {
        "colab": {
          "base_uri": "https://localhost:8080/",
          "height": 206
        },
        "id": "_Y9kizW_RBxg",
        "outputId": "3a1766dc-55f4-437c-f349-f90ac9349732"
      },
      "execution_count": 3,
      "outputs": [
        {
          "output_type": "execute_result",
          "data": {
            "text/plain": [
              "   id  label                                              tweet\n",
              "0   1      0  #fingerprint #Pregnancy Test https://goo.gl/h1...\n",
              "1   2      0  Finally a transparant silicon case ^^ Thanks t...\n",
              "2   3      0  We love this! Would you go? #talk #makememorie...\n",
              "3   4      0  I'm wired I know I'm George I was made that wa...\n",
              "4   5      1  What amazing service! Apple won't even talk to..."
            ],
            "text/html": [
              "\n",
              "  <div id=\"df-35749ea9-85f7-4ba4-95f6-d7a32491fb37\">\n",
              "    <div class=\"colab-df-container\">\n",
              "      <div>\n",
              "<style scoped>\n",
              "    .dataframe tbody tr th:only-of-type {\n",
              "        vertical-align: middle;\n",
              "    }\n",
              "\n",
              "    .dataframe tbody tr th {\n",
              "        vertical-align: top;\n",
              "    }\n",
              "\n",
              "    .dataframe thead th {\n",
              "        text-align: right;\n",
              "    }\n",
              "</style>\n",
              "<table border=\"1\" class=\"dataframe\">\n",
              "  <thead>\n",
              "    <tr style=\"text-align: right;\">\n",
              "      <th></th>\n",
              "      <th>id</th>\n",
              "      <th>label</th>\n",
              "      <th>tweet</th>\n",
              "    </tr>\n",
              "  </thead>\n",
              "  <tbody>\n",
              "    <tr>\n",
              "      <th>0</th>\n",
              "      <td>1</td>\n",
              "      <td>0</td>\n",
              "      <td>#fingerprint #Pregnancy Test https://goo.gl/h1...</td>\n",
              "    </tr>\n",
              "    <tr>\n",
              "      <th>1</th>\n",
              "      <td>2</td>\n",
              "      <td>0</td>\n",
              "      <td>Finally a transparant silicon case ^^ Thanks t...</td>\n",
              "    </tr>\n",
              "    <tr>\n",
              "      <th>2</th>\n",
              "      <td>3</td>\n",
              "      <td>0</td>\n",
              "      <td>We love this! Would you go? #talk #makememorie...</td>\n",
              "    </tr>\n",
              "    <tr>\n",
              "      <th>3</th>\n",
              "      <td>4</td>\n",
              "      <td>0</td>\n",
              "      <td>I'm wired I know I'm George I was made that wa...</td>\n",
              "    </tr>\n",
              "    <tr>\n",
              "      <th>4</th>\n",
              "      <td>5</td>\n",
              "      <td>1</td>\n",
              "      <td>What amazing service! Apple won't even talk to...</td>\n",
              "    </tr>\n",
              "  </tbody>\n",
              "</table>\n",
              "</div>\n",
              "      <button class=\"colab-df-convert\" onclick=\"convertToInteractive('df-35749ea9-85f7-4ba4-95f6-d7a32491fb37')\"\n",
              "              title=\"Convert this dataframe to an interactive table.\"\n",
              "              style=\"display:none;\">\n",
              "        \n",
              "  <svg xmlns=\"http://www.w3.org/2000/svg\" height=\"24px\"viewBox=\"0 0 24 24\"\n",
              "       width=\"24px\">\n",
              "    <path d=\"M0 0h24v24H0V0z\" fill=\"none\"/>\n",
              "    <path d=\"M18.56 5.44l.94 2.06.94-2.06 2.06-.94-2.06-.94-.94-2.06-.94 2.06-2.06.94zm-11 1L8.5 8.5l.94-2.06 2.06-.94-2.06-.94L8.5 2.5l-.94 2.06-2.06.94zm10 10l.94 2.06.94-2.06 2.06-.94-2.06-.94-.94-2.06-.94 2.06-2.06.94z\"/><path d=\"M17.41 7.96l-1.37-1.37c-.4-.4-.92-.59-1.43-.59-.52 0-1.04.2-1.43.59L10.3 9.45l-7.72 7.72c-.78.78-.78 2.05 0 2.83L4 21.41c.39.39.9.59 1.41.59.51 0 1.02-.2 1.41-.59l7.78-7.78 2.81-2.81c.8-.78.8-2.07 0-2.86zM5.41 20L4 18.59l7.72-7.72 1.47 1.35L5.41 20z\"/>\n",
              "  </svg>\n",
              "      </button>\n",
              "      \n",
              "  <style>\n",
              "    .colab-df-container {\n",
              "      display:flex;\n",
              "      flex-wrap:wrap;\n",
              "      gap: 12px;\n",
              "    }\n",
              "\n",
              "    .colab-df-convert {\n",
              "      background-color: #E8F0FE;\n",
              "      border: none;\n",
              "      border-radius: 50%;\n",
              "      cursor: pointer;\n",
              "      display: none;\n",
              "      fill: #1967D2;\n",
              "      height: 32px;\n",
              "      padding: 0 0 0 0;\n",
              "      width: 32px;\n",
              "    }\n",
              "\n",
              "    .colab-df-convert:hover {\n",
              "      background-color: #E2EBFA;\n",
              "      box-shadow: 0px 1px 2px rgba(60, 64, 67, 0.3), 0px 1px 3px 1px rgba(60, 64, 67, 0.15);\n",
              "      fill: #174EA6;\n",
              "    }\n",
              "\n",
              "    [theme=dark] .colab-df-convert {\n",
              "      background-color: #3B4455;\n",
              "      fill: #D2E3FC;\n",
              "    }\n",
              "\n",
              "    [theme=dark] .colab-df-convert:hover {\n",
              "      background-color: #434B5C;\n",
              "      box-shadow: 0px 1px 3px 1px rgba(0, 0, 0, 0.15);\n",
              "      filter: drop-shadow(0px 1px 2px rgba(0, 0, 0, 0.3));\n",
              "      fill: #FFFFFF;\n",
              "    }\n",
              "  </style>\n",
              "\n",
              "      <script>\n",
              "        const buttonEl =\n",
              "          document.querySelector('#df-35749ea9-85f7-4ba4-95f6-d7a32491fb37 button.colab-df-convert');\n",
              "        buttonEl.style.display =\n",
              "          google.colab.kernel.accessAllowed ? 'block' : 'none';\n",
              "\n",
              "        async function convertToInteractive(key) {\n",
              "          const element = document.querySelector('#df-35749ea9-85f7-4ba4-95f6-d7a32491fb37');\n",
              "          const dataTable =\n",
              "            await google.colab.kernel.invokeFunction('convertToInteractive',\n",
              "                                                     [key], {});\n",
              "          if (!dataTable) return;\n",
              "\n",
              "          const docLinkHtml = 'Like what you see? Visit the ' +\n",
              "            '<a target=\"_blank\" href=https://colab.research.google.com/notebooks/data_table.ipynb>data table notebook</a>'\n",
              "            + ' to learn more about interactive tables.';\n",
              "          element.innerHTML = '';\n",
              "          dataTable['output_type'] = 'display_data';\n",
              "          await google.colab.output.renderOutput(dataTable, element);\n",
              "          const docLink = document.createElement('div');\n",
              "          docLink.innerHTML = docLinkHtml;\n",
              "          element.appendChild(docLink);\n",
              "        }\n",
              "      </script>\n",
              "    </div>\n",
              "  </div>\n",
              "  "
            ]
          },
          "metadata": {},
          "execution_count": 3
        }
      ]
    },
    {
      "cell_type": "code",
      "source": [
        "test=pd.read_csv('/content/test_oJQbWVk.csv')\n",
        "test.head()"
      ],
      "metadata": {
        "colab": {
          "base_uri": "https://localhost:8080/",
          "height": 206
        },
        "id": "k4O4GbSZZ6Oq",
        "outputId": "a6c7d3f7-cc0f-4135-c4e4-1f9d44195053"
      },
      "execution_count": 4,
      "outputs": [
        {
          "output_type": "execute_result",
          "data": {
            "text/plain": [
              "     id                                              tweet\n",
              "0  7921  I hate the new #iphone upgrade. Won't let me d...\n",
              "1  7922  currently shitting my fucking pants. #apple #i...\n",
              "2  7923  I'd like to puts some CD-ROMS on my iPad, is t...\n",
              "3  7924  My ipod is officially dead. I lost all my pict...\n",
              "4  7925  Been fighting iTunes all night! I only want th..."
            ],
            "text/html": [
              "\n",
              "  <div id=\"df-e554fe0f-ea95-4046-9640-4e30a42f9aae\">\n",
              "    <div class=\"colab-df-container\">\n",
              "      <div>\n",
              "<style scoped>\n",
              "    .dataframe tbody tr th:only-of-type {\n",
              "        vertical-align: middle;\n",
              "    }\n",
              "\n",
              "    .dataframe tbody tr th {\n",
              "        vertical-align: top;\n",
              "    }\n",
              "\n",
              "    .dataframe thead th {\n",
              "        text-align: right;\n",
              "    }\n",
              "</style>\n",
              "<table border=\"1\" class=\"dataframe\">\n",
              "  <thead>\n",
              "    <tr style=\"text-align: right;\">\n",
              "      <th></th>\n",
              "      <th>id</th>\n",
              "      <th>tweet</th>\n",
              "    </tr>\n",
              "  </thead>\n",
              "  <tbody>\n",
              "    <tr>\n",
              "      <th>0</th>\n",
              "      <td>7921</td>\n",
              "      <td>I hate the new #iphone upgrade. Won't let me d...</td>\n",
              "    </tr>\n",
              "    <tr>\n",
              "      <th>1</th>\n",
              "      <td>7922</td>\n",
              "      <td>currently shitting my fucking pants. #apple #i...</td>\n",
              "    </tr>\n",
              "    <tr>\n",
              "      <th>2</th>\n",
              "      <td>7923</td>\n",
              "      <td>I'd like to puts some CD-ROMS on my iPad, is t...</td>\n",
              "    </tr>\n",
              "    <tr>\n",
              "      <th>3</th>\n",
              "      <td>7924</td>\n",
              "      <td>My ipod is officially dead. I lost all my pict...</td>\n",
              "    </tr>\n",
              "    <tr>\n",
              "      <th>4</th>\n",
              "      <td>7925</td>\n",
              "      <td>Been fighting iTunes all night! I only want th...</td>\n",
              "    </tr>\n",
              "  </tbody>\n",
              "</table>\n",
              "</div>\n",
              "      <button class=\"colab-df-convert\" onclick=\"convertToInteractive('df-e554fe0f-ea95-4046-9640-4e30a42f9aae')\"\n",
              "              title=\"Convert this dataframe to an interactive table.\"\n",
              "              style=\"display:none;\">\n",
              "        \n",
              "  <svg xmlns=\"http://www.w3.org/2000/svg\" height=\"24px\"viewBox=\"0 0 24 24\"\n",
              "       width=\"24px\">\n",
              "    <path d=\"M0 0h24v24H0V0z\" fill=\"none\"/>\n",
              "    <path d=\"M18.56 5.44l.94 2.06.94-2.06 2.06-.94-2.06-.94-.94-2.06-.94 2.06-2.06.94zm-11 1L8.5 8.5l.94-2.06 2.06-.94-2.06-.94L8.5 2.5l-.94 2.06-2.06.94zm10 10l.94 2.06.94-2.06 2.06-.94-2.06-.94-.94-2.06-.94 2.06-2.06.94z\"/><path d=\"M17.41 7.96l-1.37-1.37c-.4-.4-.92-.59-1.43-.59-.52 0-1.04.2-1.43.59L10.3 9.45l-7.72 7.72c-.78.78-.78 2.05 0 2.83L4 21.41c.39.39.9.59 1.41.59.51 0 1.02-.2 1.41-.59l7.78-7.78 2.81-2.81c.8-.78.8-2.07 0-2.86zM5.41 20L4 18.59l7.72-7.72 1.47 1.35L5.41 20z\"/>\n",
              "  </svg>\n",
              "      </button>\n",
              "      \n",
              "  <style>\n",
              "    .colab-df-container {\n",
              "      display:flex;\n",
              "      flex-wrap:wrap;\n",
              "      gap: 12px;\n",
              "    }\n",
              "\n",
              "    .colab-df-convert {\n",
              "      background-color: #E8F0FE;\n",
              "      border: none;\n",
              "      border-radius: 50%;\n",
              "      cursor: pointer;\n",
              "      display: none;\n",
              "      fill: #1967D2;\n",
              "      height: 32px;\n",
              "      padding: 0 0 0 0;\n",
              "      width: 32px;\n",
              "    }\n",
              "\n",
              "    .colab-df-convert:hover {\n",
              "      background-color: #E2EBFA;\n",
              "      box-shadow: 0px 1px 2px rgba(60, 64, 67, 0.3), 0px 1px 3px 1px rgba(60, 64, 67, 0.15);\n",
              "      fill: #174EA6;\n",
              "    }\n",
              "\n",
              "    [theme=dark] .colab-df-convert {\n",
              "      background-color: #3B4455;\n",
              "      fill: #D2E3FC;\n",
              "    }\n",
              "\n",
              "    [theme=dark] .colab-df-convert:hover {\n",
              "      background-color: #434B5C;\n",
              "      box-shadow: 0px 1px 3px 1px rgba(0, 0, 0, 0.15);\n",
              "      filter: drop-shadow(0px 1px 2px rgba(0, 0, 0, 0.3));\n",
              "      fill: #FFFFFF;\n",
              "    }\n",
              "  </style>\n",
              "\n",
              "      <script>\n",
              "        const buttonEl =\n",
              "          document.querySelector('#df-e554fe0f-ea95-4046-9640-4e30a42f9aae button.colab-df-convert');\n",
              "        buttonEl.style.display =\n",
              "          google.colab.kernel.accessAllowed ? 'block' : 'none';\n",
              "\n",
              "        async function convertToInteractive(key) {\n",
              "          const element = document.querySelector('#df-e554fe0f-ea95-4046-9640-4e30a42f9aae');\n",
              "          const dataTable =\n",
              "            await google.colab.kernel.invokeFunction('convertToInteractive',\n",
              "                                                     [key], {});\n",
              "          if (!dataTable) return;\n",
              "\n",
              "          const docLinkHtml = 'Like what you see? Visit the ' +\n",
              "            '<a target=\"_blank\" href=https://colab.research.google.com/notebooks/data_table.ipynb>data table notebook</a>'\n",
              "            + ' to learn more about interactive tables.';\n",
              "          element.innerHTML = '';\n",
              "          dataTable['output_type'] = 'display_data';\n",
              "          await google.colab.output.renderOutput(dataTable, element);\n",
              "          const docLink = document.createElement('div');\n",
              "          docLink.innerHTML = docLinkHtml;\n",
              "          element.appendChild(docLink);\n",
              "        }\n",
              "      </script>\n",
              "    </div>\n",
              "  </div>\n",
              "  "
            ]
          },
          "metadata": {},
          "execution_count": 4
        }
      ]
    },
    {
      "cell_type": "code",
      "source": [
        "#train data information\n",
        "train.info()"
      ],
      "metadata": {
        "colab": {
          "base_uri": "https://localhost:8080/"
        },
        "id": "XHGv3XiMRTtJ",
        "outputId": "5099e47e-9ebb-43ed-f2cc-f0fb54699288"
      },
      "execution_count": 5,
      "outputs": [
        {
          "output_type": "stream",
          "name": "stdout",
          "text": [
            "<class 'pandas.core.frame.DataFrame'>\n",
            "RangeIndex: 7920 entries, 0 to 7919\n",
            "Data columns (total 3 columns):\n",
            " #   Column  Non-Null Count  Dtype \n",
            "---  ------  --------------  ----- \n",
            " 0   id      7920 non-null   int64 \n",
            " 1   label   7920 non-null   int64 \n",
            " 2   tweet   7920 non-null   object\n",
            "dtypes: int64(2), object(1)\n",
            "memory usage: 185.8+ KB\n"
          ]
        }
      ]
    },
    {
      "cell_type": "code",
      "source": [
        "#Checking the shape of the traindataset\n",
        "train.shape"
      ],
      "metadata": {
        "colab": {
          "base_uri": "https://localhost:8080/"
        },
        "id": "A-WMVIHiRpHI",
        "outputId": "d5d41930-1ab6-49e7-ba80-c092dbafa7e2"
      },
      "execution_count": 6,
      "outputs": [
        {
          "output_type": "execute_result",
          "data": {
            "text/plain": [
              "(7920, 3)"
            ]
          },
          "metadata": {},
          "execution_count": 6
        }
      ]
    },
    {
      "cell_type": "code",
      "source": [
        "#to visualize the lable in the traindaset\n",
        "label=train['label'].value_counts()\n",
        "#to visualize the above information in the pie chart\n",
        "plt.figure(figsize=(18,6))\n",
        "plt.pie(label,labels=['Positive','Negative'],colors=['green','yellow'],autopct='%1.1f%%',explode=[0.05,0.08])\n",
        "#set the title name with fontsize \n",
        "plt.title(\"The label percentage in traindataset\",fontsize=32)\n",
        "plt.show()"
      ],
      "metadata": {
        "colab": {
          "base_uri": "https://localhost:8080/",
          "height": 388
        },
        "id": "lcsqd2PmR4iw",
        "outputId": "d3c41c2a-7a13-4c81-9432-3908ba4f2fa7"
      },
      "execution_count": 7,
      "outputs": [
        {
          "output_type": "display_data",
          "data": {
            "text/plain": [
              "<Figure size 1296x432 with 1 Axes>"
            ],
            "image/png": "[encoded data removed]"
          },
          "metadata": {}
        }
      ]
    },
    {
      "cell_type": "code",
      "source": [
        "train=shuffle(train)\n",
        "train.head()"
      ],
      "metadata": {
        "colab": {
          "base_uri": "https://localhost:8080/",
          "height": 206
        },
        "id": "IkUdLzUQSicK",
        "outputId": "fb0960b1-6cbd-423d-9a7e-284566429537"
      },
      "execution_count": 8,
      "outputs": [
        {
          "output_type": "execute_result",
          "data": {
            "text/plain": [
              "        id  label                                              tweet\n",
              "2279  2280      1  @BA_Bird @R_M_E @Adam_Cottier Phone fucked can...\n",
              "3430  3431      0  The moon that makes the earth glow... With lov...\n",
              "5330  5331      0  #french #girl #swag #jonatic #funny #crazy #sh...\n",
              "2933  2934      1  @jason_van_wyk went to get a #samsung other da...\n",
              "7546  7547      0  ⓒ I win! #iphone #iphoneonly #iphonesia #art #..."
            ],
            "text/html": [
              "\n",
              "  <div id=\"df-aeed987a-9e82-49c5-81b6-ede5019765d8\">\n",
              "    <div class=\"colab-df-container\">\n",
              "      <div>\n",
              "<style scoped>\n",
              "    .dataframe tbody tr th:only-of-type {\n",
              "        vertical-align: middle;\n",
              "    }\n",
              "\n",
              "    .dataframe tbody tr th {\n",
              "        vertical-align: top;\n",
              "    }\n",
              "\n",
              "    .dataframe thead th {\n",
              "        text-align: right;\n",
              "    }\n",
              "</style>\n",
              "<table border=\"1\" class=\"dataframe\">\n",
              "  <thead>\n",
              "    <tr style=\"text-align: right;\">\n",
              "      <th></th>\n",
              "      <th>id</th>\n",
              "      <th>label</th>\n",
              "      <th>tweet</th>\n",
              "    </tr>\n",
              "  </thead>\n",
              "  <tbody>\n",
              "    <tr>\n",
              "      <th>2279</th>\n",
              "      <td>2280</td>\n",
              "      <td>1</td>\n",
              "      <td>@BA_Bird @R_M_E @Adam_Cottier Phone fucked can...</td>\n",
              "    </tr>\n",
              "    <tr>\n",
              "      <th>3430</th>\n",
              "      <td>3431</td>\n",
              "      <td>0</td>\n",
              "      <td>The moon that makes the earth glow... With lov...</td>\n",
              "    </tr>\n",
              "    <tr>\n",
              "      <th>5330</th>\n",
              "      <td>5331</td>\n",
              "      <td>0</td>\n",
              "      <td>#french #girl #swag #jonatic #funny #crazy #sh...</td>\n",
              "    </tr>\n",
              "    <tr>\n",
              "      <th>2933</th>\n",
              "      <td>2934</td>\n",
              "      <td>1</td>\n",
              "      <td>@jason_van_wyk went to get a #samsung other da...</td>\n",
              "    </tr>\n",
              "    <tr>\n",
              "      <th>7546</th>\n",
              "      <td>7547</td>\n",
              "      <td>0</td>\n",
              "      <td>ⓒ I win! #iphone #iphoneonly #iphonesia #art #...</td>\n",
              "    </tr>\n",
              "  </tbody>\n",
              "</table>\n",
              "</div>\n",
              "      <button class=\"colab-df-convert\" onclick=\"convertToInteractive('df-aeed987a-9e82-49c5-81b6-ede5019765d8')\"\n",
              "              title=\"Convert this dataframe to an interactive table.\"\n",
              "              style=\"display:none;\">\n",
              "        \n",
              "  <svg xmlns=\"http://www.w3.org/2000/svg\" height=\"24px\"viewBox=\"0 0 24 24\"\n",
              "       width=\"24px\">\n",
              "    <path d=\"M0 0h24v24H0V0z\" fill=\"none\"/>\n",
              "    <path d=\"M18.56 5.44l.94 2.06.94-2.06 2.06-.94-2.06-.94-.94-2.06-.94 2.06-2.06.94zm-11 1L8.5 8.5l.94-2.06 2.06-.94-2.06-.94L8.5 2.5l-.94 2.06-2.06.94zm10 10l.94 2.06.94-2.06 2.06-.94-2.06-.94-.94-2.06-.94 2.06-2.06.94z\"/><path d=\"M17.41 7.96l-1.37-1.37c-.4-.4-.92-.59-1.43-.59-.52 0-1.04.2-1.43.59L10.3 9.45l-7.72 7.72c-.78.78-.78 2.05 0 2.83L4 21.41c.39.39.9.59 1.41.59.51 0 1.02-.2 1.41-.59l7.78-7.78 2.81-2.81c.8-.78.8-2.07 0-2.86zM5.41 20L4 18.59l7.72-7.72 1.47 1.35L5.41 20z\"/>\n",
              "  </svg>\n",
              "      </button>\n",
              "      \n",
              "  <style>\n",
              "    .colab-df-container {\n",
              "      display:flex;\n",
              "      flex-wrap:wrap;\n",
              "      gap: 12px;\n",
              "    }\n",
              "\n",
              "    .colab-df-convert {\n",
              "      background-color: #E8F0FE;\n",
              "      border: none;\n",
              "      border-radius: 50%;\n",
              "      cursor: pointer;\n",
              "      display: none;\n",
              "      fill: #1967D2;\n",
              "      height: 32px;\n",
              "      padding: 0 0 0 0;\n",
              "      width: 32px;\n",
              "    }\n",
              "\n",
              "    .colab-df-convert:hover {\n",
              "      background-color: #E2EBFA;\n",
              "      box-shadow: 0px 1px 2px rgba(60, 64, 67, 0.3), 0px 1px 3px 1px rgba(60, 64, 67, 0.15);\n",
              "      fill: #174EA6;\n",
              "    }\n",
              "\n",
              "    [theme=dark] .colab-df-convert {\n",
              "      background-color: #3B4455;\n",
              "      fill: #D2E3FC;\n",
              "    }\n",
              "\n",
              "    [theme=dark] .colab-df-convert:hover {\n",
              "      background-color: #434B5C;\n",
              "      box-shadow: 0px 1px 3px 1px rgba(0, 0, 0, 0.15);\n",
              "      filter: drop-shadow(0px 1px 2px rgba(0, 0, 0, 0.3));\n",
              "      fill: #FFFFFF;\n",
              "    }\n",
              "  </style>\n",
              "\n",
              "      <script>\n",
              "        const buttonEl =\n",
              "          document.querySelector('#df-aeed987a-9e82-49c5-81b6-ede5019765d8 button.colab-df-convert');\n",
              "        buttonEl.style.display =\n",
              "          google.colab.kernel.accessAllowed ? 'block' : 'none';\n",
              "\n",
              "        async function convertToInteractive(key) {\n",
              "          const element = document.querySelector('#df-aeed987a-9e82-49c5-81b6-ede5019765d8');\n",
              "          const dataTable =\n",
              "            await google.colab.kernel.invokeFunction('convertToInteractive',\n",
              "                                                     [key], {});\n",
              "          if (!dataTable) return;\n",
              "\n",
              "          const docLinkHtml = 'Like what you see? Visit the ' +\n",
              "            '<a target=\"_blank\" href=https://colab.research.google.com/notebooks/data_table.ipynb>data table notebook</a>'\n",
              "            + ' to learn more about interactive tables.';\n",
              "          element.innerHTML = '';\n",
              "          dataTable['output_type'] = 'display_data';\n",
              "          await google.colab.output.renderOutput(dataTable, element);\n",
              "          const docLink = document.createElement('div');\n",
              "          docLink.innerHTML = docLinkHtml;\n",
              "          element.appendChild(docLink);\n",
              "        }\n",
              "      </script>\n",
              "    </div>\n",
              "  </div>\n",
              "  "
            ]
          },
          "metadata": {},
          "execution_count": 8
        }
      ]
    },
    {
      "cell_type": "markdown",
      "source": [
        "Data Preprocessing"
      ],
      "metadata": {
        "id": "k-x0lOVqSwRk"
      }
    },
    {
      "cell_type": "code",
      "source": [
        "#Check the null value in the train datset\n",
        "train.isna().sum()"
      ],
      "metadata": {
        "colab": {
          "base_uri": "https://localhost:8080/"
        },
        "id": "rohu66JMStId",
        "outputId": "2df92151-0e4a-4feb-bbfc-122f39cb4d08"
      },
      "execution_count": 9,
      "outputs": [
        {
          "output_type": "execute_result",
          "data": {
            "text/plain": [
              "id       0\n",
              "label    0\n",
              "tweet    0\n",
              "dtype: int64"
            ]
          },
          "metadata": {},
          "execution_count": 9
        }
      ]
    },
    {
      "cell_type": "code",
      "source": [
        "#Let's drop the id from the train dataset\n",
        "train.drop(['id'],axis=1,inplace=True)"
      ],
      "metadata": {
        "id": "v4EAVMthS8qT"
      },
      "execution_count": 10,
      "outputs": []
    },
    {
      "cell_type": "code",
      "source": [
        "#replace the null values with np.nan\n",
        "train.replace(r'^\\s*$',np.nan,regex=True,inplace=True)\n",
        "train.dropna(axis=0,how='any',inplace=True)\n",
        "#Apply to the test data\n",
        "test.replace(r'^\\s*$',np.nan,regex=True,inplace=True)\n",
        "test.dropna(axis=0,how='any',inplace=True)"
      ],
      "metadata": {
        "id": "LYV3be3ITNNE"
      },
      "execution_count": 11,
      "outputs": []
    },
    {
      "cell_type": "code",
      "source": [
        "train.replace(to_replace=[r\"\\\\t|\\\\n|\\\\r\", \"\\t|\\n|\\r\"], value=[\"\",\"\"], regex=True, inplace=True)\n",
        "print('escape seq removed')\n",
        "test.replace(to_replace=[r\"\\\\t|\\\\n|\\\\r\", \"\\t|\\n|\\r\"], value=[\"\",\"\"], regex=True, inplace=True)\n",
        "print('escape seq removed')"
      ],
      "metadata": {
        "colab": {
          "base_uri": "https://localhost:8080/"
        },
        "id": "Z3-nwC6qTQ9d",
        "outputId": "2eb585a5-e697-4841-f656-3ddcab94c568"
      },
      "execution_count": 12,
      "outputs": [
        {
          "output_type": "stream",
          "name": "stdout",
          "text": [
            "escape seq removed\n",
            "escape seq removed\n"
          ]
        }
      ]
    },
    {
      "cell_type": "code",
      "source": [
        "train['tweet']=train['tweet'].str.encode('ascii','ignore').str.decode('ascii')\n",
        "print('non ascii is remove')\n",
        "test['tweet']=test['tweet'].str.encode('ascii','ignore').str.decode('ascii')\n",
        "print('non ascii is remove')"
      ],
      "metadata": {
        "colab": {
          "base_uri": "https://localhost:8080/"
        },
        "id": "jjQ3zkdNTTxs",
        "outputId": "23358d9d-f7c3-4254-9fd7-17caf717c132"
      },
      "execution_count": 13,
      "outputs": [
        {
          "output_type": "stream",
          "name": "stdout",
          "text": [
            "non ascii is remove\n",
            "non ascii is remove\n"
          ]
        }
      ]
    },
    {
      "cell_type": "code",
      "source": [
        "#Creat the function and remove the punctuation\n",
        "def remove_punctuation(text):\n",
        "    for punctuation in string.punctuation:\n",
        "        text=text.replace(punctuation,'')\n",
        "    return text\n",
        "#And apply function to the train dataset\n",
        "train['tweet']=train['tweet'].apply(remove_punctuation)\n",
        "test['tweet']=test['tweet'].apply(remove_punctuation)"
      ],
      "metadata": {
        "id": "pIRmG2qcTbfx"
      },
      "execution_count": 14,
      "outputs": []
    },
    {
      "cell_type": "code",
      "source": [
        "#create the remove the stopwords\n",
        "stop_words_list=nltk.corpus.stopwords.words('english')\n",
        "stop_words_list.remove('no')\n",
        "stop_words_list.remove('not')"
      ],
      "metadata": {
        "id": "PD0G6FAtTh90"
      },
      "execution_count": 15,
      "outputs": []
    },
    {
      "cell_type": "code",
      "source": [
        "#install the tokeninzer\n",
        "tokenizer = ToktokTokenizer()\n",
        "#Create function to remove the stopwords\n",
        "def remove_stopwords(text,is_lower_case=True):\n",
        "    tokens=tokenizer.tokenize(text)\n",
        "    tokens=[token.strip() for token in tokens]\n",
        "    if is_lower_case:\n",
        "        filterd_tokens=[token for token in tokens if token not in stop_words_list]\n",
        "    else:\n",
        "        filterd_tokens=[token for token in tokens if token.lower() not in stop_words_list]\n",
        "    filterd_text=' '.join(filterd_tokens)\n",
        "    return filterd_text"
      ],
      "metadata": {
        "id": "OkL6cb4FTm2p"
      },
      "execution_count": 16,
      "outputs": []
    },
    {
      "cell_type": "code",
      "source": [
        "train['tweet']=train['tweet'].apply(remove_stopwords)\n",
        "test['tweet']=test['tweet'].apply(remove_stopwords)"
      ],
      "metadata": {
        "id": "3zSvF1-0Tv1j"
      },
      "execution_count": 17,
      "outputs": []
    },
    {
      "cell_type": "code",
      "source": [
        "#remove the special characters\n",
        "def remove_special_characters(text):\n",
        "    text=re.sub('[^a-zA-z0-9\\s]','',text)\n",
        "    return text"
      ],
      "metadata": {
        "id": "lk3bmIFKT0qQ"
      },
      "execution_count": 18,
      "outputs": []
    },
    {
      "cell_type": "code",
      "source": [
        "#apply the above function to the traindataset\n",
        "train['tweet']=train['tweet'].apply(remove_special_characters)\n",
        "test['tweet']=test['tweet'].apply(remove_special_characters)\n",
        "train.head()"
      ],
      "metadata": {
        "colab": {
          "base_uri": "https://localhost:8080/",
          "height": 206
        },
        "id": "94CY3hpfUORF",
        "outputId": "3bfb8149-ea3f-46ba-f8c3-301b0da01126"
      },
      "execution_count": 19,
      "outputs": [
        {
          "output_type": "execute_result",
          "data": {
            "text/plain": [
              "      label                                              tweet\n",
              "2279      1  BABird RME AdamCottier Phone fucked send messa...\n",
              "3430      0  The moon makes earth glow With love supermoon ...\n",
              "5330      0  french girl swag jonatic funny crazy shoesunbr...\n",
              "2933      1       jasonvanwyk went get samsung day advised not\n",
              "7546      0  I win iphone iphoneonly iphonesia art selfie n..."
            ],
            "text/html": [
              "\n",
              "  <div id=\"df-45d25d86-9bfc-43da-8d0b-5a96937cab93\">\n",
              "    <div class=\"colab-df-container\">\n",
              "      <div>\n",
              "<style scoped>\n",
              "    .dataframe tbody tr th:only-of-type {\n",
              "        vertical-align: middle;\n",
              "    }\n",
              "\n",
              "    .dataframe tbody tr th {\n",
              "        vertical-align: top;\n",
              "    }\n",
              "\n",
              "    .dataframe thead th {\n",
              "        text-align: right;\n",
              "    }\n",
              "</style>\n",
              "<table border=\"1\" class=\"dataframe\">\n",
              "  <thead>\n",
              "    <tr style=\"text-align: right;\">\n",
              "      <th></th>\n",
              "      <th>label</th>\n",
              "      <th>tweet</th>\n",
              "    </tr>\n",
              "  </thead>\n",
              "  <tbody>\n",
              "    <tr>\n",
              "      <th>2279</th>\n",
              "      <td>1</td>\n",
              "      <td>BABird RME AdamCottier Phone fucked send messa...</td>\n",
              "    </tr>\n",
              "    <tr>\n",
              "      <th>3430</th>\n",
              "      <td>0</td>\n",
              "      <td>The moon makes earth glow With love supermoon ...</td>\n",
              "    </tr>\n",
              "    <tr>\n",
              "      <th>5330</th>\n",
              "      <td>0</td>\n",
              "      <td>french girl swag jonatic funny crazy shoesunbr...</td>\n",
              "    </tr>\n",
              "    <tr>\n",
              "      <th>2933</th>\n",
              "      <td>1</td>\n",
              "      <td>jasonvanwyk went get samsung day advised not</td>\n",
              "    </tr>\n",
              "    <tr>\n",
              "      <th>7546</th>\n",
              "      <td>0</td>\n",
              "      <td>I win iphone iphoneonly iphonesia art selfie n...</td>\n",
              "    </tr>\n",
              "  </tbody>\n",
              "</table>\n",
              "</div>\n",
              "      <button class=\"colab-df-convert\" onclick=\"convertToInteractive('df-45d25d86-9bfc-43da-8d0b-5a96937cab93')\"\n",
              "              title=\"Convert this dataframe to an interactive table.\"\n",
              "              style=\"display:none;\">\n",
              "        \n",
              "  <svg xmlns=\"http://www.w3.org/2000/svg\" height=\"24px\"viewBox=\"0 0 24 24\"\n",
              "       width=\"24px\">\n",
              "    <path d=\"M0 0h24v24H0V0z\" fill=\"none\"/>\n",
              "    <path d=\"M18.56 5.44l.94 2.06.94-2.06 2.06-.94-2.06-.94-.94-2.06-.94 2.06-2.06.94zm-11 1L8.5 8.5l.94-2.06 2.06-.94-2.06-.94L8.5 2.5l-.94 2.06-2.06.94zm10 10l.94 2.06.94-2.06 2.06-.94-2.06-.94-.94-2.06-.94 2.06-2.06.94z\"/><path d=\"M17.41 7.96l-1.37-1.37c-.4-.4-.92-.59-1.43-.59-.52 0-1.04.2-1.43.59L10.3 9.45l-7.72 7.72c-.78.78-.78 2.05 0 2.83L4 21.41c.39.39.9.59 1.41.59.51 0 1.02-.2 1.41-.59l7.78-7.78 2.81-2.81c.8-.78.8-2.07 0-2.86zM5.41 20L4 18.59l7.72-7.72 1.47 1.35L5.41 20z\"/>\n",
              "  </svg>\n",
              "      </button>\n",
              "      \n",
              "  <style>\n",
              "    .colab-df-container {\n",
              "      display:flex;\n",
              "      flex-wrap:wrap;\n",
              "      gap: 12px;\n",
              "    }\n",
              "\n",
              "    .colab-df-convert {\n",
              "      background-color: #E8F0FE;\n",
              "      border: none;\n",
              "      border-radius: 50%;\n",
              "      cursor: pointer;\n",
              "      display: none;\n",
              "      fill: #1967D2;\n",
              "      height: 32px;\n",
              "      padding: 0 0 0 0;\n",
              "      width: 32px;\n",
              "    }\n",
              "\n",
              "    .colab-df-convert:hover {\n",
              "      background-color: #E2EBFA;\n",
              "      box-shadow: 0px 1px 2px rgba(60, 64, 67, 0.3), 0px 1px 3px 1px rgba(60, 64, 67, 0.15);\n",
              "      fill: #174EA6;\n",
              "    }\n",
              "\n",
              "    [theme=dark] .colab-df-convert {\n",
              "      background-color: #3B4455;\n",
              "      fill: #D2E3FC;\n",
              "    }\n",
              "\n",
              "    [theme=dark] .colab-df-convert:hover {\n",
              "      background-color: #434B5C;\n",
              "      box-shadow: 0px 1px 3px 1px rgba(0, 0, 0, 0.15);\n",
              "      filter: drop-shadow(0px 1px 2px rgba(0, 0, 0, 0.3));\n",
              "      fill: #FFFFFF;\n",
              "    }\n",
              "  </style>\n",
              "\n",
              "      <script>\n",
              "        const buttonEl =\n",
              "          document.querySelector('#df-45d25d86-9bfc-43da-8d0b-5a96937cab93 button.colab-df-convert');\n",
              "        buttonEl.style.display =\n",
              "          google.colab.kernel.accessAllowed ? 'block' : 'none';\n",
              "\n",
              "        async function convertToInteractive(key) {\n",
              "          const element = document.querySelector('#df-45d25d86-9bfc-43da-8d0b-5a96937cab93');\n",
              "          const dataTable =\n",
              "            await google.colab.kernel.invokeFunction('convertToInteractive',\n",
              "                                                     [key], {});\n",
              "          if (!dataTable) return;\n",
              "\n",
              "          const docLinkHtml = 'Like what you see? Visit the ' +\n",
              "            '<a target=\"_blank\" href=https://colab.research.google.com/notebooks/data_table.ipynb>data table notebook</a>'\n",
              "            + ' to learn more about interactive tables.';\n",
              "          element.innerHTML = '';\n",
              "          dataTable['output_type'] = 'display_data';\n",
              "          await google.colab.output.renderOutput(dataTable, element);\n",
              "          const docLink = document.createElement('div');\n",
              "          docLink.innerHTML = docLinkHtml;\n",
              "          element.appendChild(docLink);\n",
              "        }\n",
              "      </script>\n",
              "    </div>\n",
              "  </div>\n",
              "  "
            ]
          },
          "metadata": {},
          "execution_count": 19
        }
      ]
    },
    {
      "cell_type": "code",
      "source": [
        "#Remove html patternst\n",
        "def remove_html(text):\n",
        "    html_pattran=re.compile('<.*?>')\n",
        "    return html_pattran.sub(r' ',text)\n",
        "#And apply the above function to the train data\n",
        "train['tweet']=train['tweet'].apply(remove_html)\n",
        "test['tweet']=test['tweet'].apply(remove_html)"
      ],
      "metadata": {
        "id": "VxMUP4RSUTjX"
      },
      "execution_count": 20,
      "outputs": []
    },
    {
      "cell_type": "code",
      "source": [
        "#Remove the html url from the train dataset\n",
        "def remove_url(text):\n",
        "    url=re.compile(r'https?://\\S+|www\\.\\S+')\n",
        "    return url.sub(r' ',text)\n",
        "#And apply to the train dataset\n",
        "train['tweet']=train['tweet'].apply(remove_url)\n",
        "test['tweet']=test['tweet'].apply(remove_url)"
      ],
      "metadata": {
        "id": "apLrzIV3UZEr"
      },
      "execution_count": 21,
      "outputs": []
    },
    {
      "cell_type": "code",
      "source": [
        "#Remove the numbers in the dataset\n",
        "def remove_numbers(text):\n",
        "    text=''.join([i for i in text if  not i.isdigit()])\n",
        "    return text\n",
        "#And apply the above function to the train data\n",
        "train['tweet']=train['tweet'].apply(remove_numbers)\n",
        "test['tweet']=test['tweet'].apply(remove_numbers)"
      ],
      "metadata": {
        "id": "RL7w07wBUhln"
      },
      "execution_count": 22,
      "outputs": []
    },
    {
      "cell_type": "code",
      "source": [
        "def cleanse(word):\n",
        "    rx=re.compile(r'\\D*\\d')\n",
        "    if rx.match(word):\n",
        "        return ' '\n",
        "    return word\n",
        "#Remove the alpha numaric\n",
        "def alpha_numeric(strings):\n",
        "    nstrings=[\" \".join(filter(None,(cleanse(word) for word in string.split()))) for string in strings.split()]\n",
        "    str1=\" \".join(nstrings)\n",
        "    return str1\n",
        "#Apply to the above function to the train dataset\n",
        "train['tweet']=train['tweet'].apply(alpha_numeric)\n",
        "test['tweet']=test['tweet'].apply(alpha_numeric)"
      ],
      "metadata": {
        "id": "CIJVgGx_Uq1W"
      },
      "execution_count": 23,
      "outputs": []
    },
    {
      "cell_type": "code",
      "source": [
        "#lemmatizer\n",
        "def lemmatize(text):\n",
        "    text=nlp(text)\n",
        "    text=\" \".join([word.lemma_ if word.lemma_!='-PRON-' else word for word in text])\n",
        "    return text\n",
        "#Apply the above function to the rain dataset\n",
        "train['tweet']=train['tweet'].apply(lemmatize)\n",
        "test['tweet']=test['tweet'].apply(lemmatize)"
      ],
      "metadata": {
        "id": "SrDmNt60Uwpl"
      },
      "execution_count": 24,
      "outputs": []
    },
    {
      "cell_type": "code",
      "source": [
        "train.head()"
      ],
      "metadata": {
        "colab": {
          "base_uri": "https://localhost:8080/",
          "height": 206
        },
        "id": "G2dM7PCtU7aG",
        "outputId": "ea321bbc-53d2-4676-ddfc-f071a0830cdd"
      },
      "execution_count": 25,
      "outputs": [
        {
          "output_type": "execute_result",
          "data": {
            "text/plain": [
              "      label                                              tweet\n",
              "2279      1  BABird RME AdamCottier Phone fuck send message...\n",
              "3430      0  the moon make earth glow with love supermoon e...\n",
              "5330      0  french girl swag jonatic funny crazy shoesunbr...\n",
              "2933      1          jasonvanwyk go get samsung day advise not\n",
              "7546      0  I win iphone iphoneonly iphonesia art selfie n..."
            ],
            "text/html": [
              "\n",
              "  <div id=\"df-24e89bb8-e0aa-48ff-9e48-16b392026f71\">\n",
              "    <div class=\"colab-df-container\">\n",
              "      <div>\n",
              "<style scoped>\n",
              "    .dataframe tbody tr th:only-of-type {\n",
              "        vertical-align: middle;\n",
              "    }\n",
              "\n",
              "    .dataframe tbody tr th {\n",
              "        vertical-align: top;\n",
              "    }\n",
              "\n",
              "    .dataframe thead th {\n",
              "        text-align: right;\n",
              "    }\n",
              "</style>\n",
              "<table border=\"1\" class=\"dataframe\">\n",
              "  <thead>\n",
              "    <tr style=\"text-align: right;\">\n",
              "      <th></th>\n",
              "      <th>label</th>\n",
              "      <th>tweet</th>\n",
              "    </tr>\n",
              "  </thead>\n",
              "  <tbody>\n",
              "    <tr>\n",
              "      <th>2279</th>\n",
              "      <td>1</td>\n",
              "      <td>BABird RME AdamCottier Phone fuck send message...</td>\n",
              "    </tr>\n",
              "    <tr>\n",
              "      <th>3430</th>\n",
              "      <td>0</td>\n",
              "      <td>the moon make earth glow with love supermoon e...</td>\n",
              "    </tr>\n",
              "    <tr>\n",
              "      <th>5330</th>\n",
              "      <td>0</td>\n",
              "      <td>french girl swag jonatic funny crazy shoesunbr...</td>\n",
              "    </tr>\n",
              "    <tr>\n",
              "      <th>2933</th>\n",
              "      <td>1</td>\n",
              "      <td>jasonvanwyk go get samsung day advise not</td>\n",
              "    </tr>\n",
              "    <tr>\n",
              "      <th>7546</th>\n",
              "      <td>0</td>\n",
              "      <td>I win iphone iphoneonly iphonesia art selfie n...</td>\n",
              "    </tr>\n",
              "  </tbody>\n",
              "</table>\n",
              "</div>\n",
              "      <button class=\"colab-df-convert\" onclick=\"convertToInteractive('df-24e89bb8-e0aa-48ff-9e48-16b392026f71')\"\n",
              "              title=\"Convert this dataframe to an interactive table.\"\n",
              "              style=\"display:none;\">\n",
              "        \n",
              "  <svg xmlns=\"http://www.w3.org/2000/svg\" height=\"24px\"viewBox=\"0 0 24 24\"\n",
              "       width=\"24px\">\n",
              "    <path d=\"M0 0h24v24H0V0z\" fill=\"none\"/>\n",
              "    <path d=\"M18.56 5.44l.94 2.06.94-2.06 2.06-.94-2.06-.94-.94-2.06-.94 2.06-2.06.94zm-11 1L8.5 8.5l.94-2.06 2.06-.94-2.06-.94L8.5 2.5l-.94 2.06-2.06.94zm10 10l.94 2.06.94-2.06 2.06-.94-2.06-.94-.94-2.06-.94 2.06-2.06.94z\"/><path d=\"M17.41 7.96l-1.37-1.37c-.4-.4-.92-.59-1.43-.59-.52 0-1.04.2-1.43.59L10.3 9.45l-7.72 7.72c-.78.78-.78 2.05 0 2.83L4 21.41c.39.39.9.59 1.41.59.51 0 1.02-.2 1.41-.59l7.78-7.78 2.81-2.81c.8-.78.8-2.07 0-2.86zM5.41 20L4 18.59l7.72-7.72 1.47 1.35L5.41 20z\"/>\n",
              "  </svg>\n",
              "      </button>\n",
              "      \n",
              "  <style>\n",
              "    .colab-df-container {\n",
              "      display:flex;\n",
              "      flex-wrap:wrap;\n",
              "      gap: 12px;\n",
              "    }\n",
              "\n",
              "    .colab-df-convert {\n",
              "      background-color: #E8F0FE;\n",
              "      border: none;\n",
              "      border-radius: 50%;\n",
              "      cursor: pointer;\n",
              "      display: none;\n",
              "      fill: #1967D2;\n",
              "      height: 32px;\n",
              "      padding: 0 0 0 0;\n",
              "      width: 32px;\n",
              "    }\n",
              "\n",
              "    .colab-df-convert:hover {\n",
              "      background-color: #E2EBFA;\n",
              "      box-shadow: 0px 1px 2px rgba(60, 64, 67, 0.3), 0px 1px 3px 1px rgba(60, 64, 67, 0.15);\n",
              "      fill: #174EA6;\n",
              "    }\n",
              "\n",
              "    [theme=dark] .colab-df-convert {\n",
              "      background-color: #3B4455;\n",
              "      fill: #D2E3FC;\n",
              "    }\n",
              "\n",
              "    [theme=dark] .colab-df-convert:hover {\n",
              "      background-color: #434B5C;\n",
              "      box-shadow: 0px 1px 3px 1px rgba(0, 0, 0, 0.15);\n",
              "      filter: drop-shadow(0px 1px 2px rgba(0, 0, 0, 0.3));\n",
              "      fill: #FFFFFF;\n",
              "    }\n",
              "  </style>\n",
              "\n",
              "      <script>\n",
              "        const buttonEl =\n",
              "          document.querySelector('#df-24e89bb8-e0aa-48ff-9e48-16b392026f71 button.colab-df-convert');\n",
              "        buttonEl.style.display =\n",
              "          google.colab.kernel.accessAllowed ? 'block' : 'none';\n",
              "\n",
              "        async function convertToInteractive(key) {\n",
              "          const element = document.querySelector('#df-24e89bb8-e0aa-48ff-9e48-16b392026f71');\n",
              "          const dataTable =\n",
              "            await google.colab.kernel.invokeFunction('convertToInteractive',\n",
              "                                                     [key], {});\n",
              "          if (!dataTable) return;\n",
              "\n",
              "          const docLinkHtml = 'Like what you see? Visit the ' +\n",
              "            '<a target=\"_blank\" href=https://colab.research.google.com/notebooks/data_table.ipynb>data table notebook</a>'\n",
              "            + ' to learn more about interactive tables.';\n",
              "          element.innerHTML = '';\n",
              "          dataTable['output_type'] = 'display_data';\n",
              "          await google.colab.output.renderOutput(dataTable, element);\n",
              "          const docLink = document.createElement('div');\n",
              "          docLink.innerHTML = docLinkHtml;\n",
              "          element.appendChild(docLink);\n",
              "        }\n",
              "      </script>\n",
              "    </div>\n",
              "  </div>\n",
              "  "
            ]
          },
          "metadata": {},
          "execution_count": 25
        }
      ]
    },
    {
      "cell_type": "code",
      "source": [
        "#Divide the dataset two varible\n",
        "X=train['tweet'] .values\n",
        "y=train['label'].values"
      ],
      "metadata": {
        "id": "kQAkim6OVFme"
      },
      "execution_count": 26,
      "outputs": []
    },
    {
      "cell_type": "code",
      "source": [
        "X"
      ],
      "metadata": {
        "colab": {
          "base_uri": "https://localhost:8080/"
        },
        "id": "fuezz-ag7Hxc",
        "outputId": "87a97b68-7cce-4ab3-82f4-02ceaac3a8ec"
      },
      "execution_count": 27,
      "outputs": [
        {
          "output_type": "execute_result",
          "data": {
            "text/plain": [
              "array(['BABird RME AdamCottier Phone fuck send message name',\n",
              "       'the moon make earth glow with love supermoon earth magic iphone httpsinstagramcomptepixg',\n",
              "       'french girl swag jonatic funny crazy shoesunbroken apple lovatic joke summer smil httpinstagrampOBScEIh',\n",
              "       ...,\n",
              "       'I m Otw bigbang concert Bigbang samsung galaxy tour Singapore nd night httpinstagrampQJBRLmHA',\n",
              "       'long line innout beautifffull day food outside free live iphone photo feelslik httpinstagrampjsoegxhnl',\n",
              "       'receive new iphone x thank u httpbitlyglspiw iphone apple io appleiphone iphonex phone'],\n",
              "      dtype=object)"
            ]
          },
          "metadata": {},
          "execution_count": 27
        }
      ]
    },
    {
      "cell_type": "code",
      "source": [
        "id=test['id']\n",
        "test_pred=test['tweet'].values\n",
        "len(test_pred)"
      ],
      "metadata": {
        "colab": {
          "base_uri": "https://localhost:8080/"
        },
        "id": "hLvkTbrj1niA",
        "outputId": "78d538cd-932b-4c51-c457-576d2b3e6aa5"
      },
      "execution_count": 28,
      "outputs": [
        {
          "output_type": "execute_result",
          "data": {
            "text/plain": [
              "1953"
            ]
          },
          "metadata": {},
          "execution_count": 28
        }
      ]
    },
    {
      "cell_type": "code",
      "source": [
        "#Covert the text into araay using the TfidfVectorizer because the our machine can't learn categorical data\n",
        "from sklearn.feature_extraction.text import TfidfVectorizer\n",
        "#install the model\n",
        "vector=TfidfVectorizer(lowercase=False)\n",
        "vector.fit(X)\n",
        "vector.fit(test_pred)\n",
        "#Transform the above fit the data using the TfidfVectorizer and finally print it\n",
        "X=vector.fit_transform(X)\n",
        "#test_x=vector.fit_transform(test_pred)\n",
        "X"
      ],
      "metadata": {
        "colab": {
          "base_uri": "https://localhost:8080/"
        },
        "id": "suyADGZgVO12",
        "outputId": "65aff502-d20c-436f-afc2-8e44c206e58d"
      },
      "execution_count": 29,
      "outputs": [
        {
          "output_type": "execute_result",
          "data": {
            "text/plain": [
              "<7920x22875 sparse matrix of type '<class 'numpy.float64'>'\n",
              "\twith 95739 stored elements in Compressed Sparse Row format>"
            ]
          },
          "metadata": {},
          "execution_count": 29
        }
      ]
    },
    {
      "cell_type": "code",
      "source": [
        "test_pred"
      ],
      "metadata": {
        "colab": {
          "base_uri": "https://localhost:8080/"
        },
        "id": "Ceotna0P-G4M",
        "outputId": "b2986c62-da13-42cb-ae70-8731fa980358"
      },
      "execution_count": 30,
      "outputs": [
        {
          "output_type": "execute_result",
          "data": {
            "text/plain": [
              "array(['I hate new iphone upgrade will not let download app ugh apple suck',\n",
              "       'currently shit fucking pant apple iMac cashmoney radd swagswagswag httpinstagrampuuisbibzo',\n",
              "       'I d like put cdrom iPad possible yes would not block screen', ...,\n",
              "       'there go crack right across screen if could actually provide durable screen would great Apple Iphone',\n",
              "       'codeofinter say Adobe big time may well include apple',\n",
              "       'finally I get thanx father Samsung galaxy s gift father phone new httpinstagrampNoxkiPE'],\n",
              "      dtype=object)"
            ]
          },
          "metadata": {},
          "execution_count": 30
        }
      ]
    },
    {
      "cell_type": "code",
      "source": [
        "#divided the data for train and test\n",
        "X_train,X_test,y_train,y_test=train_test_split(X,y,test_size=0.13,random_state=120)"
      ],
      "metadata": {
        "id": "6MxU3oAYVVov"
      },
      "execution_count": 31,
      "outputs": []
    },
    {
      "cell_type": "code",
      "source": [
        "#instancy the Logistiregression model\n",
        "logistic=LogisticRegression(C = 4, max_iter = 1200, n_jobs=15)\n",
        "#And fit the data to the model\n",
        "logistic.fit(X_train,y_train)\n",
        "#Prediction to the data\n",
        "logistic_pred=logistic.predict(X_test)"
      ],
      "metadata": {
        "id": "Mv9UDTxaVZi_"
      },
      "execution_count": 32,
      "outputs": []
    },
    {
      "cell_type": "code",
      "source": [
        "#Check the test score and train score to the model\n",
        "print(f'The Logisticregression model test score is {logistic.score(X_test,y_test)*100:.2f}')\n",
        "#Train score for the data\n",
        "print(f'The Logisticregression model train scores is {logistic.score(X_train,y_train)*100:.2f}')"
      ],
      "metadata": {
        "colab": {
          "base_uri": "https://localhost:8080/"
        },
        "id": "54d4w5_CVi9M",
        "outputId": "db0721ee-c791-4dde-ef45-0cbb3faae5bd"
      },
      "execution_count": 33,
      "outputs": [
        {
          "output_type": "stream",
          "name": "stdout",
          "text": [
            "The Logisticregression model test score is 87.48\n",
            "The Logisticregression model train scores is 96.95\n"
          ]
        }
      ]
    },
    {
      "cell_type": "code",
      "source": [
        "#import the accuracy_score and classification report to the model\n",
        "from sklearn.metrics import accuracy_score,classification_report,confusion_matrix\n",
        "#Check the accuracy_score to the model\n",
        "print(f'The logisticRegression accuracy_score {accuracy_score(y_test,logistic_pred)*100:.2f}')\n",
        "#Classification report\n",
        "print(classification_report(y_test,logistic_pred))\n",
        "#confusion_matrix\n",
        "cn=confusion_matrix(y_test,logistic_pred)\n",
        "sns.heatmap(cn,annot=True,cmap='YlOrRd_r',xticklabels=['Positive','Negative'],yticklabels=['Negative','Positive'])"
      ],
      "metadata": {
        "colab": {
          "base_uri": "https://localhost:8080/",
          "height": 456
        },
        "id": "7jIxvVJ7Vmh9",
        "outputId": "a12b4b72-1818-4997-fe7a-c6c8b05b7e05"
      },
      "execution_count": 34,
      "outputs": [
        {
          "output_type": "stream",
          "name": "stdout",
          "text": [
            "The logisticRegression accuracy_score 87.48\n",
            "              precision    recall  f1-score   support\n",
            "\n",
            "           0       0.90      0.94      0.92       781\n",
            "           1       0.78      0.68      0.72       249\n",
            "\n",
            "    accuracy                           0.87      1030\n",
            "   macro avg       0.84      0.81      0.82      1030\n",
            "weighted avg       0.87      0.87      0.87      1030\n",
            "\n"
          ]
        },
        {
          "output_type": "execute_result",
          "data": {
            "text/plain": [
              "<matplotlib.axes._subplots.AxesSubplot at 0x7fcbfaaee550>"
            ]
          },
          "metadata": {},
          "execution_count": 34
        },
        {
          "output_type": "display_data",
          "data": {
            "text/plain": [
              "<Figure size 432x288 with 2 Axes>"
            ],
            "image/png": "[encoded data removed]"
          },
          "metadata": {
            "needs_background": "light"
          }
        }
      ]
    },
    {
      "cell_type": "markdown",
      "source": [
        "**DecisionTreeClassifier**"
      ],
      "metadata": {
        "id": "OPuo2ikkWBE7"
      }
    },
    {
      "cell_type": "code",
      "source": [
        "#install the DecisionTreeCalssifier\n",
        "from sklearn.tree import DecisionTreeClassifier\n",
        "#Install the model\n",
        "tree=DecisionTreeClassifier(random_state=42)\n",
        "#fit the model to the train data\n",
        "tree.fit(X_train,y_train)\n",
        "#prediction\n",
        "tree_pred=tree.predict(X_test)"
      ],
      "metadata": {
        "id": "29AnRdS6V25i"
      },
      "execution_count": 35,
      "outputs": []
    },
    {
      "cell_type": "code",
      "source": [
        "#Check the test score and train score to the model\n",
        "print(f'The DecisiontreeClassification model test score is {tree.score(X_test,y_test)*100:.2f}')\n",
        "#Train score for the data\n",
        "print(f'The DecisiontreeClassification model train scores is {tree.score(X_train,y_train)*100:.2f}')\n",
        "#Check the accuracy_score to the model\n",
        "print(f'The DecisiontreeClassification accuracy_score {accuracy_score(y_test,tree_pred)*100:.2f}')\n",
        "#Classification report\n",
        "print(classification_report(y_test,tree_pred))\n",
        "#confusion_matrix\n",
        "cn=confusion_matrix(y_test,tree_pred)\n",
        "sns.heatmap(cn,annot=True,cmap='mako_r',xticklabels=['Positive','Negative'],yticklabels=['Negative','Positive'])"
      ],
      "metadata": {
        "colab": {
          "base_uri": "https://localhost:8080/",
          "height": 491
        },
        "id": "1q7kOgzvWUly",
        "outputId": "00373e1f-70ad-4636-a49b-425ef0036010"
      },
      "execution_count": 36,
      "outputs": [
        {
          "output_type": "stream",
          "name": "stdout",
          "text": [
            "The DecisiontreeClassification model test score is 82.91\n",
            "The DecisiontreeClassification model train scores is 99.99\n",
            "The DecisiontreeClassification accuracy_score 82.91\n",
            "              precision    recall  f1-score   support\n",
            "\n",
            "           0       0.88      0.89      0.89       781\n",
            "           1       0.65      0.63      0.64       249\n",
            "\n",
            "    accuracy                           0.83      1030\n",
            "   macro avg       0.77      0.76      0.77      1030\n",
            "weighted avg       0.83      0.83      0.83      1030\n",
            "\n"
          ]
        },
        {
          "output_type": "execute_result",
          "data": {
            "text/plain": [
              "<matplotlib.axes._subplots.AxesSubplot at 0x7fcbf9e44490>"
            ]
          },
          "metadata": {},
          "execution_count": 36
        },
        {
          "output_type": "display_data",
          "data": {
            "text/plain": [
              "<Figure size 432x288 with 2 Axes>"
            ],
            "image/png": "[encoded data removed]"
          },
          "metadata": {
            "needs_background": "light"
          }
        }
      ]
    },
    {
      "cell_type": "markdown",
      "source": [
        "**RandomForestClassifier**\n",
        "\n",
        "> Indented block\n",
        "\n",
        "> Indented block\n",
        "\n",
        "---\n",
        "\n",
        "\n",
        "\n",
        "---\n",
        "\n",
        "\n",
        "\n",
        "\n",
        "\n"
      ],
      "metadata": {
        "id": "Xf5AxEYzWkeH"
      }
    },
    {
      "cell_type": "code",
      "source": [
        "#Import the randomforestclassifier\n",
        "from sklearn.ensemble import RandomForestClassifier\n",
        "#install the model \n",
        "random=RandomForestClassifier()\n",
        "#fit the train data to mode\n",
        "random.fit(X_train,y_train)\n",
        "#prediction\n",
        "random_pred=random.predict(X_test)"
      ],
      "metadata": {
        "id": "VhHbeFg4WabZ"
      },
      "execution_count": 37,
      "outputs": []
    },
    {
      "cell_type": "code",
      "source": [
        "#Check the test score and train score to the model\n",
        "print(f'The RandomForestClassifier model test score is {random.score(X_test,y_test)*100:.2f}')\n",
        "#Train score for the data\n",
        "print(f'The RandomForestClassifier model train scores is {random.score(X_train,y_train)*100:.2f}')\n",
        "#Check the accuracy_score to the model\n",
        "print(f'The RandomForestClassifier accuracy_score {accuracy_score(y_test,random_pred)*100:.2f}')"
      ],
      "metadata": {
        "colab": {
          "base_uri": "https://localhost:8080/"
        },
        "id": "1WUUsU-IW3hF",
        "outputId": "29f1371b-8b03-46bc-c619-ef9e21c74689"
      },
      "execution_count": 38,
      "outputs": [
        {
          "output_type": "stream",
          "name": "stdout",
          "text": [
            "The RandomForestClassifier model test score is 86.41\n",
            "The RandomForestClassifier model train scores is 99.99\n",
            "The RandomForestClassifier accuracy_score 86.41\n"
          ]
        }
      ]
    },
    {
      "cell_type": "code",
      "source": [
        "#Classification report\n",
        "print(classification_report(y_test,random_pred))\n",
        "#confusion_matrix\n",
        "cn=confusion_matrix(y_test,random_pred)\n",
        "sns.heatmap(cn,annot=True,cmap='YlGnBu',xticklabels=['Negative','Positive'],yticklabels=['Negative','Positive'])"
      ],
      "metadata": {
        "colab": {
          "base_uri": "https://localhost:8080/",
          "height": 439
        },
        "id": "aGYS1OntW5je",
        "outputId": "8e39e2ef-6ea7-4bfe-e4bc-bf63219a8127"
      },
      "execution_count": 39,
      "outputs": [
        {
          "output_type": "stream",
          "name": "stdout",
          "text": [
            "              precision    recall  f1-score   support\n",
            "\n",
            "           0       0.89      0.93      0.91       781\n",
            "           1       0.76      0.65      0.70       249\n",
            "\n",
            "    accuracy                           0.86      1030\n",
            "   macro avg       0.82      0.79      0.80      1030\n",
            "weighted avg       0.86      0.86      0.86      1030\n",
            "\n"
          ]
        },
        {
          "output_type": "execute_result",
          "data": {
            "text/plain": [
              "<matplotlib.axes._subplots.AxesSubplot at 0x7fcbf9d5c290>"
            ]
          },
          "metadata": {},
          "execution_count": 39
        },
        {
          "output_type": "display_data",
          "data": {
            "text/plain": [
              "<Figure size 432x288 with 2 Axes>"
            ],
            "image/png": "[encoded data removed]"
          },
          "metadata": {
            "needs_background": "light"
          }
        }
      ]
    },
    {
      "cell_type": "code",
      "source": [
        "#Import the MultinomialNB algorithm to train the our model\n",
        "from sklearn.naive_bayes import MultinomialNB\n",
        "#install the model\n",
        "multinomial=MultinomialNB()\n",
        "#fit the train data to our model\n",
        "multinomial.fit(X_train,y_train)\n",
        "#Prediction to the test data\n",
        "multinomial_pred=multinomial.predict(X_test)"
      ],
      "metadata": {
        "id": "hG9T-RoLW8pp"
      },
      "execution_count": 40,
      "outputs": []
    },
    {
      "cell_type": "code",
      "source": [
        "#Check the test score and train score to the model\n",
        "print(f'The RandomForestClassifier model test score is {multinomial.score(X_test,y_test)*100:.2f}')\n",
        "#Train score for the data\n",
        "print(f'The RandomForestClassifier model train scores is {multinomial.score(X_train,y_train)*100:.2f}')\n",
        "#Check the accuracy_score to the model\n",
        "print(f'The RandomForestClassifier accuracy_score {accuracy_score(y_test,multinomial_pred)*100:.2f}')"
      ],
      "metadata": {
        "colab": {
          "base_uri": "https://localhost:8080/"
        },
        "id": "2ZS9YtJkXVQS",
        "outputId": "13089654-e1bb-4076-b61b-7125b8bb6b5b"
      },
      "execution_count": 41,
      "outputs": [
        {
          "output_type": "stream",
          "name": "stdout",
          "text": [
            "The RandomForestClassifier model test score is 85.24\n",
            "The RandomForestClassifier model train scores is 92.58\n",
            "The RandomForestClassifier accuracy_score 85.24\n"
          ]
        }
      ]
    },
    {
      "cell_type": "code",
      "source": [
        "#Classification report\n",
        "print(classification_report(y_test,multinomial_pred))\n",
        "#confusion_matrix\n",
        "cn=confusion_matrix(y_test,multinomial_pred)\n",
        "sns.heatmap(cn,annot=True,cmap='gist_ncar_r',xticklabels=['Positive','Negative'],yticklabels=['Negative','Positive'])"
      ],
      "metadata": {
        "colab": {
          "base_uri": "https://localhost:8080/",
          "height": 439
        },
        "id": "DUGaSWyCXdJx",
        "outputId": "95898a20-521e-456f-c03c-ca8d594f775a"
      },
      "execution_count": 42,
      "outputs": [
        {
          "output_type": "stream",
          "name": "stdout",
          "text": [
            "              precision    recall  f1-score   support\n",
            "\n",
            "           0       0.86      0.96      0.91       781\n",
            "           1       0.79      0.53      0.63       249\n",
            "\n",
            "    accuracy                           0.85      1030\n",
            "   macro avg       0.83      0.74      0.77      1030\n",
            "weighted avg       0.85      0.85      0.84      1030\n",
            "\n"
          ]
        },
        {
          "output_type": "execute_result",
          "data": {
            "text/plain": [
              "<matplotlib.axes._subplots.AxesSubplot at 0x7fcbf9d43110>"
            ]
          },
          "metadata": {},
          "execution_count": 42
        },
        {
          "output_type": "display_data",
          "data": {
            "text/plain": [
              "<Figure size 432x288 with 2 Axes>"
            ],
            "image/png": "[encoded data removed]"
          },
          "metadata": {
            "needs_background": "light"
          }
        }
      ]
    },
    {
      "cell_type": "code",
      "source": [
        "#import theXGBClssifier\n",
        "from xgboost import XGBClassifier\n",
        "#install the model\n",
        "xgb=XGBClassifier()\n",
        "#fit the data\n",
        "xgb.fit(X_train,y_train)\n",
        "#Prediction to the test data\n",
        "xgb_pred=xgb.predict(X_test)"
      ],
      "metadata": {
        "id": "aIUXs2ZqXmmS"
      },
      "execution_count": 43,
      "outputs": []
    },
    {
      "cell_type": "code",
      "source": [
        "#Check the test score and train score to the model\n",
        "print(f'The XGBClassifier model test score is {xgb.score(X_test,y_test)*100:.2f}')\n",
        "#Train score for the data\n",
        "print(f'The XGBClassifier model train scores is {xgb.score(X_train,y_train)*100:.2f}')\n",
        "#Check the accuracy_score to the model\n",
        "print(f'The XGBClassifier accuracy_score {accuracy_score(y_test,xgb_pred)*100:.2f}')"
      ],
      "metadata": {
        "colab": {
          "base_uri": "https://localhost:8080/"
        },
        "id": "vJw4MeA9Xy6s",
        "outputId": "123f80d3-4ffd-44a6-ffd3-bb392bb0d974"
      },
      "execution_count": 44,
      "outputs": [
        {
          "output_type": "stream",
          "name": "stdout",
          "text": [
            "The XGBClassifier model test score is 84.08\n",
            "The XGBClassifier model train scores is 85.92\n",
            "The XGBClassifier accuracy_score 84.08\n"
          ]
        }
      ]
    },
    {
      "cell_type": "code",
      "source": [
        "#Classification report\n",
        "print(classification_report(y_test,xgb_pred))\n",
        "#confusion_matrix\n",
        "cn=confusion_matrix(y_test,xgb_pred)\n",
        "sns.heatmap(cn,annot=True,cmap='RdBu_r',xticklabels=['Positive','Negative'],yticklabels=['Positive','Negative'])"
      ],
      "metadata": {
        "colab": {
          "base_uri": "https://localhost:8080/",
          "height": 439
        },
        "id": "Lhrbn3N7X2pu",
        "outputId": "ab225988-6091-4aac-9417-4bdc11322638"
      },
      "execution_count": 45,
      "outputs": [
        {
          "output_type": "stream",
          "name": "stdout",
          "text": [
            "              precision    recall  f1-score   support\n",
            "\n",
            "           0       0.86      0.95      0.90       781\n",
            "           1       0.75      0.51      0.61       249\n",
            "\n",
            "    accuracy                           0.84      1030\n",
            "   macro avg       0.81      0.73      0.75      1030\n",
            "weighted avg       0.83      0.84      0.83      1030\n",
            "\n"
          ]
        },
        {
          "output_type": "execute_result",
          "data": {
            "text/plain": [
              "<matplotlib.axes._subplots.AxesSubplot at 0x7fcbf9d609d0>"
            ]
          },
          "metadata": {},
          "execution_count": 45
        },
        {
          "output_type": "display_data",
          "data": {
            "text/plain": [
              "<Figure size 432x288 with 2 Axes>"
            ],
            "image/png": "[encoded data removed]"
          },
          "metadata": {
            "needs_background": "light"
          }
        }
      ]
    },
    {
      "cell_type": "code",
      "source": [
        "#Import the AdaBosstClassifier from sklearn library\n",
        "from sklearn.ensemble import AdaBoostClassifier\n",
        "#Install the model\n",
        "adam=AdaBoostClassifier()\n",
        "#Fit the traiing data to the model\n",
        "adam.fit(X_train,y_train)\n",
        "#AdaBoostClassifier prediction to the dataset\n",
        "adam_pred=adam.predict(X_test)"
      ],
      "metadata": {
        "id": "SBNnzprGYA9s"
      },
      "execution_count": 46,
      "outputs": []
    },
    {
      "cell_type": "code",
      "source": [
        "#Check the test score and train score to the model\n",
        "print(f'The AdaBoostClassifier model test score is {adam.score(X_test,y_test)*100:.2f}')\n",
        "#Train score for the data\n",
        "print(f'The AdaBoostClassifier model train scores is {adam.score(X_train,y_train)*100:.2f}')\n",
        "#Check the accuracy_score to the model\n",
        "print(f'The AdaBoostClassifier accuracy_score {accuracy_score(y_test,adam_pred)*100:.2f}')"
      ],
      "metadata": {
        "colab": {
          "base_uri": "https://localhost:8080/"
        },
        "id": "o37EmyBuYibt",
        "outputId": "844b23d4-aa81-4a9d-b3e0-c7da8dae35a1"
      },
      "execution_count": 47,
      "outputs": [
        {
          "output_type": "stream",
          "name": "stdout",
          "text": [
            "The AdaBoostClassifier model test score is 84.37\n",
            "The AdaBoostClassifier model train scores is 86.08\n",
            "The AdaBoostClassifier accuracy_score 84.37\n"
          ]
        }
      ]
    },
    {
      "cell_type": "code",
      "source": [
        "#Classification report\n",
        "print(classification_report(y_test,adam_pred))\n",
        "#confusion_matrix\n",
        "cn=confusion_matrix(y_test,adam_pred)\n",
        "sns.set(rc={'figure.figsize':(8,5)})\n",
        "sns.heatmap(cn,annot=True,cmap='pink_r',xticklabels=['Positive','Negative'],yticklabels=['Positive','Negative'])"
      ],
      "metadata": {
        "colab": {
          "base_uri": "https://localhost:8080/",
          "height": 496
        },
        "id": "2GptH00KYjXS",
        "outputId": "f40d8c84-5739-4a75-9532-cd5ae0c29a90"
      },
      "execution_count": 48,
      "outputs": [
        {
          "output_type": "stream",
          "name": "stdout",
          "text": [
            "              precision    recall  f1-score   support\n",
            "\n",
            "           0       0.87      0.93      0.90       781\n",
            "           1       0.72      0.57      0.64       249\n",
            "\n",
            "    accuracy                           0.84      1030\n",
            "   macro avg       0.80      0.75      0.77      1030\n",
            "weighted avg       0.84      0.84      0.84      1030\n",
            "\n"
          ]
        },
        {
          "output_type": "execute_result",
          "data": {
            "text/plain": [
              "<matplotlib.axes._subplots.AxesSubplot at 0x7fcbf064e210>"
            ]
          },
          "metadata": {},
          "execution_count": 48
        },
        {
          "output_type": "display_data",
          "data": {
            "text/plain": [
              "<Figure size 576x360 with 2 Axes>"
            ],
            "image/png": "[encoded data removed]"
          },
          "metadata": {}
        }
      ]
    },
    {
      "cell_type": "code",
      "source": [
        "# Fit a Gradient Boosting Classifier model to the train dataset\n",
        "\n",
        "# Import GradientBoostingClassifier\n",
        "from sklearn.ensemble import GradientBoostingClassifier\n",
        "\n",
        "# Instantiate the model\n",
        "GBR = GradientBoostingClassifier(**{\n",
        "    \"n_estimators\":250,\n",
        "    \"max_depth\":10,\n",
        "    \"learning_rate\":0.1,\n",
        "})\n",
        "\n",
        "\n",
        "# fitting the model on train data\n",
        "\n",
        "GBR.fit(X_train,y_train)\n",
        "#Prediction of the GradientBoostingClassifier\n",
        "GBR_pred=GBR.predict(X_test)"
      ],
      "metadata": {
        "id": "aTdBaIQBY71n"
      },
      "execution_count": 49,
      "outputs": []
    },
    {
      "cell_type": "code",
      "source": [
        "#Check the test score and train score to the model\n",
        "print(f'The GradientBoostingClassifier model test score is {GBR.score(X_test,y_test)*100:.2f}')\n",
        "#Train score for the data\n",
        "print(f'The GradientBoostingClassifier model train scores is {GBR.score(X_train,y_train)*100:.2f}')\n",
        "#Check the accuracy_score to the model\n",
        "print(f'The GradientBoostingClassifier accuracy_score {accuracy_score(y_test,GBR_pred)*100:.2f}')"
      ],
      "metadata": {
        "colab": {
          "base_uri": "https://localhost:8080/"
        },
        "id": "KxIod_OoZN3x",
        "outputId": "5d25a0fc-7f47-47e0-e0d4-09ff690d162f"
      },
      "execution_count": 50,
      "outputs": [
        {
          "output_type": "stream",
          "name": "stdout",
          "text": [
            "The GradientBoostingClassifier model test score is 86.89\n",
            "The GradientBoostingClassifier model train scores is 99.99\n",
            "The GradientBoostingClassifier accuracy_score 86.89\n"
          ]
        }
      ]
    },
    {
      "cell_type": "code",
      "source": [
        "#Classification report\n",
        "print(classification_report(y_test,GBR_pred))\n",
        "#confusion_matrix\n",
        "cn=confusion_matrix(y_test,GBR_pred)\n",
        "sns.set(rc={'figure.figsize':(10,5)})\n",
        "sns.heatmap(cn,annot=True,cmap='rainbow',xticklabels=['Positive','Negative'],yticklabels=['Positive','Negative'])"
      ],
      "metadata": {
        "colab": {
          "base_uri": "https://localhost:8080/",
          "height": 496
        },
        "id": "svCkOx0bZSZg",
        "outputId": "2bba87bc-d66f-4dfe-bef5-8a0e2fedc8fc"
      },
      "execution_count": 51,
      "outputs": [
        {
          "output_type": "stream",
          "name": "stdout",
          "text": [
            "              precision    recall  f1-score   support\n",
            "\n",
            "           0       0.90      0.93      0.92       781\n",
            "           1       0.76      0.67      0.71       249\n",
            "\n",
            "    accuracy                           0.87      1030\n",
            "   macro avg       0.83      0.80      0.81      1030\n",
            "weighted avg       0.86      0.87      0.87      1030\n",
            "\n"
          ]
        },
        {
          "output_type": "execute_result",
          "data": {
            "text/plain": [
              "<matplotlib.axes._subplots.AxesSubplot at 0x7fcbf0734f10>"
            ]
          },
          "metadata": {},
          "execution_count": 51
        },
        {
          "output_type": "display_data",
          "data": {
            "text/plain": [
              "<Figure size 720x360 with 2 Axes>"
            ],
            "image/png": "[encoded data removed]"
          },
          "metadata": {}
        }
      ]
    },
    {
      "cell_type": "code",
      "source": [
        "pip install catboost"
      ],
      "metadata": {
        "colab": {
          "base_uri": "https://localhost:8080/"
        },
        "id": "4vif_prNngqB",
        "outputId": "30ed90ad-3272-446f-fb8b-bc43bde87438"
      },
      "execution_count": 52,
      "outputs": [
        {
          "output_type": "stream",
          "name": "stdout",
          "text": [
            "Looking in indexes: https://pypi.org/simple, https://us-python.pkg.dev/colab-wheels/public/simple/\n",
            "Requirement already satisfied: catboost in /usr/local/lib/python3.7/dist-packages (1.0.6)\n",
            "Requirement already satisfied: plotly in /usr/local/lib/python3.7/dist-packages (from catboost) (5.5.0)\n",
            "Requirement already satisfied: graphviz in /usr/local/lib/python3.7/dist-packages (from catboost) (0.10.1)\n",
            "Requirement already satisfied: matplotlib in /usr/local/lib/python3.7/dist-packages (from catboost) (3.2.2)\n",
            "Requirement already satisfied: numpy>=1.16.0 in /usr/local/lib/python3.7/dist-packages (from catboost) (1.21.6)\n",
            "Requirement already satisfied: six in /usr/local/lib/python3.7/dist-packages (from catboost) (1.15.0)\n",
            "Requirement already satisfied: scipy in /usr/local/lib/python3.7/dist-packages (from catboost) (1.7.3)\n",
            "Requirement already satisfied: pandas>=0.24.0 in /usr/local/lib/python3.7/dist-packages (from catboost) (1.3.5)\n",
            "Requirement already satisfied: python-dateutil>=2.7.3 in /usr/local/lib/python3.7/dist-packages (from pandas>=0.24.0->catboost) (2.8.2)\n",
            "Requirement already satisfied: pytz>=2017.3 in /usr/local/lib/python3.7/dist-packages (from pandas>=0.24.0->catboost) (2022.2.1)\n",
            "Requirement already satisfied: pyparsing!=2.0.4,!=2.1.2,!=2.1.6,>=2.0.1 in /usr/local/lib/python3.7/dist-packages (from matplotlib->catboost) (3.0.9)\n",
            "Requirement already satisfied: cycler>=0.10 in /usr/local/lib/python3.7/dist-packages (from matplotlib->catboost) (0.11.0)\n",
            "Requirement already satisfied: kiwisolver>=1.0.1 in /usr/local/lib/python3.7/dist-packages (from matplotlib->catboost) (1.4.4)\n",
            "Requirement already satisfied: typing-extensions in /usr/local/lib/python3.7/dist-packages (from kiwisolver>=1.0.1->matplotlib->catboost) (4.1.1)\n",
            "Requirement already satisfied: tenacity>=6.2.0 in /usr/local/lib/python3.7/dist-packages (from plotly->catboost) (8.0.1)\n"
          ]
        }
      ]
    },
    {
      "cell_type": "code",
      "source": [
        "#Install the CatBoostClassifier\n",
        "from catboost import CatBoostClassifier\n",
        "\n",
        "clf = CatBoostClassifier()\n",
        "#fit the traing data to the CatBoostClassifier\n",
        "clf.fit(X_train,y_train)\n",
        "\n",
        "#prediction of the CatBoostClassifier\n",
        "clf_pred=clf.predict(X_test)\n"
      ],
      "metadata": {
        "colab": {
          "base_uri": "https://localhost:8080/"
        },
        "id": "LPGRnzcEZi7D",
        "outputId": "6196710a-2ca3-4ba9-ff16-fa5777d05871"
      },
      "execution_count": 53,
      "outputs": [
        {
          "output_type": "stream",
          "name": "stdout",
          "text": [
            "Learning rate set to 0.023488\n",
            "0:\tlearn: 0.6816587\ttotal: 204ms\tremaining: 3m 23s\n",
            "1:\tlearn: 0.6713477\ttotal: 360ms\tremaining: 2m 59s\n",
            "2:\tlearn: 0.6602166\ttotal: 538ms\tremaining: 2m 58s\n",
            "3:\tlearn: 0.6512690\ttotal: 751ms\tremaining: 3m 6s\n",
            "4:\tlearn: 0.6421377\ttotal: 866ms\tremaining: 2m 52s\n",
            "5:\tlearn: 0.6327973\ttotal: 1.04s\tremaining: 2m 51s\n",
            "6:\tlearn: 0.6233324\ttotal: 1.27s\tremaining: 3m\n",
            "7:\tlearn: 0.6156621\ttotal: 1.4s\tremaining: 2m 53s\n",
            "8:\tlearn: 0.6052624\ttotal: 1.52s\tremaining: 2m 47s\n",
            "9:\tlearn: 0.5980158\ttotal: 1.64s\tremaining: 2m 42s\n",
            "10:\tlearn: 0.5909193\ttotal: 1.78s\tremaining: 2m 40s\n",
            "11:\tlearn: 0.5832122\ttotal: 1.91s\tremaining: 2m 37s\n",
            "12:\tlearn: 0.5762437\ttotal: 2.03s\tremaining: 2m 34s\n",
            "13:\tlearn: 0.5694713\ttotal: 2.15s\tremaining: 2m 31s\n",
            "14:\tlearn: 0.5630025\ttotal: 2.28s\tremaining: 2m 29s\n",
            "15:\tlearn: 0.5570556\ttotal: 2.39s\tremaining: 2m 27s\n",
            "16:\tlearn: 0.5517055\ttotal: 2.52s\tremaining: 2m 25s\n",
            "17:\tlearn: 0.5465971\ttotal: 2.64s\tremaining: 2m 23s\n",
            "18:\tlearn: 0.5418757\ttotal: 2.78s\tremaining: 2m 23s\n",
            "19:\tlearn: 0.5365308\ttotal: 2.9s\tremaining: 2m 21s\n",
            "20:\tlearn: 0.5320581\ttotal: 3.02s\tremaining: 2m 20s\n",
            "21:\tlearn: 0.5288365\ttotal: 3.14s\tremaining: 2m 19s\n",
            "22:\tlearn: 0.5239304\ttotal: 3.26s\tremaining: 2m 18s\n",
            "23:\tlearn: 0.5198606\ttotal: 3.39s\tremaining: 2m 17s\n",
            "24:\tlearn: 0.5160507\ttotal: 3.57s\tremaining: 2m 19s\n",
            "25:\tlearn: 0.5110889\ttotal: 3.77s\tremaining: 2m 21s\n",
            "26:\tlearn: 0.5076030\ttotal: 3.91s\tremaining: 2m 21s\n",
            "27:\tlearn: 0.5033898\ttotal: 4.04s\tremaining: 2m 20s\n",
            "28:\tlearn: 0.4997380\ttotal: 4.16s\tremaining: 2m 19s\n",
            "29:\tlearn: 0.4967052\ttotal: 4.28s\tremaining: 2m 18s\n",
            "30:\tlearn: 0.4934701\ttotal: 4.41s\tremaining: 2m 17s\n",
            "31:\tlearn: 0.4890244\ttotal: 4.53s\tremaining: 2m 17s\n",
            "32:\tlearn: 0.4858591\ttotal: 4.65s\tremaining: 2m 16s\n",
            "33:\tlearn: 0.4828059\ttotal: 4.77s\tremaining: 2m 15s\n",
            "34:\tlearn: 0.4795057\ttotal: 4.9s\tremaining: 2m 15s\n",
            "35:\tlearn: 0.4772575\ttotal: 5.02s\tremaining: 2m 14s\n",
            "36:\tlearn: 0.4746022\ttotal: 5.17s\tremaining: 2m 14s\n",
            "37:\tlearn: 0.4720675\ttotal: 5.28s\tremaining: 2m 13s\n",
            "38:\tlearn: 0.4691398\ttotal: 5.41s\tremaining: 2m 13s\n",
            "39:\tlearn: 0.4667000\ttotal: 5.53s\tremaining: 2m 12s\n",
            "40:\tlearn: 0.4645600\ttotal: 5.65s\tremaining: 2m 12s\n",
            "41:\tlearn: 0.4620860\ttotal: 5.77s\tremaining: 2m 11s\n",
            "42:\tlearn: 0.4598135\ttotal: 5.9s\tremaining: 2m 11s\n",
            "43:\tlearn: 0.4581434\ttotal: 6.03s\tremaining: 2m 11s\n",
            "44:\tlearn: 0.4558400\ttotal: 6.15s\tremaining: 2m 10s\n",
            "45:\tlearn: 0.4540233\ttotal: 6.27s\tremaining: 2m 10s\n",
            "46:\tlearn: 0.4525927\ttotal: 6.39s\tremaining: 2m 9s\n",
            "47:\tlearn: 0.4510315\ttotal: 6.5s\tremaining: 2m 9s\n",
            "48:\tlearn: 0.4494654\ttotal: 6.75s\tremaining: 2m 10s\n",
            "49:\tlearn: 0.4473029\ttotal: 6.95s\tremaining: 2m 11s\n",
            "50:\tlearn: 0.4453272\ttotal: 7.15s\tremaining: 2m 13s\n",
            "51:\tlearn: 0.4434966\ttotal: 7.32s\tremaining: 2m 13s\n",
            "52:\tlearn: 0.4419625\ttotal: 7.51s\tremaining: 2m 14s\n",
            "53:\tlearn: 0.4407920\ttotal: 7.71s\tremaining: 2m 15s\n",
            "54:\tlearn: 0.4394424\ttotal: 7.89s\tremaining: 2m 15s\n",
            "55:\tlearn: 0.4379768\ttotal: 8.1s\tremaining: 2m 16s\n",
            "56:\tlearn: 0.4367387\ttotal: 8.4s\tremaining: 2m 18s\n",
            "57:\tlearn: 0.4354703\ttotal: 8.69s\tremaining: 2m 21s\n",
            "58:\tlearn: 0.4341310\ttotal: 8.96s\tremaining: 2m 22s\n",
            "59:\tlearn: 0.4328286\ttotal: 9.18s\tremaining: 2m 23s\n",
            "60:\tlearn: 0.4313840\ttotal: 9.42s\tremaining: 2m 25s\n",
            "61:\tlearn: 0.4299831\ttotal: 9.64s\tremaining: 2m 25s\n",
            "62:\tlearn: 0.4290234\ttotal: 9.85s\tremaining: 2m 26s\n",
            "63:\tlearn: 0.4271120\ttotal: 10.2s\tremaining: 2m 28s\n",
            "64:\tlearn: 0.4260750\ttotal: 10.4s\tremaining: 2m 29s\n",
            "65:\tlearn: 0.4250196\ttotal: 10.6s\tremaining: 2m 30s\n",
            "66:\tlearn: 0.4237120\ttotal: 10.8s\tremaining: 2m 30s\n",
            "67:\tlearn: 0.4225715\ttotal: 11.1s\tremaining: 2m 31s\n",
            "68:\tlearn: 0.4214422\ttotal: 11.3s\tremaining: 2m 32s\n",
            "69:\tlearn: 0.4198453\ttotal: 11.5s\tremaining: 2m 33s\n",
            "70:\tlearn: 0.4189273\ttotal: 11.8s\tremaining: 2m 33s\n",
            "71:\tlearn: 0.4179270\ttotal: 12s\tremaining: 2m 34s\n",
            "72:\tlearn: 0.4170253\ttotal: 12.2s\tremaining: 2m 35s\n",
            "73:\tlearn: 0.4163116\ttotal: 12.5s\tremaining: 2m 35s\n",
            "74:\tlearn: 0.4152231\ttotal: 12.7s\tremaining: 2m 36s\n",
            "75:\tlearn: 0.4144431\ttotal: 12.9s\tremaining: 2m 36s\n",
            "76:\tlearn: 0.4135468\ttotal: 13.1s\tremaining: 2m 36s\n",
            "77:\tlearn: 0.4125524\ttotal: 13.3s\tremaining: 2m 37s\n",
            "78:\tlearn: 0.4113372\ttotal: 13.6s\tremaining: 2m 38s\n",
            "79:\tlearn: 0.4097556\ttotal: 13.8s\tremaining: 2m 39s\n",
            "80:\tlearn: 0.4089219\ttotal: 14.1s\tremaining: 2m 39s\n",
            "81:\tlearn: 0.4079460\ttotal: 14.2s\tremaining: 2m 39s\n",
            "82:\tlearn: 0.4073790\ttotal: 14.4s\tremaining: 2m 39s\n",
            "83:\tlearn: 0.4065835\ttotal: 14.6s\tremaining: 2m 39s\n",
            "84:\tlearn: 0.4058932\ttotal: 14.9s\tremaining: 2m 39s\n",
            "85:\tlearn: 0.4051953\ttotal: 15.2s\tremaining: 2m 41s\n",
            "86:\tlearn: 0.4044003\ttotal: 15.4s\tremaining: 2m 41s\n",
            "87:\tlearn: 0.4036179\ttotal: 15.6s\tremaining: 2m 42s\n",
            "88:\tlearn: 0.4029287\ttotal: 15.9s\tremaining: 2m 42s\n",
            "89:\tlearn: 0.4023513\ttotal: 16.2s\tremaining: 2m 43s\n",
            "90:\tlearn: 0.4014554\ttotal: 16.4s\tremaining: 2m 43s\n",
            "91:\tlearn: 0.4008043\ttotal: 16.6s\tremaining: 2m 43s\n",
            "92:\tlearn: 0.4001716\ttotal: 16.8s\tremaining: 2m 44s\n",
            "93:\tlearn: 0.3994775\ttotal: 17s\tremaining: 2m 43s\n",
            "94:\tlearn: 0.3987758\ttotal: 17.3s\tremaining: 2m 44s\n",
            "95:\tlearn: 0.3982140\ttotal: 17.5s\tremaining: 2m 45s\n",
            "96:\tlearn: 0.3973509\ttotal: 17.8s\tremaining: 2m 45s\n",
            "97:\tlearn: 0.3964180\ttotal: 18.1s\tremaining: 2m 46s\n",
            "98:\tlearn: 0.3958089\ttotal: 18.4s\tremaining: 2m 47s\n",
            "99:\tlearn: 0.3951099\ttotal: 18.6s\tremaining: 2m 47s\n",
            "100:\tlearn: 0.3942180\ttotal: 18.8s\tremaining: 2m 47s\n",
            "101:\tlearn: 0.3936975\ttotal: 19.1s\tremaining: 2m 47s\n",
            "102:\tlearn: 0.3931729\ttotal: 19.4s\tremaining: 2m 48s\n",
            "103:\tlearn: 0.3920862\ttotal: 19.6s\tremaining: 2m 48s\n",
            "104:\tlearn: 0.3913227\ttotal: 19.8s\tremaining: 2m 48s\n",
            "105:\tlearn: 0.3904188\ttotal: 20s\tremaining: 2m 48s\n",
            "106:\tlearn: 0.3896561\ttotal: 20.3s\tremaining: 2m 49s\n",
            "107:\tlearn: 0.3890661\ttotal: 20.5s\tremaining: 2m 49s\n",
            "108:\tlearn: 0.3884357\ttotal: 20.7s\tremaining: 2m 49s\n",
            "109:\tlearn: 0.3879144\ttotal: 20.9s\tremaining: 2m 49s\n",
            "110:\tlearn: 0.3871454\ttotal: 21.1s\tremaining: 2m 49s\n",
            "111:\tlearn: 0.3866168\ttotal: 21.4s\tremaining: 2m 49s\n",
            "112:\tlearn: 0.3859594\ttotal: 21.6s\tremaining: 2m 49s\n",
            "113:\tlearn: 0.3854961\ttotal: 21.8s\tremaining: 2m 49s\n",
            "114:\tlearn: 0.3848131\ttotal: 22.1s\tremaining: 2m 49s\n",
            "115:\tlearn: 0.3842315\ttotal: 22.3s\tremaining: 2m 49s\n",
            "116:\tlearn: 0.3834156\ttotal: 22.5s\tremaining: 2m 49s\n",
            "117:\tlearn: 0.3828492\ttotal: 22.7s\tremaining: 2m 49s\n",
            "118:\tlearn: 0.3823884\ttotal: 22.9s\tremaining: 2m 49s\n",
            "119:\tlearn: 0.3818532\ttotal: 23.1s\tremaining: 2m 49s\n",
            "120:\tlearn: 0.3811633\ttotal: 23.4s\tremaining: 2m 49s\n",
            "121:\tlearn: 0.3804399\ttotal: 23.6s\tremaining: 2m 49s\n",
            "122:\tlearn: 0.3799621\ttotal: 23.8s\tremaining: 2m 49s\n",
            "123:\tlearn: 0.3795725\ttotal: 24s\tremaining: 2m 49s\n",
            "124:\tlearn: 0.3791282\ttotal: 24.3s\tremaining: 2m 50s\n",
            "125:\tlearn: 0.3786942\ttotal: 24.6s\tremaining: 2m 50s\n",
            "126:\tlearn: 0.3780540\ttotal: 24.8s\tremaining: 2m 50s\n",
            "127:\tlearn: 0.3774406\ttotal: 25s\tremaining: 2m 50s\n",
            "128:\tlearn: 0.3768350\ttotal: 25.2s\tremaining: 2m 50s\n",
            "129:\tlearn: 0.3763307\ttotal: 25.5s\tremaining: 2m 50s\n",
            "130:\tlearn: 0.3759635\ttotal: 25.7s\tremaining: 2m 50s\n",
            "131:\tlearn: 0.3753740\ttotal: 26s\tremaining: 2m 50s\n",
            "132:\tlearn: 0.3749679\ttotal: 26.2s\tremaining: 2m 51s\n",
            "133:\tlearn: 0.3741189\ttotal: 26.5s\tremaining: 2m 51s\n",
            "134:\tlearn: 0.3735514\ttotal: 26.7s\tremaining: 2m 51s\n",
            "135:\tlearn: 0.3731660\ttotal: 27s\tremaining: 2m 51s\n",
            "136:\tlearn: 0.3726718\ttotal: 27.2s\tremaining: 2m 51s\n",
            "137:\tlearn: 0.3720087\ttotal: 27.4s\tremaining: 2m 51s\n",
            "138:\tlearn: 0.3714532\ttotal: 27.7s\tremaining: 2m 51s\n",
            "139:\tlearn: 0.3711004\ttotal: 27.9s\tremaining: 2m 51s\n",
            "140:\tlearn: 0.3705939\ttotal: 28.1s\tremaining: 2m 51s\n",
            "141:\tlearn: 0.3700453\ttotal: 28.3s\tremaining: 2m 51s\n",
            "142:\tlearn: 0.3694882\ttotal: 28.7s\tremaining: 2m 52s\n",
            "143:\tlearn: 0.3690911\ttotal: 29.2s\tremaining: 2m 53s\n",
            "144:\tlearn: 0.3686766\ttotal: 29.4s\tremaining: 2m 53s\n",
            "145:\tlearn: 0.3681628\ttotal: 29.7s\tremaining: 2m 53s\n",
            "146:\tlearn: 0.3676893\ttotal: 29.9s\tremaining: 2m 53s\n",
            "147:\tlearn: 0.3673120\ttotal: 30.1s\tremaining: 2m 53s\n",
            "148:\tlearn: 0.3666134\ttotal: 30.3s\tremaining: 2m 53s\n",
            "149:\tlearn: 0.3660974\ttotal: 30.6s\tremaining: 2m 53s\n",
            "150:\tlearn: 0.3657508\ttotal: 30.8s\tremaining: 2m 53s\n",
            "151:\tlearn: 0.3654640\ttotal: 31.1s\tremaining: 2m 53s\n",
            "152:\tlearn: 0.3650200\ttotal: 31.3s\tremaining: 2m 53s\n",
            "153:\tlearn: 0.3645504\ttotal: 31.5s\tremaining: 2m 53s\n",
            "154:\tlearn: 0.3641035\ttotal: 31.8s\tremaining: 2m 53s\n",
            "155:\tlearn: 0.3635957\ttotal: 32.1s\tremaining: 2m 53s\n",
            "156:\tlearn: 0.3632067\ttotal: 32.2s\tremaining: 2m 53s\n",
            "157:\tlearn: 0.3628076\ttotal: 32.5s\tremaining: 2m 52s\n",
            "158:\tlearn: 0.3621715\ttotal: 32.7s\tremaining: 2m 53s\n",
            "159:\tlearn: 0.3617936\ttotal: 32.9s\tremaining: 2m 52s\n",
            "160:\tlearn: 0.3615073\ttotal: 33.2s\tremaining: 2m 53s\n",
            "161:\tlearn: 0.3611168\ttotal: 33.5s\tremaining: 2m 53s\n",
            "162:\tlearn: 0.3607909\ttotal: 33.7s\tremaining: 2m 53s\n",
            "163:\tlearn: 0.3604267\ttotal: 33.9s\tremaining: 2m 52s\n",
            "164:\tlearn: 0.3601174\ttotal: 34.2s\tremaining: 2m 53s\n",
            "165:\tlearn: 0.3597190\ttotal: 34.4s\tremaining: 2m 52s\n",
            "166:\tlearn: 0.3593946\ttotal: 34.7s\tremaining: 2m 53s\n",
            "167:\tlearn: 0.3590337\ttotal: 34.8s\tremaining: 2m 52s\n",
            "168:\tlearn: 0.3587358\ttotal: 35.1s\tremaining: 2m 52s\n",
            "169:\tlearn: 0.3584024\ttotal: 35.3s\tremaining: 2m 52s\n",
            "170:\tlearn: 0.3579634\ttotal: 35.6s\tremaining: 2m 52s\n",
            "171:\tlearn: 0.3575268\ttotal: 35.9s\tremaining: 2m 52s\n",
            "172:\tlearn: 0.3572266\ttotal: 36.2s\tremaining: 2m 52s\n",
            "173:\tlearn: 0.3567777\ttotal: 36.5s\tremaining: 2m 53s\n",
            "174:\tlearn: 0.3564670\ttotal: 36.7s\tremaining: 2m 53s\n",
            "175:\tlearn: 0.3561328\ttotal: 36.9s\tremaining: 2m 52s\n",
            "176:\tlearn: 0.3557800\ttotal: 37.2s\tremaining: 2m 52s\n",
            "177:\tlearn: 0.3555050\ttotal: 37.4s\tremaining: 2m 52s\n",
            "178:\tlearn: 0.3551874\ttotal: 37.6s\tremaining: 2m 52s\n",
            "179:\tlearn: 0.3547403\ttotal: 37.8s\tremaining: 2m 52s\n",
            "180:\tlearn: 0.3542676\ttotal: 38s\tremaining: 2m 51s\n",
            "181:\tlearn: 0.3540118\ttotal: 38.2s\tremaining: 2m 51s\n",
            "182:\tlearn: 0.3536256\ttotal: 38.4s\tremaining: 2m 51s\n",
            "183:\tlearn: 0.3532862\ttotal: 38.7s\tremaining: 2m 51s\n",
            "184:\tlearn: 0.3529206\ttotal: 38.9s\tremaining: 2m 51s\n",
            "185:\tlearn: 0.3526542\ttotal: 39.1s\tremaining: 2m 51s\n",
            "186:\tlearn: 0.3523730\ttotal: 39.4s\tremaining: 2m 51s\n",
            "187:\tlearn: 0.3520582\ttotal: 39.6s\tremaining: 2m 51s\n",
            "188:\tlearn: 0.3517318\ttotal: 39.9s\tremaining: 2m 51s\n",
            "189:\tlearn: 0.3515197\ttotal: 40.1s\tremaining: 2m 50s\n",
            "190:\tlearn: 0.3511404\ttotal: 40.3s\tremaining: 2m 50s\n",
            "191:\tlearn: 0.3506383\ttotal: 40.5s\tremaining: 2m 50s\n",
            "192:\tlearn: 0.3502369\ttotal: 40.7s\tremaining: 2m 49s\n",
            "193:\tlearn: 0.3500139\ttotal: 40.9s\tremaining: 2m 50s\n",
            "194:\tlearn: 0.3497309\ttotal: 41.2s\tremaining: 2m 50s\n",
            "195:\tlearn: 0.3492966\ttotal: 41.5s\tremaining: 2m 50s\n",
            "196:\tlearn: 0.3490187\ttotal: 41.8s\tremaining: 2m 50s\n",
            "197:\tlearn: 0.3486812\ttotal: 42s\tremaining: 2m 50s\n",
            "198:\tlearn: 0.3483859\ttotal: 42.3s\tremaining: 2m 50s\n",
            "199:\tlearn: 0.3480473\ttotal: 42.5s\tremaining: 2m 50s\n",
            "200:\tlearn: 0.3477547\ttotal: 42.8s\tremaining: 2m 49s\n",
            "201:\tlearn: 0.3474148\ttotal: 43s\tremaining: 2m 49s\n",
            "202:\tlearn: 0.3470314\ttotal: 43.2s\tremaining: 2m 49s\n",
            "203:\tlearn: 0.3467978\ttotal: 43.5s\tremaining: 2m 49s\n",
            "204:\tlearn: 0.3464669\ttotal: 43.9s\tremaining: 2m 50s\n",
            "205:\tlearn: 0.3461882\ttotal: 44.1s\tremaining: 2m 50s\n",
            "206:\tlearn: 0.3457476\ttotal: 44.4s\tremaining: 2m 50s\n",
            "207:\tlearn: 0.3454446\ttotal: 44.7s\tremaining: 2m 50s\n",
            "208:\tlearn: 0.3451485\ttotal: 44.9s\tremaining: 2m 49s\n",
            "209:\tlearn: 0.3448372\ttotal: 45s\tremaining: 2m 49s\n",
            "210:\tlearn: 0.3445835\ttotal: 45.1s\tremaining: 2m 48s\n",
            "211:\tlearn: 0.3443223\ttotal: 45.2s\tremaining: 2m 48s\n",
            "212:\tlearn: 0.3440884\ttotal: 45.3s\tremaining: 2m 47s\n",
            "213:\tlearn: 0.3437560\ttotal: 45.5s\tremaining: 2m 46s\n",
            "214:\tlearn: 0.3435105\ttotal: 45.6s\tremaining: 2m 46s\n",
            "215:\tlearn: 0.3432472\ttotal: 45.7s\tremaining: 2m 45s\n",
            "216:\tlearn: 0.3428247\ttotal: 45.8s\tremaining: 2m 45s\n",
            "217:\tlearn: 0.3423269\ttotal: 45.9s\tremaining: 2m 44s\n",
            "218:\tlearn: 0.3419577\ttotal: 46.1s\tremaining: 2m 44s\n",
            "219:\tlearn: 0.3417082\ttotal: 46.2s\tremaining: 2m 43s\n",
            "220:\tlearn: 0.3412108\ttotal: 46.3s\tremaining: 2m 43s\n",
            "221:\tlearn: 0.3410026\ttotal: 46.4s\tremaining: 2m 42s\n",
            "222:\tlearn: 0.3407228\ttotal: 46.5s\tremaining: 2m 42s\n",
            "223:\tlearn: 0.3404867\ttotal: 46.7s\tremaining: 2m 41s\n",
            "224:\tlearn: 0.3402464\ttotal: 46.8s\tremaining: 2m 41s\n",
            "225:\tlearn: 0.3399650\ttotal: 46.9s\tremaining: 2m 40s\n",
            "226:\tlearn: 0.3396381\ttotal: 47s\tremaining: 2m 40s\n",
            "227:\tlearn: 0.3393695\ttotal: 47.2s\tremaining: 2m 39s\n",
            "228:\tlearn: 0.3390401\ttotal: 47.3s\tremaining: 2m 39s\n",
            "229:\tlearn: 0.3387527\ttotal: 47.4s\tremaining: 2m 38s\n",
            "230:\tlearn: 0.3383955\ttotal: 47.5s\tremaining: 2m 38s\n",
            "231:\tlearn: 0.3382106\ttotal: 47.6s\tremaining: 2m 37s\n",
            "232:\tlearn: 0.3379509\ttotal: 47.7s\tremaining: 2m 37s\n",
            "233:\tlearn: 0.3376749\ttotal: 47.9s\tremaining: 2m 36s\n",
            "234:\tlearn: 0.3374612\ttotal: 48s\tremaining: 2m 36s\n",
            "235:\tlearn: 0.3371391\ttotal: 48.1s\tremaining: 2m 35s\n",
            "236:\tlearn: 0.3367277\ttotal: 48.2s\tremaining: 2m 35s\n",
            "237:\tlearn: 0.3364908\ttotal: 48.3s\tremaining: 2m 34s\n",
            "238:\tlearn: 0.3362676\ttotal: 48.5s\tremaining: 2m 34s\n",
            "239:\tlearn: 0.3358509\ttotal: 48.6s\tremaining: 2m 33s\n",
            "240:\tlearn: 0.3356023\ttotal: 48.7s\tremaining: 2m 33s\n",
            "241:\tlearn: 0.3353359\ttotal: 48.8s\tremaining: 2m 32s\n",
            "242:\tlearn: 0.3349758\ttotal: 49s\tremaining: 2m 32s\n",
            "243:\tlearn: 0.3347252\ttotal: 49.1s\tremaining: 2m 32s\n",
            "244:\tlearn: 0.3345026\ttotal: 49.2s\tremaining: 2m 31s\n",
            "245:\tlearn: 0.3342267\ttotal: 49.3s\tremaining: 2m 31s\n",
            "246:\tlearn: 0.3339856\ttotal: 49.4s\tremaining: 2m 30s\n",
            "247:\tlearn: 0.3337439\ttotal: 49.5s\tremaining: 2m 30s\n",
            "248:\tlearn: 0.3334054\ttotal: 49.7s\tremaining: 2m 29s\n",
            "249:\tlearn: 0.3328586\ttotal: 49.8s\tremaining: 2m 29s\n",
            "250:\tlearn: 0.3326083\ttotal: 49.9s\tremaining: 2m 28s\n",
            "251:\tlearn: 0.3323062\ttotal: 50s\tremaining: 2m 28s\n",
            "252:\tlearn: 0.3320635\ttotal: 50.1s\tremaining: 2m 28s\n",
            "253:\tlearn: 0.3317206\ttotal: 50.3s\tremaining: 2m 27s\n",
            "254:\tlearn: 0.3314886\ttotal: 50.4s\tremaining: 2m 27s\n",
            "255:\tlearn: 0.3311630\ttotal: 50.5s\tremaining: 2m 26s\n",
            "256:\tlearn: 0.3307214\ttotal: 50.6s\tremaining: 2m 26s\n",
            "257:\tlearn: 0.3304697\ttotal: 50.7s\tremaining: 2m 25s\n",
            "258:\tlearn: 0.3301802\ttotal: 50.9s\tremaining: 2m 25s\n",
            "259:\tlearn: 0.3299698\ttotal: 51s\tremaining: 2m 25s\n",
            "260:\tlearn: 0.3296866\ttotal: 51.1s\tremaining: 2m 24s\n",
            "261:\tlearn: 0.3295010\ttotal: 51.2s\tremaining: 2m 24s\n",
            "262:\tlearn: 0.3291625\ttotal: 51.4s\tremaining: 2m 23s\n",
            "263:\tlearn: 0.3288949\ttotal: 51.5s\tremaining: 2m 23s\n",
            "264:\tlearn: 0.3286705\ttotal: 51.6s\tremaining: 2m 23s\n",
            "265:\tlearn: 0.3284690\ttotal: 51.7s\tremaining: 2m 22s\n",
            "266:\tlearn: 0.3281359\ttotal: 51.8s\tremaining: 2m 22s\n",
            "267:\tlearn: 0.3278946\ttotal: 52s\tremaining: 2m 21s\n",
            "268:\tlearn: 0.3276425\ttotal: 52.1s\tremaining: 2m 21s\n",
            "269:\tlearn: 0.3274435\ttotal: 52.2s\tremaining: 2m 21s\n",
            "270:\tlearn: 0.3271728\ttotal: 52.3s\tremaining: 2m 20s\n",
            "271:\tlearn: 0.3269603\ttotal: 52.4s\tremaining: 2m 20s\n",
            "272:\tlearn: 0.3267935\ttotal: 52.6s\tremaining: 2m 19s\n",
            "273:\tlearn: 0.3265606\ttotal: 52.7s\tremaining: 2m 19s\n",
            "274:\tlearn: 0.3262397\ttotal: 52.8s\tremaining: 2m 19s\n",
            "275:\tlearn: 0.3258935\ttotal: 52.9s\tremaining: 2m 18s\n",
            "276:\tlearn: 0.3255810\ttotal: 53s\tremaining: 2m 18s\n",
            "277:\tlearn: 0.3252684\ttotal: 53.2s\tremaining: 2m 18s\n",
            "278:\tlearn: 0.3250165\ttotal: 53.3s\tremaining: 2m 17s\n",
            "279:\tlearn: 0.3247956\ttotal: 53.4s\tremaining: 2m 17s\n",
            "280:\tlearn: 0.3245610\ttotal: 53.5s\tremaining: 2m 16s\n",
            "281:\tlearn: 0.3242118\ttotal: 53.6s\tremaining: 2m 16s\n",
            "282:\tlearn: 0.3238921\ttotal: 53.7s\tremaining: 2m 16s\n",
            "283:\tlearn: 0.3236841\ttotal: 53.9s\tremaining: 2m 15s\n",
            "284:\tlearn: 0.3235156\ttotal: 54s\tremaining: 2m 15s\n",
            "285:\tlearn: 0.3232907\ttotal: 54.1s\tremaining: 2m 15s\n",
            "286:\tlearn: 0.3231272\ttotal: 54.2s\tremaining: 2m 14s\n",
            "287:\tlearn: 0.3229248\ttotal: 54.4s\tremaining: 2m 14s\n",
            "288:\tlearn: 0.3227083\ttotal: 54.5s\tremaining: 2m 14s\n",
            "289:\tlearn: 0.3224141\ttotal: 54.6s\tremaining: 2m 13s\n",
            "290:\tlearn: 0.3222017\ttotal: 54.7s\tremaining: 2m 13s\n",
            "291:\tlearn: 0.3220415\ttotal: 54.8s\tremaining: 2m 12s\n",
            "292:\tlearn: 0.3217929\ttotal: 55s\tremaining: 2m 12s\n",
            "293:\tlearn: 0.3215323\ttotal: 55.1s\tremaining: 2m 12s\n",
            "294:\tlearn: 0.3212777\ttotal: 55.2s\tremaining: 2m 11s\n",
            "295:\tlearn: 0.3210455\ttotal: 55.3s\tremaining: 2m 11s\n",
            "296:\tlearn: 0.3208284\ttotal: 55.4s\tremaining: 2m 11s\n",
            "297:\tlearn: 0.3206608\ttotal: 55.6s\tremaining: 2m 10s\n",
            "298:\tlearn: 0.3204572\ttotal: 55.7s\tremaining: 2m 10s\n",
            "299:\tlearn: 0.3201748\ttotal: 55.8s\tremaining: 2m 10s\n",
            "300:\tlearn: 0.3199056\ttotal: 55.9s\tremaining: 2m 9s\n",
            "301:\tlearn: 0.3197342\ttotal: 56s\tremaining: 2m 9s\n",
            "302:\tlearn: 0.3195598\ttotal: 56.2s\tremaining: 2m 9s\n",
            "303:\tlearn: 0.3193680\ttotal: 56.3s\tremaining: 2m 8s\n",
            "304:\tlearn: 0.3191587\ttotal: 56.4s\tremaining: 2m 8s\n",
            "305:\tlearn: 0.3189138\ttotal: 56.5s\tremaining: 2m 8s\n",
            "306:\tlearn: 0.3187215\ttotal: 56.6s\tremaining: 2m 7s\n",
            "307:\tlearn: 0.3185343\ttotal: 56.8s\tremaining: 2m 7s\n",
            "308:\tlearn: 0.3183497\ttotal: 56.9s\tremaining: 2m 7s\n",
            "309:\tlearn: 0.3180666\ttotal: 57s\tremaining: 2m 6s\n",
            "310:\tlearn: 0.3178794\ttotal: 57.1s\tremaining: 2m 6s\n",
            "311:\tlearn: 0.3177472\ttotal: 57.3s\tremaining: 2m 6s\n",
            "312:\tlearn: 0.3175487\ttotal: 57.4s\tremaining: 2m 5s\n",
            "313:\tlearn: 0.3173260\ttotal: 57.5s\tremaining: 2m 5s\n",
            "314:\tlearn: 0.3171286\ttotal: 57.6s\tremaining: 2m 5s\n",
            "315:\tlearn: 0.3169449\ttotal: 57.7s\tremaining: 2m 4s\n",
            "316:\tlearn: 0.3167017\ttotal: 57.9s\tremaining: 2m 4s\n",
            "317:\tlearn: 0.3165169\ttotal: 58s\tremaining: 2m 4s\n",
            "318:\tlearn: 0.3163429\ttotal: 58.1s\tremaining: 2m 4s\n",
            "319:\tlearn: 0.3161716\ttotal: 58.2s\tremaining: 2m 3s\n",
            "320:\tlearn: 0.3159539\ttotal: 58.4s\tremaining: 2m 3s\n",
            "321:\tlearn: 0.3157398\ttotal: 58.5s\tremaining: 2m 3s\n",
            "322:\tlearn: 0.3155503\ttotal: 58.6s\tremaining: 2m 2s\n",
            "323:\tlearn: 0.3153716\ttotal: 58.7s\tremaining: 2m 2s\n",
            "324:\tlearn: 0.3151753\ttotal: 58.8s\tremaining: 2m 2s\n",
            "325:\tlearn: 0.3147662\ttotal: 59s\tremaining: 2m 1s\n",
            "326:\tlearn: 0.3144567\ttotal: 59.1s\tremaining: 2m 1s\n",
            "327:\tlearn: 0.3142555\ttotal: 59.2s\tremaining: 2m 1s\n",
            "328:\tlearn: 0.3140405\ttotal: 59.3s\tremaining: 2m 1s\n",
            "329:\tlearn: 0.3138449\ttotal: 59.5s\tremaining: 2m\n",
            "330:\tlearn: 0.3136097\ttotal: 59.6s\tremaining: 2m\n",
            "331:\tlearn: 0.3134021\ttotal: 59.7s\tremaining: 2m\n",
            "332:\tlearn: 0.3131821\ttotal: 59.8s\tremaining: 1m 59s\n",
            "333:\tlearn: 0.3130139\ttotal: 59.9s\tremaining: 1m 59s\n",
            "334:\tlearn: 0.3128250\ttotal: 1m\tremaining: 1m 59s\n",
            "335:\tlearn: 0.3125778\ttotal: 1m\tremaining: 1m 58s\n",
            "336:\tlearn: 0.3123061\ttotal: 1m\tremaining: 1m 58s\n",
            "337:\tlearn: 0.3120561\ttotal: 1m\tremaining: 1m 58s\n",
            "338:\tlearn: 0.3117972\ttotal: 1m\tremaining: 1m 58s\n",
            "339:\tlearn: 0.3115498\ttotal: 1m\tremaining: 1m 57s\n",
            "340:\tlearn: 0.3113525\ttotal: 1m\tremaining: 1m 57s\n",
            "341:\tlearn: 0.3111455\ttotal: 1m\tremaining: 1m 57s\n",
            "342:\tlearn: 0.3109546\ttotal: 1m\tremaining: 1m 56s\n",
            "343:\tlearn: 0.3108039\ttotal: 1m 1s\tremaining: 1m 56s\n",
            "344:\tlearn: 0.3106254\ttotal: 1m 1s\tremaining: 1m 56s\n",
            "345:\tlearn: 0.3104483\ttotal: 1m 1s\tremaining: 1m 55s\n",
            "346:\tlearn: 0.3102141\ttotal: 1m 1s\tremaining: 1m 55s\n",
            "347:\tlearn: 0.3100062\ttotal: 1m 1s\tremaining: 1m 55s\n",
            "348:\tlearn: 0.3098221\ttotal: 1m 1s\tremaining: 1m 55s\n",
            "349:\tlearn: 0.3096693\ttotal: 1m 1s\tremaining: 1m 54s\n",
            "350:\tlearn: 0.3094131\ttotal: 1m 1s\tremaining: 1m 54s\n",
            "351:\tlearn: 0.3092159\ttotal: 1m 2s\tremaining: 1m 54s\n",
            "352:\tlearn: 0.3090343\ttotal: 1m 2s\tremaining: 1m 53s\n",
            "353:\tlearn: 0.3087436\ttotal: 1m 2s\tremaining: 1m 53s\n",
            "354:\tlearn: 0.3085006\ttotal: 1m 2s\tremaining: 1m 53s\n",
            "355:\tlearn: 0.3083498\ttotal: 1m 2s\tremaining: 1m 53s\n",
            "356:\tlearn: 0.3081744\ttotal: 1m 2s\tremaining: 1m 52s\n",
            "357:\tlearn: 0.3079227\ttotal: 1m 2s\tremaining: 1m 52s\n",
            "358:\tlearn: 0.3076680\ttotal: 1m 2s\tremaining: 1m 52s\n",
            "359:\tlearn: 0.3073746\ttotal: 1m 3s\tremaining: 1m 52s\n",
            "360:\tlearn: 0.3072190\ttotal: 1m 3s\tremaining: 1m 51s\n",
            "361:\tlearn: 0.3070329\ttotal: 1m 3s\tremaining: 1m 51s\n",
            "362:\tlearn: 0.3068255\ttotal: 1m 3s\tremaining: 1m 51s\n",
            "363:\tlearn: 0.3066364\ttotal: 1m 3s\tremaining: 1m 50s\n",
            "364:\tlearn: 0.3064672\ttotal: 1m 3s\tremaining: 1m 50s\n",
            "365:\tlearn: 0.3062328\ttotal: 1m 3s\tremaining: 1m 50s\n",
            "366:\tlearn: 0.3060857\ttotal: 1m 3s\tremaining: 1m 50s\n",
            "367:\tlearn: 0.3058984\ttotal: 1m 3s\tremaining: 1m 49s\n",
            "368:\tlearn: 0.3057896\ttotal: 1m 4s\tremaining: 1m 49s\n",
            "369:\tlearn: 0.3055823\ttotal: 1m 4s\tremaining: 1m 49s\n",
            "370:\tlearn: 0.3053526\ttotal: 1m 4s\tremaining: 1m 49s\n",
            "371:\tlearn: 0.3050960\ttotal: 1m 4s\tremaining: 1m 48s\n",
            "372:\tlearn: 0.3049089\ttotal: 1m 4s\tremaining: 1m 48s\n",
            "373:\tlearn: 0.3047553\ttotal: 1m 4s\tremaining: 1m 48s\n",
            "374:\tlearn: 0.3045293\ttotal: 1m 4s\tremaining: 1m 48s\n",
            "375:\tlearn: 0.3043359\ttotal: 1m 4s\tremaining: 1m 47s\n",
            "376:\tlearn: 0.3041183\ttotal: 1m 5s\tremaining: 1m 47s\n",
            "377:\tlearn: 0.3039330\ttotal: 1m 5s\tremaining: 1m 47s\n",
            "378:\tlearn: 0.3036641\ttotal: 1m 5s\tremaining: 1m 47s\n",
            "379:\tlearn: 0.3034238\ttotal: 1m 5s\tremaining: 1m 46s\n",
            "380:\tlearn: 0.3032608\ttotal: 1m 5s\tremaining: 1m 46s\n",
            "381:\tlearn: 0.3030618\ttotal: 1m 5s\tremaining: 1m 46s\n",
            "382:\tlearn: 0.3028347\ttotal: 1m 5s\tremaining: 1m 46s\n",
            "383:\tlearn: 0.3025593\ttotal: 1m 5s\tremaining: 1m 45s\n",
            "384:\tlearn: 0.3023452\ttotal: 1m 6s\tremaining: 1m 45s\n",
            "385:\tlearn: 0.3021490\ttotal: 1m 6s\tremaining: 1m 45s\n",
            "386:\tlearn: 0.3019952\ttotal: 1m 6s\tremaining: 1m 45s\n",
            "387:\tlearn: 0.3017618\ttotal: 1m 6s\tremaining: 1m 44s\n",
            "388:\tlearn: 0.3015478\ttotal: 1m 6s\tremaining: 1m 44s\n",
            "389:\tlearn: 0.3013681\ttotal: 1m 6s\tremaining: 1m 44s\n",
            "390:\tlearn: 0.3011843\ttotal: 1m 6s\tremaining: 1m 44s\n",
            "391:\tlearn: 0.3009161\ttotal: 1m 6s\tremaining: 1m 43s\n",
            "392:\tlearn: 0.3007045\ttotal: 1m 7s\tremaining: 1m 43s\n",
            "393:\tlearn: 0.3003281\ttotal: 1m 7s\tremaining: 1m 43s\n",
            "394:\tlearn: 0.3001139\ttotal: 1m 7s\tremaining: 1m 43s\n",
            "395:\tlearn: 0.2998550\ttotal: 1m 7s\tremaining: 1m 42s\n",
            "396:\tlearn: 0.2995971\ttotal: 1m 7s\tremaining: 1m 42s\n",
            "397:\tlearn: 0.2993894\ttotal: 1m 7s\tremaining: 1m 42s\n",
            "398:\tlearn: 0.2991532\ttotal: 1m 7s\tremaining: 1m 42s\n",
            "399:\tlearn: 0.2990053\ttotal: 1m 7s\tremaining: 1m 41s\n",
            "400:\tlearn: 0.2988370\ttotal: 1m 7s\tremaining: 1m 41s\n",
            "401:\tlearn: 0.2987186\ttotal: 1m 8s\tremaining: 1m 41s\n",
            "402:\tlearn: 0.2985820\ttotal: 1m 8s\tremaining: 1m 41s\n",
            "403:\tlearn: 0.2983701\ttotal: 1m 8s\tremaining: 1m 40s\n",
            "404:\tlearn: 0.2982247\ttotal: 1m 8s\tremaining: 1m 40s\n",
            "405:\tlearn: 0.2981033\ttotal: 1m 8s\tremaining: 1m 40s\n",
            "406:\tlearn: 0.2978991\ttotal: 1m 8s\tremaining: 1m 40s\n",
            "407:\tlearn: 0.2977499\ttotal: 1m 8s\tremaining: 1m 39s\n",
            "408:\tlearn: 0.2976261\ttotal: 1m 8s\tremaining: 1m 39s\n",
            "409:\tlearn: 0.2973527\ttotal: 1m 9s\tremaining: 1m 39s\n",
            "410:\tlearn: 0.2971300\ttotal: 1m 9s\tremaining: 1m 39s\n",
            "411:\tlearn: 0.2970051\ttotal: 1m 9s\tremaining: 1m 38s\n",
            "412:\tlearn: 0.2968188\ttotal: 1m 9s\tremaining: 1m 38s\n",
            "413:\tlearn: 0.2966375\ttotal: 1m 9s\tremaining: 1m 38s\n",
            "414:\tlearn: 0.2964300\ttotal: 1m 9s\tremaining: 1m 38s\n",
            "415:\tlearn: 0.2962753\ttotal: 1m 9s\tremaining: 1m 37s\n",
            "416:\tlearn: 0.2960986\ttotal: 1m 9s\tremaining: 1m 37s\n",
            "417:\tlearn: 0.2959204\ttotal: 1m 10s\tremaining: 1m 37s\n",
            "418:\tlearn: 0.2957955\ttotal: 1m 10s\tremaining: 1m 37s\n",
            "419:\tlearn: 0.2956093\ttotal: 1m 10s\tremaining: 1m 37s\n",
            "420:\tlearn: 0.2953788\ttotal: 1m 10s\tremaining: 1m 36s\n",
            "421:\tlearn: 0.2951586\ttotal: 1m 10s\tremaining: 1m 36s\n",
            "422:\tlearn: 0.2949700\ttotal: 1m 10s\tremaining: 1m 36s\n",
            "423:\tlearn: 0.2948036\ttotal: 1m 10s\tremaining: 1m 36s\n",
            "424:\tlearn: 0.2946587\ttotal: 1m 10s\tremaining: 1m 35s\n",
            "425:\tlearn: 0.2944513\ttotal: 1m 11s\tremaining: 1m 35s\n",
            "426:\tlearn: 0.2942725\ttotal: 1m 11s\tremaining: 1m 35s\n",
            "427:\tlearn: 0.2940721\ttotal: 1m 11s\tremaining: 1m 35s\n",
            "428:\tlearn: 0.2939511\ttotal: 1m 11s\tremaining: 1m 34s\n",
            "429:\tlearn: 0.2937275\ttotal: 1m 11s\tremaining: 1m 34s\n",
            "430:\tlearn: 0.2935376\ttotal: 1m 11s\tremaining: 1m 34s\n",
            "431:\tlearn: 0.2933004\ttotal: 1m 11s\tremaining: 1m 34s\n",
            "432:\tlearn: 0.2931168\ttotal: 1m 11s\tremaining: 1m 34s\n",
            "433:\tlearn: 0.2929918\ttotal: 1m 11s\tremaining: 1m 33s\n",
            "434:\tlearn: 0.2928737\ttotal: 1m 12s\tremaining: 1m 33s\n",
            "435:\tlearn: 0.2926298\ttotal: 1m 12s\tremaining: 1m 33s\n",
            "436:\tlearn: 0.2924833\ttotal: 1m 12s\tremaining: 1m 33s\n",
            "437:\tlearn: 0.2923708\ttotal: 1m 12s\tremaining: 1m 32s\n",
            "438:\tlearn: 0.2921368\ttotal: 1m 12s\tremaining: 1m 32s\n",
            "439:\tlearn: 0.2920197\ttotal: 1m 12s\tremaining: 1m 32s\n",
            "440:\tlearn: 0.2917925\ttotal: 1m 12s\tremaining: 1m 32s\n",
            "441:\tlearn: 0.2916011\ttotal: 1m 12s\tremaining: 1m 32s\n",
            "442:\tlearn: 0.2914087\ttotal: 1m 13s\tremaining: 1m 31s\n",
            "443:\tlearn: 0.2911285\ttotal: 1m 13s\tremaining: 1m 31s\n",
            "444:\tlearn: 0.2908925\ttotal: 1m 13s\tremaining: 1m 31s\n",
            "445:\tlearn: 0.2907780\ttotal: 1m 13s\tremaining: 1m 31s\n",
            "446:\tlearn: 0.2906262\ttotal: 1m 13s\tremaining: 1m 30s\n",
            "447:\tlearn: 0.2903588\ttotal: 1m 13s\tremaining: 1m 30s\n",
            "448:\tlearn: 0.2900817\ttotal: 1m 13s\tremaining: 1m 30s\n",
            "449:\tlearn: 0.2898352\ttotal: 1m 13s\tremaining: 1m 30s\n",
            "450:\tlearn: 0.2895914\ttotal: 1m 14s\tremaining: 1m 30s\n",
            "451:\tlearn: 0.2893457\ttotal: 1m 14s\tremaining: 1m 29s\n",
            "452:\tlearn: 0.2892481\ttotal: 1m 14s\tremaining: 1m 29s\n",
            "453:\tlearn: 0.2890231\ttotal: 1m 14s\tremaining: 1m 29s\n",
            "454:\tlearn: 0.2888481\ttotal: 1m 14s\tremaining: 1m 29s\n",
            "455:\tlearn: 0.2886055\ttotal: 1m 14s\tremaining: 1m 29s\n",
            "456:\tlearn: 0.2885062\ttotal: 1m 14s\tremaining: 1m 28s\n",
            "457:\tlearn: 0.2883612\ttotal: 1m 14s\tremaining: 1m 28s\n",
            "458:\tlearn: 0.2882174\ttotal: 1m 14s\tremaining: 1m 28s\n",
            "459:\tlearn: 0.2879731\ttotal: 1m 15s\tremaining: 1m 28s\n",
            "460:\tlearn: 0.2878171\ttotal: 1m 15s\tremaining: 1m 27s\n",
            "461:\tlearn: 0.2875774\ttotal: 1m 15s\tremaining: 1m 27s\n",
            "462:\tlearn: 0.2874069\ttotal: 1m 15s\tremaining: 1m 27s\n",
            "463:\tlearn: 0.2872463\ttotal: 1m 15s\tremaining: 1m 27s\n",
            "464:\tlearn: 0.2869777\ttotal: 1m 15s\tremaining: 1m 27s\n",
            "465:\tlearn: 0.2868768\ttotal: 1m 15s\tremaining: 1m 26s\n",
            "466:\tlearn: 0.2867791\ttotal: 1m 15s\tremaining: 1m 26s\n",
            "467:\tlearn: 0.2866737\ttotal: 1m 16s\tremaining: 1m 26s\n",
            "468:\tlearn: 0.2864948\ttotal: 1m 16s\tremaining: 1m 26s\n",
            "469:\tlearn: 0.2862839\ttotal: 1m 16s\tremaining: 1m 26s\n",
            "470:\tlearn: 0.2861640\ttotal: 1m 16s\tremaining: 1m 25s\n",
            "471:\tlearn: 0.2860339\ttotal: 1m 16s\tremaining: 1m 25s\n",
            "472:\tlearn: 0.2858663\ttotal: 1m 16s\tremaining: 1m 25s\n",
            "473:\tlearn: 0.2857701\ttotal: 1m 16s\tremaining: 1m 25s\n",
            "474:\tlearn: 0.2856219\ttotal: 1m 16s\tremaining: 1m 24s\n",
            "475:\tlearn: 0.2853412\ttotal: 1m 17s\tremaining: 1m 24s\n",
            "476:\tlearn: 0.2852417\ttotal: 1m 17s\tremaining: 1m 24s\n",
            "477:\tlearn: 0.2850632\ttotal: 1m 17s\tremaining: 1m 24s\n",
            "478:\tlearn: 0.2849130\ttotal: 1m 17s\tremaining: 1m 24s\n",
            "479:\tlearn: 0.2846817\ttotal: 1m 17s\tremaining: 1m 23s\n",
            "480:\tlearn: 0.2845745\ttotal: 1m 17s\tremaining: 1m 23s\n",
            "481:\tlearn: 0.2843331\ttotal: 1m 17s\tremaining: 1m 23s\n",
            "482:\tlearn: 0.2841210\ttotal: 1m 17s\tremaining: 1m 23s\n",
            "483:\tlearn: 0.2840071\ttotal: 1m 17s\tremaining: 1m 23s\n",
            "484:\tlearn: 0.2839009\ttotal: 1m 18s\tremaining: 1m 22s\n",
            "485:\tlearn: 0.2837392\ttotal: 1m 18s\tremaining: 1m 22s\n",
            "486:\tlearn: 0.2835817\ttotal: 1m 18s\tremaining: 1m 22s\n",
            "487:\tlearn: 0.2833744\ttotal: 1m 18s\tremaining: 1m 22s\n",
            "488:\tlearn: 0.2831928\ttotal: 1m 18s\tremaining: 1m 22s\n",
            "489:\tlearn: 0.2830853\ttotal: 1m 18s\tremaining: 1m 21s\n",
            "490:\tlearn: 0.2828288\ttotal: 1m 18s\tremaining: 1m 21s\n",
            "491:\tlearn: 0.2826035\ttotal: 1m 18s\tremaining: 1m 21s\n",
            "492:\tlearn: 0.2825140\ttotal: 1m 19s\tremaining: 1m 21s\n",
            "493:\tlearn: 0.2823672\ttotal: 1m 19s\tremaining: 1m 21s\n",
            "494:\tlearn: 0.2822818\ttotal: 1m 19s\tremaining: 1m 20s\n",
            "495:\tlearn: 0.2821920\ttotal: 1m 19s\tremaining: 1m 20s\n",
            "496:\tlearn: 0.2821092\ttotal: 1m 19s\tremaining: 1m 20s\n",
            "497:\tlearn: 0.2819093\ttotal: 1m 19s\tremaining: 1m 20s\n",
            "498:\tlearn: 0.2817178\ttotal: 1m 19s\tremaining: 1m 20s\n",
            "499:\tlearn: 0.2814339\ttotal: 1m 19s\tremaining: 1m 19s\n",
            "500:\tlearn: 0.2811607\ttotal: 1m 20s\tremaining: 1m 19s\n",
            "501:\tlearn: 0.2809205\ttotal: 1m 20s\tremaining: 1m 19s\n",
            "502:\tlearn: 0.2807002\ttotal: 1m 20s\tremaining: 1m 19s\n",
            "503:\tlearn: 0.2804058\ttotal: 1m 20s\tremaining: 1m 19s\n",
            "504:\tlearn: 0.2801751\ttotal: 1m 20s\tremaining: 1m 18s\n",
            "505:\tlearn: 0.2799985\ttotal: 1m 20s\tremaining: 1m 18s\n",
            "506:\tlearn: 0.2797560\ttotal: 1m 20s\tremaining: 1m 18s\n",
            "507:\tlearn: 0.2795305\ttotal: 1m 20s\tremaining: 1m 18s\n",
            "508:\tlearn: 0.2794149\ttotal: 1m 20s\tremaining: 1m 18s\n",
            "509:\tlearn: 0.2792930\ttotal: 1m 21s\tremaining: 1m 17s\n",
            "510:\tlearn: 0.2790545\ttotal: 1m 21s\tremaining: 1m 17s\n",
            "511:\tlearn: 0.2788527\ttotal: 1m 21s\tremaining: 1m 17s\n",
            "512:\tlearn: 0.2786322\ttotal: 1m 21s\tremaining: 1m 17s\n",
            "513:\tlearn: 0.2785013\ttotal: 1m 21s\tremaining: 1m 17s\n",
            "514:\tlearn: 0.2782397\ttotal: 1m 21s\tremaining: 1m 16s\n",
            "515:\tlearn: 0.2779436\ttotal: 1m 21s\tremaining: 1m 16s\n",
            "516:\tlearn: 0.2777772\ttotal: 1m 21s\tremaining: 1m 16s\n",
            "517:\tlearn: 0.2775528\ttotal: 1m 22s\tremaining: 1m 16s\n",
            "518:\tlearn: 0.2774499\ttotal: 1m 22s\tremaining: 1m 16s\n",
            "519:\tlearn: 0.2772193\ttotal: 1m 22s\tremaining: 1m 15s\n",
            "520:\tlearn: 0.2770023\ttotal: 1m 22s\tremaining: 1m 15s\n",
            "521:\tlearn: 0.2768993\ttotal: 1m 22s\tremaining: 1m 15s\n",
            "522:\tlearn: 0.2766551\ttotal: 1m 22s\tremaining: 1m 15s\n",
            "523:\tlearn: 0.2764244\ttotal: 1m 22s\tremaining: 1m 15s\n",
            "524:\tlearn: 0.2761609\ttotal: 1m 22s\tremaining: 1m 15s\n",
            "525:\tlearn: 0.2760705\ttotal: 1m 23s\tremaining: 1m 14s\n",
            "526:\tlearn: 0.2758365\ttotal: 1m 23s\tremaining: 1m 14s\n",
            "527:\tlearn: 0.2757041\ttotal: 1m 23s\tremaining: 1m 14s\n",
            "528:\tlearn: 0.2755979\ttotal: 1m 23s\tremaining: 1m 14s\n",
            "529:\tlearn: 0.2755178\ttotal: 1m 23s\tremaining: 1m 14s\n",
            "530:\tlearn: 0.2753617\ttotal: 1m 23s\tremaining: 1m 13s\n",
            "531:\tlearn: 0.2751290\ttotal: 1m 23s\tremaining: 1m 13s\n",
            "532:\tlearn: 0.2750405\ttotal: 1m 23s\tremaining: 1m 13s\n",
            "533:\tlearn: 0.2748354\ttotal: 1m 23s\tremaining: 1m 13s\n",
            "534:\tlearn: 0.2746123\ttotal: 1m 24s\tremaining: 1m 13s\n",
            "535:\tlearn: 0.2745138\ttotal: 1m 24s\tremaining: 1m 12s\n",
            "536:\tlearn: 0.2744142\ttotal: 1m 24s\tremaining: 1m 12s\n",
            "537:\tlearn: 0.2741689\ttotal: 1m 24s\tremaining: 1m 12s\n",
            "538:\tlearn: 0.2739813\ttotal: 1m 24s\tremaining: 1m 12s\n",
            "539:\tlearn: 0.2737705\ttotal: 1m 24s\tremaining: 1m 12s\n",
            "540:\tlearn: 0.2735075\ttotal: 1m 24s\tremaining: 1m 11s\n",
            "541:\tlearn: 0.2732945\ttotal: 1m 24s\tremaining: 1m 11s\n",
            "542:\tlearn: 0.2730637\ttotal: 1m 25s\tremaining: 1m 11s\n",
            "543:\tlearn: 0.2728361\ttotal: 1m 25s\tremaining: 1m 11s\n",
            "544:\tlearn: 0.2725218\ttotal: 1m 25s\tremaining: 1m 11s\n",
            "545:\tlearn: 0.2723042\ttotal: 1m 25s\tremaining: 1m 11s\n",
            "546:\tlearn: 0.2721074\ttotal: 1m 25s\tremaining: 1m 10s\n",
            "547:\tlearn: 0.2720242\ttotal: 1m 25s\tremaining: 1m 10s\n",
            "548:\tlearn: 0.2717839\ttotal: 1m 25s\tremaining: 1m 10s\n",
            "549:\tlearn: 0.2716856\ttotal: 1m 25s\tremaining: 1m 10s\n",
            "550:\tlearn: 0.2714537\ttotal: 1m 26s\tremaining: 1m 10s\n",
            "551:\tlearn: 0.2712613\ttotal: 1m 26s\tremaining: 1m 9s\n",
            "552:\tlearn: 0.2710315\ttotal: 1m 26s\tremaining: 1m 9s\n",
            "553:\tlearn: 0.2709417\ttotal: 1m 26s\tremaining: 1m 9s\n",
            "554:\tlearn: 0.2707975\ttotal: 1m 26s\tremaining: 1m 9s\n",
            "555:\tlearn: 0.2706565\ttotal: 1m 26s\tremaining: 1m 9s\n",
            "556:\tlearn: 0.2704034\ttotal: 1m 26s\tremaining: 1m 8s\n",
            "557:\tlearn: 0.2703222\ttotal: 1m 26s\tremaining: 1m 8s\n",
            "558:\tlearn: 0.2700880\ttotal: 1m 26s\tremaining: 1m 8s\n",
            "559:\tlearn: 0.2699976\ttotal: 1m 27s\tremaining: 1m 8s\n",
            "560:\tlearn: 0.2698195\ttotal: 1m 27s\tremaining: 1m 8s\n",
            "561:\tlearn: 0.2696192\ttotal: 1m 27s\tremaining: 1m 8s\n",
            "562:\tlearn: 0.2694219\ttotal: 1m 27s\tremaining: 1m 7s\n",
            "563:\tlearn: 0.2693450\ttotal: 1m 27s\tremaining: 1m 7s\n",
            "564:\tlearn: 0.2692066\ttotal: 1m 27s\tremaining: 1m 7s\n",
            "565:\tlearn: 0.2691102\ttotal: 1m 27s\tremaining: 1m 7s\n",
            "566:\tlearn: 0.2689580\ttotal: 1m 27s\tremaining: 1m 7s\n",
            "567:\tlearn: 0.2687568\ttotal: 1m 28s\tremaining: 1m 6s\n",
            "568:\tlearn: 0.2686377\ttotal: 1m 28s\tremaining: 1m 6s\n",
            "569:\tlearn: 0.2685569\ttotal: 1m 28s\tremaining: 1m 6s\n",
            "570:\tlearn: 0.2683760\ttotal: 1m 28s\tremaining: 1m 6s\n",
            "571:\tlearn: 0.2681639\ttotal: 1m 28s\tremaining: 1m 6s\n",
            "572:\tlearn: 0.2680006\ttotal: 1m 28s\tremaining: 1m 6s\n",
            "573:\tlearn: 0.2678829\ttotal: 1m 28s\tremaining: 1m 5s\n",
            "574:\tlearn: 0.2677792\ttotal: 1m 28s\tremaining: 1m 5s\n",
            "575:\tlearn: 0.2675959\ttotal: 1m 29s\tremaining: 1m 5s\n",
            "576:\tlearn: 0.2674554\ttotal: 1m 29s\tremaining: 1m 5s\n",
            "577:\tlearn: 0.2672296\ttotal: 1m 29s\tremaining: 1m 5s\n",
            "578:\tlearn: 0.2671409\ttotal: 1m 29s\tremaining: 1m 5s\n",
            "579:\tlearn: 0.2670617\ttotal: 1m 29s\tremaining: 1m 4s\n",
            "580:\tlearn: 0.2668832\ttotal: 1m 29s\tremaining: 1m 4s\n",
            "581:\tlearn: 0.2666399\ttotal: 1m 29s\tremaining: 1m 4s\n",
            "582:\tlearn: 0.2664829\ttotal: 1m 29s\tremaining: 1m 4s\n",
            "583:\tlearn: 0.2663907\ttotal: 1m 30s\tremaining: 1m 4s\n",
            "584:\tlearn: 0.2661937\ttotal: 1m 30s\tremaining: 1m 3s\n",
            "585:\tlearn: 0.2659988\ttotal: 1m 30s\tremaining: 1m 3s\n",
            "586:\tlearn: 0.2658139\ttotal: 1m 30s\tremaining: 1m 3s\n",
            "587:\tlearn: 0.2655938\ttotal: 1m 30s\tremaining: 1m 3s\n",
            "588:\tlearn: 0.2654441\ttotal: 1m 30s\tremaining: 1m 3s\n",
            "589:\tlearn: 0.2653702\ttotal: 1m 30s\tremaining: 1m 3s\n",
            "590:\tlearn: 0.2651482\ttotal: 1m 30s\tremaining: 1m 2s\n",
            "591:\tlearn: 0.2649287\ttotal: 1m 30s\tremaining: 1m 2s\n",
            "592:\tlearn: 0.2648308\ttotal: 1m 31s\tremaining: 1m 2s\n",
            "593:\tlearn: 0.2645978\ttotal: 1m 31s\tremaining: 1m 2s\n",
            "594:\tlearn: 0.2644874\ttotal: 1m 31s\tremaining: 1m 2s\n",
            "595:\tlearn: 0.2642862\ttotal: 1m 31s\tremaining: 1m 2s\n",
            "596:\tlearn: 0.2642135\ttotal: 1m 31s\tremaining: 1m 1s\n",
            "597:\tlearn: 0.2640562\ttotal: 1m 31s\tremaining: 1m 1s\n",
            "598:\tlearn: 0.2638442\ttotal: 1m 31s\tremaining: 1m 1s\n",
            "599:\tlearn: 0.2636388\ttotal: 1m 31s\tremaining: 1m 1s\n",
            "600:\tlearn: 0.2635496\ttotal: 1m 32s\tremaining: 1m 1s\n",
            "601:\tlearn: 0.2634757\ttotal: 1m 32s\tremaining: 1m\n",
            "602:\tlearn: 0.2632866\ttotal: 1m 32s\tremaining: 1m\n",
            "603:\tlearn: 0.2631564\ttotal: 1m 32s\tremaining: 1m\n",
            "604:\tlearn: 0.2629233\ttotal: 1m 32s\tremaining: 1m\n",
            "605:\tlearn: 0.2628315\ttotal: 1m 32s\tremaining: 1m\n",
            "606:\tlearn: 0.2626339\ttotal: 1m 32s\tremaining: 1m\n",
            "607:\tlearn: 0.2624590\ttotal: 1m 32s\tremaining: 59.9s\n",
            "608:\tlearn: 0.2623744\ttotal: 1m 33s\tremaining: 59.7s\n",
            "609:\tlearn: 0.2622088\ttotal: 1m 33s\tremaining: 59.6s\n",
            "610:\tlearn: 0.2621183\ttotal: 1m 33s\tremaining: 59.4s\n",
            "611:\tlearn: 0.2619795\ttotal: 1m 33s\tremaining: 59.2s\n",
            "612:\tlearn: 0.2618068\ttotal: 1m 33s\tremaining: 59s\n",
            "613:\tlearn: 0.2616263\ttotal: 1m 33s\tremaining: 58.9s\n",
            "614:\tlearn: 0.2614623\ttotal: 1m 33s\tremaining: 58.7s\n",
            "615:\tlearn: 0.2613593\ttotal: 1m 33s\tremaining: 58.5s\n",
            "616:\tlearn: 0.2612891\ttotal: 1m 33s\tremaining: 58.3s\n",
            "617:\tlearn: 0.2611083\ttotal: 1m 34s\tremaining: 58.2s\n",
            "618:\tlearn: 0.2609057\ttotal: 1m 34s\tremaining: 58s\n",
            "619:\tlearn: 0.2608364\ttotal: 1m 34s\tremaining: 57.8s\n",
            "620:\tlearn: 0.2606120\ttotal: 1m 34s\tremaining: 57.6s\n",
            "621:\tlearn: 0.2605414\ttotal: 1m 34s\tremaining: 57.5s\n",
            "622:\tlearn: 0.2602749\ttotal: 1m 34s\tremaining: 57.3s\n",
            "623:\tlearn: 0.2601578\ttotal: 1m 34s\tremaining: 57.1s\n",
            "624:\tlearn: 0.2598782\ttotal: 1m 34s\tremaining: 57s\n",
            "625:\tlearn: 0.2597961\ttotal: 1m 35s\tremaining: 56.8s\n",
            "626:\tlearn: 0.2595675\ttotal: 1m 35s\tremaining: 56.6s\n",
            "627:\tlearn: 0.2594769\ttotal: 1m 35s\tremaining: 56.5s\n",
            "628:\tlearn: 0.2593434\ttotal: 1m 35s\tremaining: 56.3s\n",
            "629:\tlearn: 0.2591439\ttotal: 1m 35s\tremaining: 56.1s\n",
            "630:\tlearn: 0.2590198\ttotal: 1m 35s\tremaining: 55.9s\n",
            "631:\tlearn: 0.2588364\ttotal: 1m 35s\tremaining: 55.8s\n",
            "632:\tlearn: 0.2586855\ttotal: 1m 35s\tremaining: 55.6s\n",
            "633:\tlearn: 0.2585311\ttotal: 1m 36s\tremaining: 55.4s\n",
            "634:\tlearn: 0.2583184\ttotal: 1m 36s\tremaining: 55.3s\n",
            "635:\tlearn: 0.2582262\ttotal: 1m 36s\tremaining: 55.1s\n",
            "636:\tlearn: 0.2580479\ttotal: 1m 36s\tremaining: 54.9s\n",
            "637:\tlearn: 0.2579775\ttotal: 1m 36s\tremaining: 54.8s\n",
            "638:\tlearn: 0.2577649\ttotal: 1m 36s\tremaining: 54.6s\n",
            "639:\tlearn: 0.2576445\ttotal: 1m 36s\tremaining: 54.4s\n",
            "640:\tlearn: 0.2574609\ttotal: 1m 36s\tremaining: 54.2s\n",
            "641:\tlearn: 0.2572811\ttotal: 1m 36s\tremaining: 54.1s\n",
            "642:\tlearn: 0.2570955\ttotal: 1m 37s\tremaining: 53.9s\n",
            "643:\tlearn: 0.2569155\ttotal: 1m 37s\tremaining: 53.7s\n",
            "644:\tlearn: 0.2567458\ttotal: 1m 37s\tremaining: 53.6s\n",
            "645:\tlearn: 0.2566519\ttotal: 1m 37s\tremaining: 53.4s\n",
            "646:\tlearn: 0.2565146\ttotal: 1m 37s\tremaining: 53.2s\n",
            "647:\tlearn: 0.2564286\ttotal: 1m 37s\tremaining: 53.1s\n",
            "648:\tlearn: 0.2562738\ttotal: 1m 37s\tremaining: 52.9s\n",
            "649:\tlearn: 0.2560953\ttotal: 1m 37s\tremaining: 52.7s\n",
            "650:\tlearn: 0.2560312\ttotal: 1m 38s\tremaining: 52.6s\n",
            "651:\tlearn: 0.2558217\ttotal: 1m 38s\tremaining: 52.4s\n",
            "652:\tlearn: 0.2556438\ttotal: 1m 38s\tremaining: 52.2s\n",
            "653:\tlearn: 0.2555785\ttotal: 1m 38s\tremaining: 52.1s\n",
            "654:\tlearn: 0.2555134\ttotal: 1m 38s\tremaining: 51.9s\n",
            "655:\tlearn: 0.2554095\ttotal: 1m 38s\tremaining: 51.7s\n",
            "656:\tlearn: 0.2552904\ttotal: 1m 38s\tremaining: 51.6s\n",
            "657:\tlearn: 0.2551760\ttotal: 1m 38s\tremaining: 51.4s\n",
            "658:\tlearn: 0.2549208\ttotal: 1m 39s\tremaining: 51.2s\n",
            "659:\tlearn: 0.2548359\ttotal: 1m 39s\tremaining: 51.1s\n",
            "660:\tlearn: 0.2547689\ttotal: 1m 39s\tremaining: 50.9s\n",
            "661:\tlearn: 0.2546837\ttotal: 1m 39s\tremaining: 50.8s\n",
            "662:\tlearn: 0.2545799\ttotal: 1m 39s\tremaining: 50.6s\n",
            "663:\tlearn: 0.2544631\ttotal: 1m 39s\tremaining: 50.4s\n",
            "664:\tlearn: 0.2543153\ttotal: 1m 39s\tremaining: 50.3s\n",
            "665:\tlearn: 0.2542478\ttotal: 1m 39s\tremaining: 50.1s\n",
            "666:\tlearn: 0.2540851\ttotal: 1m 40s\tremaining: 49.9s\n",
            "667:\tlearn: 0.2539143\ttotal: 1m 40s\tremaining: 49.8s\n",
            "668:\tlearn: 0.2537684\ttotal: 1m 40s\tremaining: 49.6s\n",
            "669:\tlearn: 0.2536833\ttotal: 1m 40s\tremaining: 49.4s\n",
            "670:\tlearn: 0.2534525\ttotal: 1m 40s\tremaining: 49.3s\n",
            "671:\tlearn: 0.2533870\ttotal: 1m 40s\tremaining: 49.1s\n",
            "672:\tlearn: 0.2531757\ttotal: 1m 40s\tremaining: 48.9s\n",
            "673:\tlearn: 0.2529407\ttotal: 1m 40s\tremaining: 48.8s\n",
            "674:\tlearn: 0.2527777\ttotal: 1m 40s\tremaining: 48.6s\n",
            "675:\tlearn: 0.2526898\ttotal: 1m 41s\tremaining: 48.5s\n",
            "676:\tlearn: 0.2526238\ttotal: 1m 41s\tremaining: 48.3s\n",
            "677:\tlearn: 0.2524980\ttotal: 1m 41s\tremaining: 48.1s\n",
            "678:\tlearn: 0.2523062\ttotal: 1m 41s\tremaining: 48s\n",
            "679:\tlearn: 0.2522240\ttotal: 1m 41s\tremaining: 47.8s\n",
            "680:\tlearn: 0.2520631\ttotal: 1m 41s\tremaining: 47.6s\n",
            "681:\tlearn: 0.2518214\ttotal: 1m 41s\tremaining: 47.5s\n",
            "682:\tlearn: 0.2516304\ttotal: 1m 41s\tremaining: 47.3s\n",
            "683:\tlearn: 0.2515651\ttotal: 1m 42s\tremaining: 47.1s\n",
            "684:\tlearn: 0.2514335\ttotal: 1m 42s\tremaining: 47s\n",
            "685:\tlearn: 0.2512994\ttotal: 1m 42s\tremaining: 46.8s\n",
            "686:\tlearn: 0.2512425\ttotal: 1m 42s\tremaining: 46.7s\n",
            "687:\tlearn: 0.2511520\ttotal: 1m 42s\tremaining: 46.5s\n",
            "688:\tlearn: 0.2510737\ttotal: 1m 42s\tremaining: 46.3s\n",
            "689:\tlearn: 0.2510083\ttotal: 1m 42s\tremaining: 46.2s\n",
            "690:\tlearn: 0.2509142\ttotal: 1m 42s\tremaining: 46s\n",
            "691:\tlearn: 0.2508343\ttotal: 1m 43s\tremaining: 45.9s\n",
            "692:\tlearn: 0.2507194\ttotal: 1m 43s\tremaining: 45.7s\n",
            "693:\tlearn: 0.2506464\ttotal: 1m 43s\tremaining: 45.5s\n",
            "694:\tlearn: 0.2504828\ttotal: 1m 43s\tremaining: 45.4s\n",
            "695:\tlearn: 0.2504174\ttotal: 1m 43s\tremaining: 45.2s\n",
            "696:\tlearn: 0.2502540\ttotal: 1m 43s\tremaining: 45.1s\n",
            "697:\tlearn: 0.2501722\ttotal: 1m 43s\tremaining: 44.9s\n",
            "698:\tlearn: 0.2500451\ttotal: 1m 43s\tremaining: 44.7s\n",
            "699:\tlearn: 0.2499855\ttotal: 1m 44s\tremaining: 44.6s\n",
            "700:\tlearn: 0.2498033\ttotal: 1m 44s\tremaining: 44.4s\n",
            "701:\tlearn: 0.2495871\ttotal: 1m 44s\tremaining: 44.3s\n",
            "702:\tlearn: 0.2494418\ttotal: 1m 44s\tremaining: 44.1s\n",
            "703:\tlearn: 0.2492771\ttotal: 1m 44s\tremaining: 43.9s\n",
            "704:\tlearn: 0.2491384\ttotal: 1m 44s\tremaining: 43.8s\n",
            "705:\tlearn: 0.2490551\ttotal: 1m 44s\tremaining: 43.6s\n",
            "706:\tlearn: 0.2489901\ttotal: 1m 44s\tremaining: 43.5s\n",
            "707:\tlearn: 0.2487816\ttotal: 1m 44s\tremaining: 43.3s\n",
            "708:\tlearn: 0.2486260\ttotal: 1m 45s\tremaining: 43.1s\n",
            "709:\tlearn: 0.2484293\ttotal: 1m 45s\tremaining: 43s\n",
            "710:\tlearn: 0.2483689\ttotal: 1m 45s\tremaining: 42.8s\n",
            "711:\tlearn: 0.2482295\ttotal: 1m 45s\tremaining: 42.7s\n",
            "712:\tlearn: 0.2481717\ttotal: 1m 45s\tremaining: 42.5s\n",
            "713:\tlearn: 0.2480649\ttotal: 1m 45s\tremaining: 42.3s\n",
            "714:\tlearn: 0.2479137\ttotal: 1m 45s\tremaining: 42.2s\n",
            "715:\tlearn: 0.2477861\ttotal: 1m 45s\tremaining: 42s\n",
            "716:\tlearn: 0.2475960\ttotal: 1m 46s\tremaining: 41.9s\n",
            "717:\tlearn: 0.2474703\ttotal: 1m 46s\tremaining: 41.7s\n",
            "718:\tlearn: 0.2474093\ttotal: 1m 46s\tremaining: 41.5s\n",
            "719:\tlearn: 0.2473282\ttotal: 1m 46s\tremaining: 41.4s\n",
            "720:\tlearn: 0.2472381\ttotal: 1m 46s\tremaining: 41.2s\n",
            "721:\tlearn: 0.2470364\ttotal: 1m 46s\tremaining: 41.1s\n",
            "722:\tlearn: 0.2469896\ttotal: 1m 46s\tremaining: 40.9s\n",
            "723:\tlearn: 0.2468218\ttotal: 1m 46s\tremaining: 40.8s\n",
            "724:\tlearn: 0.2467355\ttotal: 1m 47s\tremaining: 40.6s\n",
            "725:\tlearn: 0.2465693\ttotal: 1m 47s\tremaining: 40.4s\n",
            "726:\tlearn: 0.2463905\ttotal: 1m 47s\tremaining: 40.3s\n",
            "727:\tlearn: 0.2463113\ttotal: 1m 47s\tremaining: 40.1s\n",
            "728:\tlearn: 0.2461400\ttotal: 1m 47s\tremaining: 40s\n",
            "729:\tlearn: 0.2460595\ttotal: 1m 47s\tremaining: 39.8s\n",
            "730:\tlearn: 0.2459998\ttotal: 1m 47s\tremaining: 39.7s\n",
            "731:\tlearn: 0.2459535\ttotal: 1m 47s\tremaining: 39.5s\n",
            "732:\tlearn: 0.2457853\ttotal: 1m 48s\tremaining: 39.3s\n",
            "733:\tlearn: 0.2456305\ttotal: 1m 48s\tremaining: 39.2s\n",
            "734:\tlearn: 0.2455136\ttotal: 1m 48s\tremaining: 39s\n",
            "735:\tlearn: 0.2452958\ttotal: 1m 48s\tremaining: 38.9s\n",
            "736:\tlearn: 0.2451598\ttotal: 1m 48s\tremaining: 38.7s\n",
            "737:\tlearn: 0.2450993\ttotal: 1m 48s\tremaining: 38.6s\n",
            "738:\tlearn: 0.2449187\ttotal: 1m 48s\tremaining: 38.4s\n",
            "739:\tlearn: 0.2448731\ttotal: 1m 48s\tremaining: 38.2s\n",
            "740:\tlearn: 0.2446803\ttotal: 1m 48s\tremaining: 38.1s\n",
            "741:\tlearn: 0.2445901\ttotal: 1m 49s\tremaining: 37.9s\n",
            "742:\tlearn: 0.2445048\ttotal: 1m 49s\tremaining: 37.8s\n",
            "743:\tlearn: 0.2444378\ttotal: 1m 49s\tremaining: 37.6s\n",
            "744:\tlearn: 0.2442385\ttotal: 1m 49s\tremaining: 37.5s\n",
            "745:\tlearn: 0.2441791\ttotal: 1m 49s\tremaining: 37.3s\n",
            "746:\tlearn: 0.2439952\ttotal: 1m 49s\tremaining: 37.2s\n",
            "747:\tlearn: 0.2439507\ttotal: 1m 49s\tremaining: 37s\n",
            "748:\tlearn: 0.2437991\ttotal: 1m 49s\tremaining: 36.9s\n",
            "749:\tlearn: 0.2436622\ttotal: 1m 50s\tremaining: 36.7s\n",
            "750:\tlearn: 0.2436046\ttotal: 1m 50s\tremaining: 36.5s\n",
            "751:\tlearn: 0.2435272\ttotal: 1m 50s\tremaining: 36.4s\n",
            "752:\tlearn: 0.2434075\ttotal: 1m 50s\tremaining: 36.2s\n",
            "753:\tlearn: 0.2432701\ttotal: 1m 50s\tremaining: 36.1s\n",
            "754:\tlearn: 0.2431499\ttotal: 1m 50s\tremaining: 35.9s\n",
            "755:\tlearn: 0.2430545\ttotal: 1m 50s\tremaining: 35.8s\n",
            "756:\tlearn: 0.2428956\ttotal: 1m 50s\tremaining: 35.6s\n",
            "757:\tlearn: 0.2427113\ttotal: 1m 51s\tremaining: 35.5s\n",
            "758:\tlearn: 0.2425529\ttotal: 1m 51s\tremaining: 35.3s\n",
            "759:\tlearn: 0.2423717\ttotal: 1m 51s\tremaining: 35.1s\n",
            "760:\tlearn: 0.2422041\ttotal: 1m 51s\tremaining: 35s\n",
            "761:\tlearn: 0.2421599\ttotal: 1m 51s\tremaining: 34.8s\n",
            "762:\tlearn: 0.2421163\ttotal: 1m 51s\tremaining: 34.7s\n",
            "763:\tlearn: 0.2419493\ttotal: 1m 51s\tremaining: 34.5s\n",
            "764:\tlearn: 0.2418894\ttotal: 1m 51s\tremaining: 34.4s\n",
            "765:\tlearn: 0.2418459\ttotal: 1m 52s\tremaining: 34.2s\n",
            "766:\tlearn: 0.2417918\ttotal: 1m 52s\tremaining: 34.1s\n",
            "767:\tlearn: 0.2417161\ttotal: 1m 52s\tremaining: 33.9s\n",
            "768:\tlearn: 0.2416585\ttotal: 1m 52s\tremaining: 33.8s\n",
            "769:\tlearn: 0.2415572\ttotal: 1m 52s\tremaining: 33.6s\n",
            "770:\tlearn: 0.2414049\ttotal: 1m 52s\tremaining: 33.4s\n",
            "771:\tlearn: 0.2412170\ttotal: 1m 52s\tremaining: 33.3s\n",
            "772:\tlearn: 0.2411745\ttotal: 1m 52s\tremaining: 33.1s\n",
            "773:\tlearn: 0.2410370\ttotal: 1m 52s\tremaining: 33s\n",
            "774:\tlearn: 0.2409959\ttotal: 1m 53s\tremaining: 32.8s\n",
            "775:\tlearn: 0.2408369\ttotal: 1m 53s\tremaining: 32.7s\n",
            "776:\tlearn: 0.2407742\ttotal: 1m 53s\tremaining: 32.5s\n",
            "777:\tlearn: 0.2406163\ttotal: 1m 53s\tremaining: 32.4s\n",
            "778:\tlearn: 0.2405544\ttotal: 1m 53s\tremaining: 32.2s\n",
            "779:\tlearn: 0.2405123\ttotal: 1m 53s\tremaining: 32.1s\n",
            "780:\tlearn: 0.2404580\ttotal: 1m 53s\tremaining: 31.9s\n",
            "781:\tlearn: 0.2403531\ttotal: 1m 53s\tremaining: 31.8s\n",
            "782:\tlearn: 0.2402932\ttotal: 1m 54s\tremaining: 31.6s\n",
            "783:\tlearn: 0.2402321\ttotal: 1m 54s\tremaining: 31.5s\n",
            "784:\tlearn: 0.2400860\ttotal: 1m 54s\tremaining: 31.3s\n",
            "785:\tlearn: 0.2399126\ttotal: 1m 54s\tremaining: 31.2s\n",
            "786:\tlearn: 0.2398373\ttotal: 1m 54s\tremaining: 31s\n",
            "787:\tlearn: 0.2397746\ttotal: 1m 54s\tremaining: 30.9s\n",
            "788:\tlearn: 0.2395874\ttotal: 1m 54s\tremaining: 30.7s\n",
            "789:\tlearn: 0.2395129\ttotal: 1m 54s\tremaining: 30.5s\n",
            "790:\tlearn: 0.2392890\ttotal: 1m 55s\tremaining: 30.4s\n",
            "791:\tlearn: 0.2392472\ttotal: 1m 55s\tremaining: 30.2s\n",
            "792:\tlearn: 0.2390733\ttotal: 1m 55s\tremaining: 30.1s\n",
            "793:\tlearn: 0.2389618\ttotal: 1m 55s\tremaining: 29.9s\n",
            "794:\tlearn: 0.2388163\ttotal: 1m 55s\tremaining: 29.8s\n",
            "795:\tlearn: 0.2387635\ttotal: 1m 55s\tremaining: 29.6s\n",
            "796:\tlearn: 0.2386811\ttotal: 1m 55s\tremaining: 29.5s\n",
            "797:\tlearn: 0.2385567\ttotal: 1m 55s\tremaining: 29.3s\n",
            "798:\tlearn: 0.2385037\ttotal: 1m 55s\tremaining: 29.2s\n",
            "799:\tlearn: 0.2384624\ttotal: 1m 56s\tremaining: 29s\n",
            "800:\tlearn: 0.2384038\ttotal: 1m 56s\tremaining: 28.9s\n",
            "801:\tlearn: 0.2382759\ttotal: 1m 56s\tremaining: 28.7s\n",
            "802:\tlearn: 0.2381944\ttotal: 1m 56s\tremaining: 28.6s\n",
            "803:\tlearn: 0.2380456\ttotal: 1m 56s\tremaining: 28.4s\n",
            "804:\tlearn: 0.2380076\ttotal: 1m 56s\tremaining: 28.3s\n",
            "805:\tlearn: 0.2378728\ttotal: 1m 56s\tremaining: 28.1s\n",
            "806:\tlearn: 0.2377149\ttotal: 1m 56s\tremaining: 28s\n",
            "807:\tlearn: 0.2376743\ttotal: 1m 57s\tremaining: 27.8s\n",
            "808:\tlearn: 0.2376163\ttotal: 1m 57s\tremaining: 27.7s\n",
            "809:\tlearn: 0.2375603\ttotal: 1m 57s\tremaining: 27.5s\n",
            "810:\tlearn: 0.2374514\ttotal: 1m 57s\tremaining: 27.4s\n",
            "811:\tlearn: 0.2373811\ttotal: 1m 57s\tremaining: 27.2s\n",
            "812:\tlearn: 0.2373055\ttotal: 1m 57s\tremaining: 27.1s\n",
            "813:\tlearn: 0.2371830\ttotal: 1m 57s\tremaining: 26.9s\n",
            "814:\tlearn: 0.2371288\ttotal: 1m 57s\tremaining: 26.8s\n",
            "815:\tlearn: 0.2369809\ttotal: 1m 58s\tremaining: 26.6s\n",
            "816:\tlearn: 0.2368383\ttotal: 1m 58s\tremaining: 26.5s\n",
            "817:\tlearn: 0.2367980\ttotal: 1m 58s\tremaining: 26.3s\n",
            "818:\tlearn: 0.2367415\ttotal: 1m 58s\tremaining: 26.2s\n",
            "819:\tlearn: 0.2365845\ttotal: 1m 58s\tremaining: 26s\n",
            "820:\tlearn: 0.2364917\ttotal: 1m 58s\tremaining: 25.9s\n",
            "821:\tlearn: 0.2363467\ttotal: 1m 58s\tremaining: 25.7s\n",
            "822:\tlearn: 0.2362311\ttotal: 1m 58s\tremaining: 25.6s\n",
            "823:\tlearn: 0.2361580\ttotal: 1m 59s\tremaining: 25.4s\n",
            "824:\tlearn: 0.2360145\ttotal: 1m 59s\tremaining: 25.3s\n",
            "825:\tlearn: 0.2359436\ttotal: 1m 59s\tremaining: 25.1s\n",
            "826:\tlearn: 0.2357277\ttotal: 1m 59s\tremaining: 25s\n",
            "827:\tlearn: 0.2355577\ttotal: 1m 59s\tremaining: 24.8s\n",
            "828:\tlearn: 0.2355021\ttotal: 1m 59s\tremaining: 24.7s\n",
            "829:\tlearn: 0.2353757\ttotal: 1m 59s\tremaining: 24.5s\n",
            "830:\tlearn: 0.2353232\ttotal: 1m 59s\tremaining: 24.4s\n",
            "831:\tlearn: 0.2350942\ttotal: 2m\tremaining: 24.2s\n",
            "832:\tlearn: 0.2350415\ttotal: 2m\tremaining: 24.1s\n",
            "833:\tlearn: 0.2349706\ttotal: 2m\tremaining: 23.9s\n",
            "834:\tlearn: 0.2349306\ttotal: 2m\tremaining: 23.8s\n",
            "835:\tlearn: 0.2348762\ttotal: 2m\tremaining: 23.6s\n",
            "836:\tlearn: 0.2347314\ttotal: 2m\tremaining: 23.5s\n",
            "837:\tlearn: 0.2346603\ttotal: 2m\tremaining: 23.3s\n",
            "838:\tlearn: 0.2344858\ttotal: 2m\tremaining: 23.2s\n",
            "839:\tlearn: 0.2343663\ttotal: 2m\tremaining: 23s\n",
            "840:\tlearn: 0.2342422\ttotal: 2m 1s\tremaining: 22.9s\n",
            "841:\tlearn: 0.2341557\ttotal: 2m 1s\tremaining: 22.7s\n",
            "842:\tlearn: 0.2339431\ttotal: 2m 1s\tremaining: 22.6s\n",
            "843:\tlearn: 0.2338827\ttotal: 2m 1s\tremaining: 22.4s\n",
            "844:\tlearn: 0.2337996\ttotal: 2m 1s\tremaining: 22.3s\n",
            "845:\tlearn: 0.2337300\ttotal: 2m 1s\tremaining: 22.1s\n",
            "846:\tlearn: 0.2335605\ttotal: 2m 1s\tremaining: 22s\n",
            "847:\tlearn: 0.2335207\ttotal: 2m 1s\tremaining: 21.9s\n",
            "848:\tlearn: 0.2333765\ttotal: 2m 2s\tremaining: 21.7s\n",
            "849:\tlearn: 0.2333374\ttotal: 2m 2s\tremaining: 21.6s\n",
            "850:\tlearn: 0.2332820\ttotal: 2m 2s\tremaining: 21.4s\n",
            "851:\tlearn: 0.2331158\ttotal: 2m 2s\tremaining: 21.3s\n",
            "852:\tlearn: 0.2329343\ttotal: 2m 2s\tremaining: 21.1s\n",
            "853:\tlearn: 0.2328370\ttotal: 2m 2s\tremaining: 21s\n",
            "854:\tlearn: 0.2327861\ttotal: 2m 2s\tremaining: 20.8s\n",
            "855:\tlearn: 0.2326805\ttotal: 2m 2s\tremaining: 20.7s\n",
            "856:\tlearn: 0.2325130\ttotal: 2m 3s\tremaining: 20.5s\n",
            "857:\tlearn: 0.2324430\ttotal: 2m 3s\tremaining: 20.4s\n",
            "858:\tlearn: 0.2323890\ttotal: 2m 3s\tremaining: 20.2s\n",
            "859:\tlearn: 0.2322438\ttotal: 2m 3s\tremaining: 20.1s\n",
            "860:\tlearn: 0.2322045\ttotal: 2m 3s\tremaining: 19.9s\n",
            "861:\tlearn: 0.2320783\ttotal: 2m 3s\tremaining: 19.8s\n",
            "862:\tlearn: 0.2319404\ttotal: 2m 3s\tremaining: 19.6s\n",
            "863:\tlearn: 0.2318893\ttotal: 2m 3s\tremaining: 19.5s\n",
            "864:\tlearn: 0.2317290\ttotal: 2m 3s\tremaining: 19.3s\n",
            "865:\tlearn: 0.2316197\ttotal: 2m 4s\tremaining: 19.2s\n",
            "866:\tlearn: 0.2314434\ttotal: 2m 4s\tremaining: 19.1s\n",
            "867:\tlearn: 0.2314058\ttotal: 2m 4s\tremaining: 18.9s\n",
            "868:\tlearn: 0.2313396\ttotal: 2m 4s\tremaining: 18.8s\n",
            "869:\tlearn: 0.2312389\ttotal: 2m 4s\tremaining: 18.6s\n",
            "870:\tlearn: 0.2310727\ttotal: 2m 4s\tremaining: 18.5s\n",
            "871:\tlearn: 0.2310339\ttotal: 2m 4s\tremaining: 18.3s\n",
            "872:\tlearn: 0.2309188\ttotal: 2m 4s\tremaining: 18.2s\n",
            "873:\tlearn: 0.2308804\ttotal: 2m 5s\tremaining: 18s\n",
            "874:\tlearn: 0.2307300\ttotal: 2m 5s\tremaining: 17.9s\n",
            "875:\tlearn: 0.2306672\ttotal: 2m 5s\tremaining: 17.7s\n",
            "876:\tlearn: 0.2306018\ttotal: 2m 5s\tremaining: 17.6s\n",
            "877:\tlearn: 0.2305206\ttotal: 2m 5s\tremaining: 17.4s\n",
            "878:\tlearn: 0.2304445\ttotal: 2m 5s\tremaining: 17.3s\n",
            "879:\tlearn: 0.2302861\ttotal: 2m 5s\tremaining: 17.1s\n",
            "880:\tlearn: 0.2302479\ttotal: 2m 5s\tremaining: 17s\n",
            "881:\tlearn: 0.2301940\ttotal: 2m 6s\tremaining: 16.9s\n",
            "882:\tlearn: 0.2301558\ttotal: 2m 6s\tremaining: 16.7s\n",
            "883:\tlearn: 0.2300048\ttotal: 2m 6s\tremaining: 16.6s\n",
            "884:\tlearn: 0.2299236\ttotal: 2m 6s\tremaining: 16.4s\n",
            "885:\tlearn: 0.2297942\ttotal: 2m 6s\tremaining: 16.3s\n",
            "886:\tlearn: 0.2297564\ttotal: 2m 6s\tremaining: 16.1s\n",
            "887:\tlearn: 0.2296084\ttotal: 2m 6s\tremaining: 16s\n",
            "888:\tlearn: 0.2295459\ttotal: 2m 6s\tremaining: 15.8s\n",
            "889:\tlearn: 0.2294500\ttotal: 2m 6s\tremaining: 15.7s\n",
            "890:\tlearn: 0.2293960\ttotal: 2m 7s\tremaining: 15.5s\n",
            "891:\tlearn: 0.2292686\ttotal: 2m 7s\tremaining: 15.4s\n",
            "892:\tlearn: 0.2292309\ttotal: 2m 7s\tremaining: 15.3s\n",
            "893:\tlearn: 0.2291337\ttotal: 2m 7s\tremaining: 15.1s\n",
            "894:\tlearn: 0.2290826\ttotal: 2m 7s\tremaining: 15s\n",
            "895:\tlearn: 0.2290317\ttotal: 2m 7s\tremaining: 14.8s\n",
            "896:\tlearn: 0.2288688\ttotal: 2m 7s\tremaining: 14.7s\n",
            "897:\tlearn: 0.2287054\ttotal: 2m 7s\tremaining: 14.5s\n",
            "898:\tlearn: 0.2285443\ttotal: 2m 8s\tremaining: 14.4s\n",
            "899:\tlearn: 0.2283955\ttotal: 2m 8s\tremaining: 14.2s\n",
            "900:\tlearn: 0.2283577\ttotal: 2m 8s\tremaining: 14.1s\n",
            "901:\tlearn: 0.2283202\ttotal: 2m 8s\tremaining: 14s\n",
            "902:\tlearn: 0.2282670\ttotal: 2m 8s\tremaining: 13.8s\n",
            "903:\tlearn: 0.2282012\ttotal: 2m 8s\tremaining: 13.7s\n",
            "904:\tlearn: 0.2281638\ttotal: 2m 8s\tremaining: 13.5s\n",
            "905:\tlearn: 0.2281107\ttotal: 2m 8s\tremaining: 13.4s\n",
            "906:\tlearn: 0.2280734\ttotal: 2m 9s\tremaining: 13.2s\n",
            "907:\tlearn: 0.2280364\ttotal: 2m 9s\tremaining: 13.1s\n",
            "908:\tlearn: 0.2278689\ttotal: 2m 9s\tremaining: 12.9s\n",
            "909:\tlearn: 0.2277634\ttotal: 2m 9s\tremaining: 12.8s\n",
            "910:\tlearn: 0.2277112\ttotal: 2m 9s\tremaining: 12.7s\n",
            "911:\tlearn: 0.2276042\ttotal: 2m 9s\tremaining: 12.5s\n",
            "912:\tlearn: 0.2275673\ttotal: 2m 9s\tremaining: 12.4s\n",
            "913:\tlearn: 0.2275307\ttotal: 2m 9s\tremaining: 12.2s\n",
            "914:\tlearn: 0.2274470\ttotal: 2m 9s\tremaining: 12.1s\n",
            "915:\tlearn: 0.2273982\ttotal: 2m 10s\tremaining: 11.9s\n",
            "916:\tlearn: 0.2273619\ttotal: 2m 10s\tremaining: 11.8s\n",
            "917:\tlearn: 0.2270889\ttotal: 2m 10s\tremaining: 11.6s\n",
            "918:\tlearn: 0.2269878\ttotal: 2m 10s\tremaining: 11.5s\n",
            "919:\tlearn: 0.2269515\ttotal: 2m 10s\tremaining: 11.4s\n",
            "920:\tlearn: 0.2268674\ttotal: 2m 10s\tremaining: 11.2s\n",
            "921:\tlearn: 0.2268180\ttotal: 2m 10s\tremaining: 11.1s\n",
            "922:\tlearn: 0.2267832\ttotal: 2m 10s\tremaining: 10.9s\n",
            "923:\tlearn: 0.2266573\ttotal: 2m 11s\tremaining: 10.8s\n",
            "924:\tlearn: 0.2265905\ttotal: 2m 11s\tremaining: 10.6s\n",
            "925:\tlearn: 0.2264524\ttotal: 2m 11s\tremaining: 10.5s\n",
            "926:\tlearn: 0.2262758\ttotal: 2m 11s\tremaining: 10.4s\n",
            "927:\tlearn: 0.2261153\ttotal: 2m 11s\tremaining: 10.2s\n",
            "928:\tlearn: 0.2259954\ttotal: 2m 11s\tremaining: 10.1s\n",
            "929:\tlearn: 0.2259595\ttotal: 2m 11s\tremaining: 9.92s\n",
            "930:\tlearn: 0.2259137\ttotal: 2m 11s\tremaining: 9.78s\n",
            "931:\tlearn: 0.2257866\ttotal: 2m 12s\tremaining: 9.64s\n",
            "932:\tlearn: 0.2256582\ttotal: 2m 12s\tremaining: 9.49s\n",
            "933:\tlearn: 0.2255640\ttotal: 2m 12s\tremaining: 9.35s\n",
            "934:\tlearn: 0.2253996\ttotal: 2m 12s\tremaining: 9.21s\n",
            "935:\tlearn: 0.2253515\ttotal: 2m 12s\tremaining: 9.06s\n",
            "936:\tlearn: 0.2253156\ttotal: 2m 12s\tremaining: 8.92s\n",
            "937:\tlearn: 0.2252807\ttotal: 2m 12s\tremaining: 8.78s\n",
            "938:\tlearn: 0.2251035\ttotal: 2m 12s\tremaining: 8.63s\n",
            "939:\tlearn: 0.2249936\ttotal: 2m 13s\tremaining: 8.49s\n",
            "940:\tlearn: 0.2248550\ttotal: 2m 13s\tremaining: 8.35s\n",
            "941:\tlearn: 0.2248207\ttotal: 2m 13s\tremaining: 8.21s\n",
            "942:\tlearn: 0.2247564\ttotal: 2m 13s\tremaining: 8.06s\n",
            "943:\tlearn: 0.2247209\ttotal: 2m 13s\tremaining: 7.92s\n",
            "944:\tlearn: 0.2246194\ttotal: 2m 13s\tremaining: 7.79s\n",
            "945:\tlearn: 0.2245841\ttotal: 2m 14s\tremaining: 7.66s\n",
            "946:\tlearn: 0.2245488\ttotal: 2m 14s\tremaining: 7.53s\n",
            "947:\tlearn: 0.2244862\ttotal: 2m 14s\tremaining: 7.4s\n",
            "948:\tlearn: 0.2244365\ttotal: 2m 14s\tremaining: 7.25s\n",
            "949:\tlearn: 0.2242937\ttotal: 2m 15s\tremaining: 7.11s\n",
            "950:\tlearn: 0.2242591\ttotal: 2m 15s\tremaining: 6.97s\n",
            "951:\tlearn: 0.2241166\ttotal: 2m 15s\tremaining: 6.82s\n",
            "952:\tlearn: 0.2240681\ttotal: 2m 15s\tremaining: 6.68s\n",
            "953:\tlearn: 0.2240330\ttotal: 2m 15s\tremaining: 6.54s\n",
            "954:\tlearn: 0.2239983\ttotal: 2m 15s\tremaining: 6.39s\n",
            "955:\tlearn: 0.2239506\ttotal: 2m 15s\tremaining: 6.25s\n",
            "956:\tlearn: 0.2238796\ttotal: 2m 15s\tremaining: 6.11s\n",
            "957:\tlearn: 0.2237476\ttotal: 2m 16s\tremaining: 5.96s\n",
            "958:\tlearn: 0.2236833\ttotal: 2m 16s\tremaining: 5.82s\n",
            "959:\tlearn: 0.2234625\ttotal: 2m 16s\tremaining: 5.68s\n",
            "960:\tlearn: 0.2233248\ttotal: 2m 16s\tremaining: 5.54s\n",
            "961:\tlearn: 0.2231760\ttotal: 2m 16s\tremaining: 5.39s\n",
            "962:\tlearn: 0.2231306\ttotal: 2m 16s\tremaining: 5.25s\n",
            "963:\tlearn: 0.2230686\ttotal: 2m 16s\tremaining: 5.11s\n",
            "964:\tlearn: 0.2230339\ttotal: 2m 16s\tremaining: 4.96s\n",
            "965:\tlearn: 0.2229990\ttotal: 2m 17s\tremaining: 4.82s\n",
            "966:\tlearn: 0.2228689\ttotal: 2m 17s\tremaining: 4.68s\n",
            "967:\tlearn: 0.2228356\ttotal: 2m 17s\tremaining: 4.54s\n",
            "968:\tlearn: 0.2228010\ttotal: 2m 17s\tremaining: 4.39s\n",
            "969:\tlearn: 0.2227534\ttotal: 2m 17s\tremaining: 4.25s\n",
            "970:\tlearn: 0.2227191\ttotal: 2m 17s\tremaining: 4.11s\n",
            "971:\tlearn: 0.2225894\ttotal: 2m 17s\tremaining: 3.97s\n",
            "972:\tlearn: 0.2225427\ttotal: 2m 17s\tremaining: 3.83s\n",
            "973:\tlearn: 0.2223991\ttotal: 2m 17s\tremaining: 3.68s\n",
            "974:\tlearn: 0.2223117\ttotal: 2m 18s\tremaining: 3.54s\n",
            "975:\tlearn: 0.2222079\ttotal: 2m 18s\tremaining: 3.4s\n",
            "976:\tlearn: 0.2220601\ttotal: 2m 18s\tremaining: 3.26s\n",
            "977:\tlearn: 0.2219982\ttotal: 2m 18s\tremaining: 3.11s\n",
            "978:\tlearn: 0.2219642\ttotal: 2m 18s\tremaining: 2.97s\n",
            "979:\tlearn: 0.2218068\ttotal: 2m 18s\tremaining: 2.83s\n",
            "980:\tlearn: 0.2217742\ttotal: 2m 18s\tremaining: 2.69s\n",
            "981:\tlearn: 0.2217274\ttotal: 2m 18s\tremaining: 2.55s\n",
            "982:\tlearn: 0.2216935\ttotal: 2m 19s\tremaining: 2.4s\n",
            "983:\tlearn: 0.2216321\ttotal: 2m 19s\tremaining: 2.26s\n",
            "984:\tlearn: 0.2214418\ttotal: 2m 19s\tremaining: 2.12s\n",
            "985:\tlearn: 0.2212877\ttotal: 2m 19s\tremaining: 1.98s\n",
            "986:\tlearn: 0.2212540\ttotal: 2m 19s\tremaining: 1.84s\n",
            "987:\tlearn: 0.2211041\ttotal: 2m 19s\tremaining: 1.7s\n",
            "988:\tlearn: 0.2210706\ttotal: 2m 19s\tremaining: 1.55s\n",
            "989:\tlearn: 0.2210369\ttotal: 2m 19s\tremaining: 1.41s\n",
            "990:\tlearn: 0.2209601\ttotal: 2m 20s\tremaining: 1.27s\n",
            "991:\tlearn: 0.2209121\ttotal: 2m 20s\tremaining: 1.13s\n",
            "992:\tlearn: 0.2207342\ttotal: 2m 20s\tremaining: 989ms\n",
            "993:\tlearn: 0.2205724\ttotal: 2m 20s\tremaining: 847ms\n",
            "994:\tlearn: 0.2205267\ttotal: 2m 20s\tremaining: 706ms\n",
            "995:\tlearn: 0.2203775\ttotal: 2m 20s\tremaining: 565ms\n",
            "996:\tlearn: 0.2202268\ttotal: 2m 20s\tremaining: 424ms\n",
            "997:\tlearn: 0.2200759\ttotal: 2m 20s\tremaining: 282ms\n",
            "998:\tlearn: 0.2200297\ttotal: 2m 20s\tremaining: 141ms\n",
            "999:\tlearn: 0.2199962\ttotal: 2m 21s\tremaining: 0us\n"
          ]
        }
      ]
    },
    {
      "cell_type": "code",
      "source": [
        "#Check the test score and train score to the model\n",
        "print(f'The CatBoostClassifier model test score is {clf.score(X_test,y_test)*100:.2f}')\n",
        "#Train score for the data\n",
        "print(f'The CatBoostClassifier model train scores is {clf.score(X_train,y_train)*100:.2f}')\n",
        "#Check the accuracy_score to the model\n",
        "print(f'The CatBoostClassifier accuracy_score {accuracy_score(y_test,clf_pred)*100:.2f}')"
      ],
      "metadata": {
        "colab": {
          "base_uri": "https://localhost:8080/"
        },
        "id": "PDA0NLm9aCZQ",
        "outputId": "eca5a031-e933-4415-b413-20a3f6de50e4"
      },
      "execution_count": 54,
      "outputs": [
        {
          "output_type": "stream",
          "name": "stdout",
          "text": [
            "The CatBoostClassifier model test score is 86.12\n",
            "The CatBoostClassifier model train scores is 91.89\n",
            "The CatBoostClassifier accuracy_score 86.12\n"
          ]
        }
      ]
    },
    {
      "cell_type": "code",
      "source": [
        "#Classification report\n",
        "print(classification_report(y_test,clf_pred))\n",
        "#confusion_matrix\n",
        "cn=confusion_matrix(y_test,clf_pred)\n",
        "sns.set(rc={'figure.figsize':(10,5)})\n",
        "sns.heatmap(cn,annot=True,cmap='Reds',xticklabels=['Positive','Negative'],yticklabels=['Positive','Negative'])"
      ],
      "metadata": {
        "colab": {
          "base_uri": "https://localhost:8080/",
          "height": 496
        },
        "id": "Yqt4I5vwaH-U",
        "outputId": "95fe2987-5647-41e6-ba13-43cc6a419d8c"
      },
      "execution_count": 55,
      "outputs": [
        {
          "output_type": "stream",
          "name": "stdout",
          "text": [
            "              precision    recall  f1-score   support\n",
            "\n",
            "           0       0.89      0.94      0.91       781\n",
            "           1       0.76      0.62      0.68       249\n",
            "\n",
            "    accuracy                           0.86      1030\n",
            "   macro avg       0.82      0.78      0.80      1030\n",
            "weighted avg       0.86      0.86      0.86      1030\n",
            "\n"
          ]
        },
        {
          "output_type": "execute_result",
          "data": {
            "text/plain": [
              "<matplotlib.axes._subplots.AxesSubplot at 0x7fcbf07304d0>"
            ]
          },
          "metadata": {},
          "execution_count": 55
        },
        {
          "output_type": "display_data",
          "data": {
            "text/plain": [
              "<Figure size 720x360 with 2 Axes>"
            ],
            "image/png": "[encoded data removed]"
          },
          "metadata": {}
        }
      ]
    },
    {
      "cell_type": "code",
      "source": [
        "#install the Kneighborsclassifier from the sklearn\n",
        "from sklearn.neighbors import KNeighborsClassifier\n",
        "#Install the KNeighborsClassifier\n",
        "knn = KNeighborsClassifier()\n",
        "#And the fit the training dataset\n",
        "knn.fit(X_train, y_train)\n",
        "#Prediction of the KNeighborsClassifier\n",
        "knn_pred=knn.predict(X_test)"
      ],
      "metadata": {
        "id": "2-WuzQi7aX0L"
      },
      "execution_count": 56,
      "outputs": []
    },
    {
      "cell_type": "code",
      "source": [
        "#Check the test score and train score to the model\n",
        "print(f'The KNeighborsClassifier model test score is {knn.score(X_test,y_test)*100:.2f}')\n",
        "#Train score for the data\n",
        "print(f'The KNeighborsClassifier model train scores is {knn.score(X_train,y_train)*100:.2f}')\n",
        "#Check the accuracy_score to the model\n",
        "print(f'The KNeighborsClassifier accuracy_score {accuracy_score(y_test,knn_pred)*100:.2f}')"
      ],
      "metadata": {
        "colab": {
          "base_uri": "https://localhost:8080/"
        },
        "id": "fl76pyLgo4a6",
        "outputId": "8713447f-8e1b-478d-fcea-efb818de883b"
      },
      "execution_count": 57,
      "outputs": [
        {
          "output_type": "stream",
          "name": "stdout",
          "text": [
            "The KNeighborsClassifier model test score is 86.60\n",
            "The KNeighborsClassifier model train scores is 91.04\n",
            "The KNeighborsClassifier accuracy_score 86.60\n"
          ]
        }
      ]
    },
    {
      "cell_type": "code",
      "source": [
        "#Classification report\n",
        "print(classification_report(y_test,knn_pred))\n",
        "#confusion_matrix\n",
        "cn=confusion_matrix(y_test,knn_pred)\n",
        "sns.set(rc={'figure.figsize':(10,5)})\n",
        "sns.heatmap(cn,annot=True,cmap='autumn',xticklabels=['Positive','Negative'],yticklabels=['Positive','Negative'])"
      ],
      "metadata": {
        "colab": {
          "base_uri": "https://localhost:8080/",
          "height": 496
        },
        "id": "7wtnb4_ao_dx",
        "outputId": "b658c79b-fdec-4671-9ba0-09b8b8996ac3"
      },
      "execution_count": 58,
      "outputs": [
        {
          "output_type": "stream",
          "name": "stdout",
          "text": [
            "              precision    recall  f1-score   support\n",
            "\n",
            "           0       0.94      0.88      0.91       781\n",
            "           1       0.69      0.82      0.75       249\n",
            "\n",
            "    accuracy                           0.87      1030\n",
            "   macro avg       0.81      0.85      0.83      1030\n",
            "weighted avg       0.88      0.87      0.87      1030\n",
            "\n"
          ]
        },
        {
          "output_type": "execute_result",
          "data": {
            "text/plain": [
              "<matplotlib.axes._subplots.AxesSubplot at 0x7fcbe454b950>"
            ]
          },
          "metadata": {},
          "execution_count": 58
        },
        {
          "output_type": "display_data",
          "data": {
            "text/plain": [
              "<Figure size 720x360 with 2 Axes>"
            ],
            "image/png": "[encoded data removed]"
          },
          "metadata": {}
        }
      ]
    },
    {
      "cell_type": "code",
      "source": [
        "# Fit a support vector classifier model to the train dataset\n",
        "#import SVC\n",
        "from sklearn.svm import SVC\n",
        "# Instantiate the model\n",
        "svc =SVC()\n",
        "#fit the model on train data\n",
        "svc.fit(X_train,y_train)\n",
        "#Prediction of the support vector classifier\n",
        "svc_pred=svc.predict(X_test)\n"
      ],
      "metadata": {
        "id": "hTYISO6rpJgr"
      },
      "execution_count": 59,
      "outputs": []
    },
    {
      "cell_type": "code",
      "source": [
        "#Check the test score and train score to the model\n",
        "print(f'The support vector classifier model test score is {svc.score(X_test,y_test)*100:.2f}')\n",
        "#Train score for the data\n",
        "print(f'The support vector classifier model train scores is {svc.score(X_train,y_train)*100:.2f}')\n",
        "#Check the accuracy_score to the model\n",
        "print(f'The support vector classifier accuracy_score {accuracy_score(y_test,svc_pred)*100:.2f}')\n"
      ],
      "metadata": {
        "colab": {
          "base_uri": "https://localhost:8080/"
        },
        "id": "dJ4futJkpV8r",
        "outputId": "02fa6bd0-bc32-4f5e-d9bc-365206cc49db"
      },
      "execution_count": 60,
      "outputs": [
        {
          "output_type": "stream",
          "name": "stdout",
          "text": [
            "The support vector classifier model test score is 87.18\n",
            "The support vector classifier model train scores is 98.94\n",
            "The support vector classifier accuracy_score 87.18\n"
          ]
        }
      ]
    },
    {
      "cell_type": "code",
      "source": [
        "\n",
        "#Classification report\n",
        "print(classification_report(y_test,svc_pred))\n",
        "#confusion_matrix\n",
        "cn=confusion_matrix(y_test,svc_pred)\n",
        "sns.set(rc={'figure.figsize':(10,5)})\n",
        "sns.heatmap(cn,annot=True,cmap='jet',xticklabels=['Positive','Negative'],yticklabels=['Positive','Negative'])\n"
      ],
      "metadata": {
        "colab": {
          "base_uri": "https://localhost:8080/",
          "height": 496
        },
        "id": "ewoCUAvdpnvg",
        "outputId": "f0a479f8-01d6-439e-de19-6178ea93b4bd"
      },
      "execution_count": 61,
      "outputs": [
        {
          "output_type": "stream",
          "name": "stdout",
          "text": [
            "              precision    recall  f1-score   support\n",
            "\n",
            "           0       0.90      0.93      0.92       781\n",
            "           1       0.77      0.67      0.72       249\n",
            "\n",
            "    accuracy                           0.87      1030\n",
            "   macro avg       0.83      0.80      0.82      1030\n",
            "weighted avg       0.87      0.87      0.87      1030\n",
            "\n"
          ]
        },
        {
          "output_type": "execute_result",
          "data": {
            "text/plain": [
              "<matplotlib.axes._subplots.AxesSubplot at 0x7fcbe4492d50>"
            ]
          },
          "metadata": {},
          "execution_count": 61
        },
        {
          "output_type": "display_data",
          "data": {
            "text/plain": [
              "<Figure size 720x360 with 2 Axes>"
            ],
            "image/png": "[encoded data removed]"
          },
          "metadata": {}
        }
      ]
    },
    {
      "cell_type": "code",
      "source": [
        "from lightgbm import LGBMClassifier\n",
        "#install the LGBMClassifier\n",
        "lgh=LGBMClassifier()\n",
        "#fit the train data to the model\n",
        "lgh.fit(X_train,y_train)\n",
        "#Prdiction\n",
        "lgh_pred=lgh.predict(X_test)"
      ],
      "metadata": {
        "id": "MzQPYYxlpyO5"
      },
      "execution_count": 62,
      "outputs": []
    },
    {
      "cell_type": "code",
      "source": [
        "#Check the test score and train score to the model\n",
        "print(f'The LGBMClassifier model test score is {lgh.score(X_test,y_test)*100:.2f}')\n",
        "#Train score for the data\n",
        "print(f'The LGBMClassifier model train scores is {lgh.score(X_train,y_train)*100:.2f}')\n",
        "#Check the accuracy_score to the model\n",
        "print(f'The LGBMClassifier accuracy_score {accuracy_score(y_test,lgh_pred)*100:.2f}')\n"
      ],
      "metadata": {
        "colab": {
          "base_uri": "https://localhost:8080/"
        },
        "id": "S-BKsUjGdVv5",
        "outputId": "528376c2-4b62-4d36-eae2-31c32463f11a"
      },
      "execution_count": 63,
      "outputs": [
        {
          "output_type": "stream",
          "name": "stdout",
          "text": [
            "The LGBMClassifier model test score is 86.31\n",
            "The LGBMClassifier model train scores is 93.88\n",
            "The LGBMClassifier accuracy_score 86.31\n"
          ]
        }
      ]
    },
    {
      "cell_type": "code",
      "source": [
        "#Classification report\n",
        "print(classification_report(y_test,lgh_pred))\n",
        "#confusion_matrix\n",
        "cn=confusion_matrix(y_test,lgh_pred)\n",
        "sns.set(rc={'figure.figsize':(10,5)})\n",
        "sns.heatmap(cn,annot=True,cmap='jet',xticklabels=['Positive','Negative'],yticklabels=['Positive','Negative'])\n"
      ],
      "metadata": {
        "colab": {
          "base_uri": "https://localhost:8080/",
          "height": 496
        },
        "id": "Q99-G6QWdgvu",
        "outputId": "eeca33c5-0f3b-4cb1-d4cd-d4d8f6334ea6"
      },
      "execution_count": 64,
      "outputs": [
        {
          "output_type": "stream",
          "name": "stdout",
          "text": [
            "              precision    recall  f1-score   support\n",
            "\n",
            "           0       0.91      0.91      0.91       781\n",
            "           1       0.72      0.71      0.72       249\n",
            "\n",
            "    accuracy                           0.86      1030\n",
            "   macro avg       0.81      0.81      0.81      1030\n",
            "weighted avg       0.86      0.86      0.86      1030\n",
            "\n"
          ]
        },
        {
          "output_type": "execute_result",
          "data": {
            "text/plain": [
              "<matplotlib.axes._subplots.AxesSubplot at 0x7fcbe3ae2410>"
            ]
          },
          "metadata": {},
          "execution_count": 64
        },
        {
          "output_type": "display_data",
          "data": {
            "text/plain": [
              "<Figure size 720x360 with 2 Axes>"
            ],
            "image/png": "[encoded data removed]"
          },
          "metadata": {}
        }
      ]
    },
    {
      "cell_type": "code",
      "source": [
        "test.columns"
      ],
      "metadata": {
        "colab": {
          "base_uri": "https://localhost:8080/"
        },
        "id": "PXdJaFFodzxN",
        "outputId": "92602c06-7bd5-473a-d566-27d13b2f25b4"
      },
      "execution_count": 65,
      "outputs": [
        {
          "output_type": "execute_result",
          "data": {
            "text/plain": [
              "Index(['id', 'tweet'], dtype='object')"
            ]
          },
          "metadata": {},
          "execution_count": 65
        }
      ]
    },
    {
      "cell_type": "code",
      "source": [
        "test_pred=vector.transform(test_pred)"
      ],
      "metadata": {
        "id": "5bC5tmN8AZx1"
      },
      "execution_count": 68,
      "outputs": []
    },
    {
      "cell_type": "code",
      "source": [
        "#Predictions of the test dataset\n",
        "label=svc.predict(test_pred)\n",
        "label"
      ],
      "metadata": {
        "colab": {
          "base_uri": "https://localhost:8080/"
        },
        "id": "uf2yUfQnfxzX",
        "outputId": "81ee9a3f-9815-48b4-809a-30c42b5fbdc4"
      },
      "execution_count": 69,
      "outputs": [
        {
          "output_type": "execute_result",
          "data": {
            "text/plain": [
              "array([1, 1, 1, ..., 1, 1, 0])"
            ]
          },
          "metadata": {},
          "execution_count": 69
        }
      ]
    },
    {
      "cell_type": "code",
      "source": [
        "submission=pd.DataFrame({'id':id,'label':label})\n",
        "submission.to_csv('Sentimental.csv',index=False)"
      ],
      "metadata": {
        "id": "gudoMhxAf9ZW"
      },
      "execution_count": 74,
      "outputs": []
    },
    {
      "cell_type": "code",
      "source": [],
      "metadata": {
        "id": "AyRWOcdeAkhk"
      },
      "execution_count": null,
      "outputs": []
    }
  ]
}